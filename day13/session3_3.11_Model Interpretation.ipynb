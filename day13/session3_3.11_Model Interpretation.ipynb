{
 "cells": [
  {
   "cell_type": "code",
   "execution_count": 1,
   "source": [
    "import numpy as np\r\n",
    "import pandas as pd\r\n",
    "\r\n",
    "import matplotlib.pyplot as plt"
   ],
   "outputs": [],
   "metadata": {}
  },
  {
   "cell_type": "code",
   "execution_count": 2,
   "source": [
    "data = 'https://raw.githubusercontent.com/alexeygrigorev/mlbookcamp-code/master/chapter-03-churn-prediction/WA_Fn-UseC_-Telco-Customer-Churn.csv'"
   ],
   "outputs": [],
   "metadata": {}
  },
  {
   "cell_type": "code",
   "execution_count": 3,
   "source": [
    "!wget $data -O data-week-3.csv"
   ],
   "outputs": [
    {
     "output_type": "stream",
     "name": "stderr",
     "text": [
      "--2021-09-23 15:27:59--  https://raw.githubusercontent.com/alexeygrigorev/mlbookcamp-code/master/chapter-03-churn-prediction/WA_Fn-UseC_-Telco-Customer-Churn.csv\n",
      "Resolving raw.githubusercontent.com (raw.githubusercontent.com)... 185.199.108.133, 185.199.109.133, 185.199.110.133, ...\n",
      "Connecting to raw.githubusercontent.com (raw.githubusercontent.com)|185.199.108.133|:443... connected.\n",
      "HTTP request sent, awaiting response... 200 OK\n",
      "Length: 977501 (955K) [text/plain]\n",
      "Saving to: 'data-week-3.csv'\n",
      "\n",
      "     0K .......... .......... .......... .......... ..........  5% 1.84M 0s\n",
      "    50K .......... .......... .......... .......... .......... 10% 2.83M 0s\n",
      "   100K .......... .......... .......... .......... .......... 15% 4.32M 0s\n",
      "   150K .......... .......... .......... .......... .......... 20% 4.44M 0s\n",
      "   200K .......... .......... .......... .......... .......... 26% 3.83M 0s\n",
      "   250K .......... .......... .......... .......... .......... 31% 4.70M 0s\n",
      "   300K .......... .......... .......... .......... .......... 36% 4.48M 0s\n",
      "   350K .......... .......... .......... .......... .......... 41% 3.39M 0s\n",
      "   400K .......... .......... .......... .......... .......... 47% 4.76M 0s\n",
      "   450K .......... .......... .......... .......... .......... 52% 4.97M 0s\n",
      "   500K .......... .......... .......... .......... .......... 57% 4.65M 0s\n",
      "   550K .......... .......... .......... .......... .......... 62% 3.06M 0s\n",
      "   600K .......... .......... .......... .......... .......... 68% 3.05M 0s\n",
      "   650K .......... .......... .......... .......... .......... 73% 6.41M 0s\n",
      "   700K .......... .......... .......... .......... .......... 78% 4.98M 0s\n",
      "   750K .......... .......... .......... .......... .......... 83% 4.62M 0s\n",
      "   800K .......... .......... .......... .......... .......... 89% 5.05M 0s\n",
      "   850K .......... .......... .......... .......... .......... 94% 6.54M 0s\n",
      "   900K .......... .......... .......... .......... .......... 99% 6.41M 0s\n",
      "   950K ....                                                  100% 40.1M=0.2s\n",
      "\n",
      "2021-09-23 15:28:00 (4.06 MB/s) - 'data-week-3.csv' saved [977501/977501]\n",
      "\n"
     ]
    }
   ],
   "metadata": {}
  },
  {
   "cell_type": "code",
   "execution_count": 4,
   "source": [
    "df = pd.read_csv('data-week-3.csv')\r\n",
    "df.head()"
   ],
   "outputs": [
    {
     "output_type": "execute_result",
     "data": {
      "text/html": [
       "<div>\n",
       "<style scoped>\n",
       "    .dataframe tbody tr th:only-of-type {\n",
       "        vertical-align: middle;\n",
       "    }\n",
       "\n",
       "    .dataframe tbody tr th {\n",
       "        vertical-align: top;\n",
       "    }\n",
       "\n",
       "    .dataframe thead th {\n",
       "        text-align: right;\n",
       "    }\n",
       "</style>\n",
       "<table border=\"1\" class=\"dataframe\">\n",
       "  <thead>\n",
       "    <tr style=\"text-align: right;\">\n",
       "      <th></th>\n",
       "      <th>customerID</th>\n",
       "      <th>gender</th>\n",
       "      <th>SeniorCitizen</th>\n",
       "      <th>Partner</th>\n",
       "      <th>Dependents</th>\n",
       "      <th>tenure</th>\n",
       "      <th>PhoneService</th>\n",
       "      <th>MultipleLines</th>\n",
       "      <th>InternetService</th>\n",
       "      <th>OnlineSecurity</th>\n",
       "      <th>...</th>\n",
       "      <th>DeviceProtection</th>\n",
       "      <th>TechSupport</th>\n",
       "      <th>StreamingTV</th>\n",
       "      <th>StreamingMovies</th>\n",
       "      <th>Contract</th>\n",
       "      <th>PaperlessBilling</th>\n",
       "      <th>PaymentMethod</th>\n",
       "      <th>MonthlyCharges</th>\n",
       "      <th>TotalCharges</th>\n",
       "      <th>Churn</th>\n",
       "    </tr>\n",
       "  </thead>\n",
       "  <tbody>\n",
       "    <tr>\n",
       "      <th>0</th>\n",
       "      <td>7590-VHVEG</td>\n",
       "      <td>Female</td>\n",
       "      <td>0</td>\n",
       "      <td>Yes</td>\n",
       "      <td>No</td>\n",
       "      <td>1</td>\n",
       "      <td>No</td>\n",
       "      <td>No phone service</td>\n",
       "      <td>DSL</td>\n",
       "      <td>No</td>\n",
       "      <td>...</td>\n",
       "      <td>No</td>\n",
       "      <td>No</td>\n",
       "      <td>No</td>\n",
       "      <td>No</td>\n",
       "      <td>Month-to-month</td>\n",
       "      <td>Yes</td>\n",
       "      <td>Electronic check</td>\n",
       "      <td>29.85</td>\n",
       "      <td>29.85</td>\n",
       "      <td>No</td>\n",
       "    </tr>\n",
       "    <tr>\n",
       "      <th>1</th>\n",
       "      <td>5575-GNVDE</td>\n",
       "      <td>Male</td>\n",
       "      <td>0</td>\n",
       "      <td>No</td>\n",
       "      <td>No</td>\n",
       "      <td>34</td>\n",
       "      <td>Yes</td>\n",
       "      <td>No</td>\n",
       "      <td>DSL</td>\n",
       "      <td>Yes</td>\n",
       "      <td>...</td>\n",
       "      <td>Yes</td>\n",
       "      <td>No</td>\n",
       "      <td>No</td>\n",
       "      <td>No</td>\n",
       "      <td>One year</td>\n",
       "      <td>No</td>\n",
       "      <td>Mailed check</td>\n",
       "      <td>56.95</td>\n",
       "      <td>1889.5</td>\n",
       "      <td>No</td>\n",
       "    </tr>\n",
       "    <tr>\n",
       "      <th>2</th>\n",
       "      <td>3668-QPYBK</td>\n",
       "      <td>Male</td>\n",
       "      <td>0</td>\n",
       "      <td>No</td>\n",
       "      <td>No</td>\n",
       "      <td>2</td>\n",
       "      <td>Yes</td>\n",
       "      <td>No</td>\n",
       "      <td>DSL</td>\n",
       "      <td>Yes</td>\n",
       "      <td>...</td>\n",
       "      <td>No</td>\n",
       "      <td>No</td>\n",
       "      <td>No</td>\n",
       "      <td>No</td>\n",
       "      <td>Month-to-month</td>\n",
       "      <td>Yes</td>\n",
       "      <td>Mailed check</td>\n",
       "      <td>53.85</td>\n",
       "      <td>108.15</td>\n",
       "      <td>Yes</td>\n",
       "    </tr>\n",
       "    <tr>\n",
       "      <th>3</th>\n",
       "      <td>7795-CFOCW</td>\n",
       "      <td>Male</td>\n",
       "      <td>0</td>\n",
       "      <td>No</td>\n",
       "      <td>No</td>\n",
       "      <td>45</td>\n",
       "      <td>No</td>\n",
       "      <td>No phone service</td>\n",
       "      <td>DSL</td>\n",
       "      <td>Yes</td>\n",
       "      <td>...</td>\n",
       "      <td>Yes</td>\n",
       "      <td>Yes</td>\n",
       "      <td>No</td>\n",
       "      <td>No</td>\n",
       "      <td>One year</td>\n",
       "      <td>No</td>\n",
       "      <td>Bank transfer (automatic)</td>\n",
       "      <td>42.30</td>\n",
       "      <td>1840.75</td>\n",
       "      <td>No</td>\n",
       "    </tr>\n",
       "    <tr>\n",
       "      <th>4</th>\n",
       "      <td>9237-HQITU</td>\n",
       "      <td>Female</td>\n",
       "      <td>0</td>\n",
       "      <td>No</td>\n",
       "      <td>No</td>\n",
       "      <td>2</td>\n",
       "      <td>Yes</td>\n",
       "      <td>No</td>\n",
       "      <td>Fiber optic</td>\n",
       "      <td>No</td>\n",
       "      <td>...</td>\n",
       "      <td>No</td>\n",
       "      <td>No</td>\n",
       "      <td>No</td>\n",
       "      <td>No</td>\n",
       "      <td>Month-to-month</td>\n",
       "      <td>Yes</td>\n",
       "      <td>Electronic check</td>\n",
       "      <td>70.70</td>\n",
       "      <td>151.65</td>\n",
       "      <td>Yes</td>\n",
       "    </tr>\n",
       "  </tbody>\n",
       "</table>\n",
       "<p>5 rows × 21 columns</p>\n",
       "</div>"
      ],
      "text/plain": [
       "   customerID  gender  SeniorCitizen Partner Dependents  tenure PhoneService  \\\n",
       "0  7590-VHVEG  Female              0     Yes         No       1           No   \n",
       "1  5575-GNVDE    Male              0      No         No      34          Yes   \n",
       "2  3668-QPYBK    Male              0      No         No       2          Yes   \n",
       "3  7795-CFOCW    Male              0      No         No      45           No   \n",
       "4  9237-HQITU  Female              0      No         No       2          Yes   \n",
       "\n",
       "      MultipleLines InternetService OnlineSecurity  ... DeviceProtection  \\\n",
       "0  No phone service             DSL             No  ...               No   \n",
       "1                No             DSL            Yes  ...              Yes   \n",
       "2                No             DSL            Yes  ...               No   \n",
       "3  No phone service             DSL            Yes  ...              Yes   \n",
       "4                No     Fiber optic             No  ...               No   \n",
       "\n",
       "  TechSupport StreamingTV StreamingMovies        Contract PaperlessBilling  \\\n",
       "0          No          No              No  Month-to-month              Yes   \n",
       "1          No          No              No        One year               No   \n",
       "2          No          No              No  Month-to-month              Yes   \n",
       "3         Yes          No              No        One year               No   \n",
       "4          No          No              No  Month-to-month              Yes   \n",
       "\n",
       "               PaymentMethod MonthlyCharges  TotalCharges Churn  \n",
       "0           Electronic check          29.85         29.85    No  \n",
       "1               Mailed check          56.95        1889.5    No  \n",
       "2               Mailed check          53.85        108.15   Yes  \n",
       "3  Bank transfer (automatic)          42.30       1840.75    No  \n",
       "4           Electronic check          70.70        151.65   Yes  \n",
       "\n",
       "[5 rows x 21 columns]"
      ]
     },
     "metadata": {},
     "execution_count": 4
    }
   ],
   "metadata": {}
  },
  {
   "cell_type": "code",
   "execution_count": 5,
   "source": [
    "df.head().T"
   ],
   "outputs": [
    {
     "output_type": "execute_result",
     "data": {
      "text/html": [
       "<div>\n",
       "<style scoped>\n",
       "    .dataframe tbody tr th:only-of-type {\n",
       "        vertical-align: middle;\n",
       "    }\n",
       "\n",
       "    .dataframe tbody tr th {\n",
       "        vertical-align: top;\n",
       "    }\n",
       "\n",
       "    .dataframe thead th {\n",
       "        text-align: right;\n",
       "    }\n",
       "</style>\n",
       "<table border=\"1\" class=\"dataframe\">\n",
       "  <thead>\n",
       "    <tr style=\"text-align: right;\">\n",
       "      <th></th>\n",
       "      <th>0</th>\n",
       "      <th>1</th>\n",
       "      <th>2</th>\n",
       "      <th>3</th>\n",
       "      <th>4</th>\n",
       "    </tr>\n",
       "  </thead>\n",
       "  <tbody>\n",
       "    <tr>\n",
       "      <th>customerID</th>\n",
       "      <td>7590-VHVEG</td>\n",
       "      <td>5575-GNVDE</td>\n",
       "      <td>3668-QPYBK</td>\n",
       "      <td>7795-CFOCW</td>\n",
       "      <td>9237-HQITU</td>\n",
       "    </tr>\n",
       "    <tr>\n",
       "      <th>gender</th>\n",
       "      <td>Female</td>\n",
       "      <td>Male</td>\n",
       "      <td>Male</td>\n",
       "      <td>Male</td>\n",
       "      <td>Female</td>\n",
       "    </tr>\n",
       "    <tr>\n",
       "      <th>SeniorCitizen</th>\n",
       "      <td>0</td>\n",
       "      <td>0</td>\n",
       "      <td>0</td>\n",
       "      <td>0</td>\n",
       "      <td>0</td>\n",
       "    </tr>\n",
       "    <tr>\n",
       "      <th>Partner</th>\n",
       "      <td>Yes</td>\n",
       "      <td>No</td>\n",
       "      <td>No</td>\n",
       "      <td>No</td>\n",
       "      <td>No</td>\n",
       "    </tr>\n",
       "    <tr>\n",
       "      <th>Dependents</th>\n",
       "      <td>No</td>\n",
       "      <td>No</td>\n",
       "      <td>No</td>\n",
       "      <td>No</td>\n",
       "      <td>No</td>\n",
       "    </tr>\n",
       "    <tr>\n",
       "      <th>tenure</th>\n",
       "      <td>1</td>\n",
       "      <td>34</td>\n",
       "      <td>2</td>\n",
       "      <td>45</td>\n",
       "      <td>2</td>\n",
       "    </tr>\n",
       "    <tr>\n",
       "      <th>PhoneService</th>\n",
       "      <td>No</td>\n",
       "      <td>Yes</td>\n",
       "      <td>Yes</td>\n",
       "      <td>No</td>\n",
       "      <td>Yes</td>\n",
       "    </tr>\n",
       "    <tr>\n",
       "      <th>MultipleLines</th>\n",
       "      <td>No phone service</td>\n",
       "      <td>No</td>\n",
       "      <td>No</td>\n",
       "      <td>No phone service</td>\n",
       "      <td>No</td>\n",
       "    </tr>\n",
       "    <tr>\n",
       "      <th>InternetService</th>\n",
       "      <td>DSL</td>\n",
       "      <td>DSL</td>\n",
       "      <td>DSL</td>\n",
       "      <td>DSL</td>\n",
       "      <td>Fiber optic</td>\n",
       "    </tr>\n",
       "    <tr>\n",
       "      <th>OnlineSecurity</th>\n",
       "      <td>No</td>\n",
       "      <td>Yes</td>\n",
       "      <td>Yes</td>\n",
       "      <td>Yes</td>\n",
       "      <td>No</td>\n",
       "    </tr>\n",
       "    <tr>\n",
       "      <th>OnlineBackup</th>\n",
       "      <td>Yes</td>\n",
       "      <td>No</td>\n",
       "      <td>Yes</td>\n",
       "      <td>No</td>\n",
       "      <td>No</td>\n",
       "    </tr>\n",
       "    <tr>\n",
       "      <th>DeviceProtection</th>\n",
       "      <td>No</td>\n",
       "      <td>Yes</td>\n",
       "      <td>No</td>\n",
       "      <td>Yes</td>\n",
       "      <td>No</td>\n",
       "    </tr>\n",
       "    <tr>\n",
       "      <th>TechSupport</th>\n",
       "      <td>No</td>\n",
       "      <td>No</td>\n",
       "      <td>No</td>\n",
       "      <td>Yes</td>\n",
       "      <td>No</td>\n",
       "    </tr>\n",
       "    <tr>\n",
       "      <th>StreamingTV</th>\n",
       "      <td>No</td>\n",
       "      <td>No</td>\n",
       "      <td>No</td>\n",
       "      <td>No</td>\n",
       "      <td>No</td>\n",
       "    </tr>\n",
       "    <tr>\n",
       "      <th>StreamingMovies</th>\n",
       "      <td>No</td>\n",
       "      <td>No</td>\n",
       "      <td>No</td>\n",
       "      <td>No</td>\n",
       "      <td>No</td>\n",
       "    </tr>\n",
       "    <tr>\n",
       "      <th>Contract</th>\n",
       "      <td>Month-to-month</td>\n",
       "      <td>One year</td>\n",
       "      <td>Month-to-month</td>\n",
       "      <td>One year</td>\n",
       "      <td>Month-to-month</td>\n",
       "    </tr>\n",
       "    <tr>\n",
       "      <th>PaperlessBilling</th>\n",
       "      <td>Yes</td>\n",
       "      <td>No</td>\n",
       "      <td>Yes</td>\n",
       "      <td>No</td>\n",
       "      <td>Yes</td>\n",
       "    </tr>\n",
       "    <tr>\n",
       "      <th>PaymentMethod</th>\n",
       "      <td>Electronic check</td>\n",
       "      <td>Mailed check</td>\n",
       "      <td>Mailed check</td>\n",
       "      <td>Bank transfer (automatic)</td>\n",
       "      <td>Electronic check</td>\n",
       "    </tr>\n",
       "    <tr>\n",
       "      <th>MonthlyCharges</th>\n",
       "      <td>29.85</td>\n",
       "      <td>56.95</td>\n",
       "      <td>53.85</td>\n",
       "      <td>42.3</td>\n",
       "      <td>70.7</td>\n",
       "    </tr>\n",
       "    <tr>\n",
       "      <th>TotalCharges</th>\n",
       "      <td>29.85</td>\n",
       "      <td>1889.5</td>\n",
       "      <td>108.15</td>\n",
       "      <td>1840.75</td>\n",
       "      <td>151.65</td>\n",
       "    </tr>\n",
       "    <tr>\n",
       "      <th>Churn</th>\n",
       "      <td>No</td>\n",
       "      <td>No</td>\n",
       "      <td>Yes</td>\n",
       "      <td>No</td>\n",
       "      <td>Yes</td>\n",
       "    </tr>\n",
       "  </tbody>\n",
       "</table>\n",
       "</div>"
      ],
      "text/plain": [
       "                                 0             1               2  \\\n",
       "customerID              7590-VHVEG    5575-GNVDE      3668-QPYBK   \n",
       "gender                      Female          Male            Male   \n",
       "SeniorCitizen                    0             0               0   \n",
       "Partner                        Yes            No              No   \n",
       "Dependents                      No            No              No   \n",
       "tenure                           1            34               2   \n",
       "PhoneService                    No           Yes             Yes   \n",
       "MultipleLines     No phone service            No              No   \n",
       "InternetService                DSL           DSL             DSL   \n",
       "OnlineSecurity                  No           Yes             Yes   \n",
       "OnlineBackup                   Yes            No             Yes   \n",
       "DeviceProtection                No           Yes              No   \n",
       "TechSupport                     No            No              No   \n",
       "StreamingTV                     No            No              No   \n",
       "StreamingMovies                 No            No              No   \n",
       "Contract            Month-to-month      One year  Month-to-month   \n",
       "PaperlessBilling               Yes            No             Yes   \n",
       "PaymentMethod     Electronic check  Mailed check    Mailed check   \n",
       "MonthlyCharges               29.85         56.95           53.85   \n",
       "TotalCharges                 29.85        1889.5          108.15   \n",
       "Churn                           No            No             Yes   \n",
       "\n",
       "                                          3                 4  \n",
       "customerID                       7795-CFOCW        9237-HQITU  \n",
       "gender                                 Male            Female  \n",
       "SeniorCitizen                             0                 0  \n",
       "Partner                                  No                No  \n",
       "Dependents                               No                No  \n",
       "tenure                                   45                 2  \n",
       "PhoneService                             No               Yes  \n",
       "MultipleLines              No phone service                No  \n",
       "InternetService                         DSL       Fiber optic  \n",
       "OnlineSecurity                          Yes                No  \n",
       "OnlineBackup                             No                No  \n",
       "DeviceProtection                        Yes                No  \n",
       "TechSupport                             Yes                No  \n",
       "StreamingTV                              No                No  \n",
       "StreamingMovies                          No                No  \n",
       "Contract                           One year    Month-to-month  \n",
       "PaperlessBilling                         No               Yes  \n",
       "PaymentMethod     Bank transfer (automatic)  Electronic check  \n",
       "MonthlyCharges                         42.3              70.7  \n",
       "TotalCharges                        1840.75            151.65  \n",
       "Churn                                    No               Yes  "
      ]
     },
     "metadata": {},
     "execution_count": 5
    }
   ],
   "metadata": {}
  },
  {
   "cell_type": "code",
   "execution_count": 6,
   "source": [
    "df.columns"
   ],
   "outputs": [
    {
     "output_type": "execute_result",
     "data": {
      "text/plain": [
       "Index(['customerID', 'gender', 'SeniorCitizen', 'Partner', 'Dependents',\n",
       "       'tenure', 'PhoneService', 'MultipleLines', 'InternetService',\n",
       "       'OnlineSecurity', 'OnlineBackup', 'DeviceProtection', 'TechSupport',\n",
       "       'StreamingTV', 'StreamingMovies', 'Contract', 'PaperlessBilling',\n",
       "       'PaymentMethod', 'MonthlyCharges', 'TotalCharges', 'Churn'],\n",
       "      dtype='object')"
      ]
     },
     "metadata": {},
     "execution_count": 6
    }
   ],
   "metadata": {}
  },
  {
   "cell_type": "code",
   "execution_count": 7,
   "source": [
    "df.columns = df.columns.str.lower().str.replace(' ','_')"
   ],
   "outputs": [],
   "metadata": {}
  },
  {
   "cell_type": "code",
   "execution_count": 8,
   "source": [
    "df.columns"
   ],
   "outputs": [
    {
     "output_type": "execute_result",
     "data": {
      "text/plain": [
       "Index(['customerid', 'gender', 'seniorcitizen', 'partner', 'dependents',\n",
       "       'tenure', 'phoneservice', 'multiplelines', 'internetservice',\n",
       "       'onlinesecurity', 'onlinebackup', 'deviceprotection', 'techsupport',\n",
       "       'streamingtv', 'streamingmovies', 'contract', 'paperlessbilling',\n",
       "       'paymentmethod', 'monthlycharges', 'totalcharges', 'churn'],\n",
       "      dtype='object')"
      ]
     },
     "metadata": {},
     "execution_count": 8
    }
   ],
   "metadata": {}
  },
  {
   "cell_type": "code",
   "execution_count": 9,
   "source": [
    "df.head().T"
   ],
   "outputs": [
    {
     "output_type": "execute_result",
     "data": {
      "text/html": [
       "<div>\n",
       "<style scoped>\n",
       "    .dataframe tbody tr th:only-of-type {\n",
       "        vertical-align: middle;\n",
       "    }\n",
       "\n",
       "    .dataframe tbody tr th {\n",
       "        vertical-align: top;\n",
       "    }\n",
       "\n",
       "    .dataframe thead th {\n",
       "        text-align: right;\n",
       "    }\n",
       "</style>\n",
       "<table border=\"1\" class=\"dataframe\">\n",
       "  <thead>\n",
       "    <tr style=\"text-align: right;\">\n",
       "      <th></th>\n",
       "      <th>0</th>\n",
       "      <th>1</th>\n",
       "      <th>2</th>\n",
       "      <th>3</th>\n",
       "      <th>4</th>\n",
       "    </tr>\n",
       "  </thead>\n",
       "  <tbody>\n",
       "    <tr>\n",
       "      <th>customerid</th>\n",
       "      <td>7590-VHVEG</td>\n",
       "      <td>5575-GNVDE</td>\n",
       "      <td>3668-QPYBK</td>\n",
       "      <td>7795-CFOCW</td>\n",
       "      <td>9237-HQITU</td>\n",
       "    </tr>\n",
       "    <tr>\n",
       "      <th>gender</th>\n",
       "      <td>Female</td>\n",
       "      <td>Male</td>\n",
       "      <td>Male</td>\n",
       "      <td>Male</td>\n",
       "      <td>Female</td>\n",
       "    </tr>\n",
       "    <tr>\n",
       "      <th>seniorcitizen</th>\n",
       "      <td>0</td>\n",
       "      <td>0</td>\n",
       "      <td>0</td>\n",
       "      <td>0</td>\n",
       "      <td>0</td>\n",
       "    </tr>\n",
       "    <tr>\n",
       "      <th>partner</th>\n",
       "      <td>Yes</td>\n",
       "      <td>No</td>\n",
       "      <td>No</td>\n",
       "      <td>No</td>\n",
       "      <td>No</td>\n",
       "    </tr>\n",
       "    <tr>\n",
       "      <th>dependents</th>\n",
       "      <td>No</td>\n",
       "      <td>No</td>\n",
       "      <td>No</td>\n",
       "      <td>No</td>\n",
       "      <td>No</td>\n",
       "    </tr>\n",
       "    <tr>\n",
       "      <th>tenure</th>\n",
       "      <td>1</td>\n",
       "      <td>34</td>\n",
       "      <td>2</td>\n",
       "      <td>45</td>\n",
       "      <td>2</td>\n",
       "    </tr>\n",
       "    <tr>\n",
       "      <th>phoneservice</th>\n",
       "      <td>No</td>\n",
       "      <td>Yes</td>\n",
       "      <td>Yes</td>\n",
       "      <td>No</td>\n",
       "      <td>Yes</td>\n",
       "    </tr>\n",
       "    <tr>\n",
       "      <th>multiplelines</th>\n",
       "      <td>No phone service</td>\n",
       "      <td>No</td>\n",
       "      <td>No</td>\n",
       "      <td>No phone service</td>\n",
       "      <td>No</td>\n",
       "    </tr>\n",
       "    <tr>\n",
       "      <th>internetservice</th>\n",
       "      <td>DSL</td>\n",
       "      <td>DSL</td>\n",
       "      <td>DSL</td>\n",
       "      <td>DSL</td>\n",
       "      <td>Fiber optic</td>\n",
       "    </tr>\n",
       "    <tr>\n",
       "      <th>onlinesecurity</th>\n",
       "      <td>No</td>\n",
       "      <td>Yes</td>\n",
       "      <td>Yes</td>\n",
       "      <td>Yes</td>\n",
       "      <td>No</td>\n",
       "    </tr>\n",
       "    <tr>\n",
       "      <th>onlinebackup</th>\n",
       "      <td>Yes</td>\n",
       "      <td>No</td>\n",
       "      <td>Yes</td>\n",
       "      <td>No</td>\n",
       "      <td>No</td>\n",
       "    </tr>\n",
       "    <tr>\n",
       "      <th>deviceprotection</th>\n",
       "      <td>No</td>\n",
       "      <td>Yes</td>\n",
       "      <td>No</td>\n",
       "      <td>Yes</td>\n",
       "      <td>No</td>\n",
       "    </tr>\n",
       "    <tr>\n",
       "      <th>techsupport</th>\n",
       "      <td>No</td>\n",
       "      <td>No</td>\n",
       "      <td>No</td>\n",
       "      <td>Yes</td>\n",
       "      <td>No</td>\n",
       "    </tr>\n",
       "    <tr>\n",
       "      <th>streamingtv</th>\n",
       "      <td>No</td>\n",
       "      <td>No</td>\n",
       "      <td>No</td>\n",
       "      <td>No</td>\n",
       "      <td>No</td>\n",
       "    </tr>\n",
       "    <tr>\n",
       "      <th>streamingmovies</th>\n",
       "      <td>No</td>\n",
       "      <td>No</td>\n",
       "      <td>No</td>\n",
       "      <td>No</td>\n",
       "      <td>No</td>\n",
       "    </tr>\n",
       "    <tr>\n",
       "      <th>contract</th>\n",
       "      <td>Month-to-month</td>\n",
       "      <td>One year</td>\n",
       "      <td>Month-to-month</td>\n",
       "      <td>One year</td>\n",
       "      <td>Month-to-month</td>\n",
       "    </tr>\n",
       "    <tr>\n",
       "      <th>paperlessbilling</th>\n",
       "      <td>Yes</td>\n",
       "      <td>No</td>\n",
       "      <td>Yes</td>\n",
       "      <td>No</td>\n",
       "      <td>Yes</td>\n",
       "    </tr>\n",
       "    <tr>\n",
       "      <th>paymentmethod</th>\n",
       "      <td>Electronic check</td>\n",
       "      <td>Mailed check</td>\n",
       "      <td>Mailed check</td>\n",
       "      <td>Bank transfer (automatic)</td>\n",
       "      <td>Electronic check</td>\n",
       "    </tr>\n",
       "    <tr>\n",
       "      <th>monthlycharges</th>\n",
       "      <td>29.85</td>\n",
       "      <td>56.95</td>\n",
       "      <td>53.85</td>\n",
       "      <td>42.3</td>\n",
       "      <td>70.7</td>\n",
       "    </tr>\n",
       "    <tr>\n",
       "      <th>totalcharges</th>\n",
       "      <td>29.85</td>\n",
       "      <td>1889.5</td>\n",
       "      <td>108.15</td>\n",
       "      <td>1840.75</td>\n",
       "      <td>151.65</td>\n",
       "    </tr>\n",
       "    <tr>\n",
       "      <th>churn</th>\n",
       "      <td>No</td>\n",
       "      <td>No</td>\n",
       "      <td>Yes</td>\n",
       "      <td>No</td>\n",
       "      <td>Yes</td>\n",
       "    </tr>\n",
       "  </tbody>\n",
       "</table>\n",
       "</div>"
      ],
      "text/plain": [
       "                                 0             1               2  \\\n",
       "customerid              7590-VHVEG    5575-GNVDE      3668-QPYBK   \n",
       "gender                      Female          Male            Male   \n",
       "seniorcitizen                    0             0               0   \n",
       "partner                        Yes            No              No   \n",
       "dependents                      No            No              No   \n",
       "tenure                           1            34               2   \n",
       "phoneservice                    No           Yes             Yes   \n",
       "multiplelines     No phone service            No              No   \n",
       "internetservice                DSL           DSL             DSL   \n",
       "onlinesecurity                  No           Yes             Yes   \n",
       "onlinebackup                   Yes            No             Yes   \n",
       "deviceprotection                No           Yes              No   \n",
       "techsupport                     No            No              No   \n",
       "streamingtv                     No            No              No   \n",
       "streamingmovies                 No            No              No   \n",
       "contract            Month-to-month      One year  Month-to-month   \n",
       "paperlessbilling               Yes            No             Yes   \n",
       "paymentmethod     Electronic check  Mailed check    Mailed check   \n",
       "monthlycharges               29.85         56.95           53.85   \n",
       "totalcharges                 29.85        1889.5          108.15   \n",
       "churn                           No            No             Yes   \n",
       "\n",
       "                                          3                 4  \n",
       "customerid                       7795-CFOCW        9237-HQITU  \n",
       "gender                                 Male            Female  \n",
       "seniorcitizen                             0                 0  \n",
       "partner                                  No                No  \n",
       "dependents                               No                No  \n",
       "tenure                                   45                 2  \n",
       "phoneservice                             No               Yes  \n",
       "multiplelines              No phone service                No  \n",
       "internetservice                         DSL       Fiber optic  \n",
       "onlinesecurity                          Yes                No  \n",
       "onlinebackup                             No                No  \n",
       "deviceprotection                        Yes                No  \n",
       "techsupport                             Yes                No  \n",
       "streamingtv                              No                No  \n",
       "streamingmovies                          No                No  \n",
       "contract                           One year    Month-to-month  \n",
       "paperlessbilling                         No               Yes  \n",
       "paymentmethod     Bank transfer (automatic)  Electronic check  \n",
       "monthlycharges                         42.3              70.7  \n",
       "totalcharges                        1840.75            151.65  \n",
       "churn                                    No               Yes  "
      ]
     },
     "metadata": {},
     "execution_count": 9
    }
   ],
   "metadata": {}
  },
  {
   "cell_type": "code",
   "execution_count": 10,
   "source": [
    "categorical_columns = list(df.dtypes[df.dtypes=='object'].index)"
   ],
   "outputs": [],
   "metadata": {}
  },
  {
   "cell_type": "code",
   "execution_count": 11,
   "source": [
    "categorical_columns"
   ],
   "outputs": [
    {
     "output_type": "execute_result",
     "data": {
      "text/plain": [
       "['customerid',\n",
       " 'gender',\n",
       " 'partner',\n",
       " 'dependents',\n",
       " 'phoneservice',\n",
       " 'multiplelines',\n",
       " 'internetservice',\n",
       " 'onlinesecurity',\n",
       " 'onlinebackup',\n",
       " 'deviceprotection',\n",
       " 'techsupport',\n",
       " 'streamingtv',\n",
       " 'streamingmovies',\n",
       " 'contract',\n",
       " 'paperlessbilling',\n",
       " 'paymentmethod',\n",
       " 'totalcharges',\n",
       " 'churn']"
      ]
     },
     "metadata": {},
     "execution_count": 11
    }
   ],
   "metadata": {}
  },
  {
   "cell_type": "code",
   "execution_count": 12,
   "source": [
    "df['gender']"
   ],
   "outputs": [
    {
     "output_type": "execute_result",
     "data": {
      "text/plain": [
       "0       Female\n",
       "1         Male\n",
       "2         Male\n",
       "3         Male\n",
       "4       Female\n",
       "         ...  \n",
       "7038      Male\n",
       "7039    Female\n",
       "7040    Female\n",
       "7041      Male\n",
       "7042      Male\n",
       "Name: gender, Length: 7043, dtype: object"
      ]
     },
     "metadata": {},
     "execution_count": 12
    }
   ],
   "metadata": {}
  },
  {
   "cell_type": "code",
   "execution_count": 13,
   "source": [
    "for c in categorical_columns:\r\n",
    "    df[c] = df[c].str.lower().str.replace(' ','_')"
   ],
   "outputs": [],
   "metadata": {}
  },
  {
   "cell_type": "code",
   "execution_count": 14,
   "source": [
    "df.head().T"
   ],
   "outputs": [
    {
     "output_type": "execute_result",
     "data": {
      "text/html": [
       "<div>\n",
       "<style scoped>\n",
       "    .dataframe tbody tr th:only-of-type {\n",
       "        vertical-align: middle;\n",
       "    }\n",
       "\n",
       "    .dataframe tbody tr th {\n",
       "        vertical-align: top;\n",
       "    }\n",
       "\n",
       "    .dataframe thead th {\n",
       "        text-align: right;\n",
       "    }\n",
       "</style>\n",
       "<table border=\"1\" class=\"dataframe\">\n",
       "  <thead>\n",
       "    <tr style=\"text-align: right;\">\n",
       "      <th></th>\n",
       "      <th>0</th>\n",
       "      <th>1</th>\n",
       "      <th>2</th>\n",
       "      <th>3</th>\n",
       "      <th>4</th>\n",
       "    </tr>\n",
       "  </thead>\n",
       "  <tbody>\n",
       "    <tr>\n",
       "      <th>customerid</th>\n",
       "      <td>7590-vhveg</td>\n",
       "      <td>5575-gnvde</td>\n",
       "      <td>3668-qpybk</td>\n",
       "      <td>7795-cfocw</td>\n",
       "      <td>9237-hqitu</td>\n",
       "    </tr>\n",
       "    <tr>\n",
       "      <th>gender</th>\n",
       "      <td>female</td>\n",
       "      <td>male</td>\n",
       "      <td>male</td>\n",
       "      <td>male</td>\n",
       "      <td>female</td>\n",
       "    </tr>\n",
       "    <tr>\n",
       "      <th>seniorcitizen</th>\n",
       "      <td>0</td>\n",
       "      <td>0</td>\n",
       "      <td>0</td>\n",
       "      <td>0</td>\n",
       "      <td>0</td>\n",
       "    </tr>\n",
       "    <tr>\n",
       "      <th>partner</th>\n",
       "      <td>yes</td>\n",
       "      <td>no</td>\n",
       "      <td>no</td>\n",
       "      <td>no</td>\n",
       "      <td>no</td>\n",
       "    </tr>\n",
       "    <tr>\n",
       "      <th>dependents</th>\n",
       "      <td>no</td>\n",
       "      <td>no</td>\n",
       "      <td>no</td>\n",
       "      <td>no</td>\n",
       "      <td>no</td>\n",
       "    </tr>\n",
       "    <tr>\n",
       "      <th>tenure</th>\n",
       "      <td>1</td>\n",
       "      <td>34</td>\n",
       "      <td>2</td>\n",
       "      <td>45</td>\n",
       "      <td>2</td>\n",
       "    </tr>\n",
       "    <tr>\n",
       "      <th>phoneservice</th>\n",
       "      <td>no</td>\n",
       "      <td>yes</td>\n",
       "      <td>yes</td>\n",
       "      <td>no</td>\n",
       "      <td>yes</td>\n",
       "    </tr>\n",
       "    <tr>\n",
       "      <th>multiplelines</th>\n",
       "      <td>no_phone_service</td>\n",
       "      <td>no</td>\n",
       "      <td>no</td>\n",
       "      <td>no_phone_service</td>\n",
       "      <td>no</td>\n",
       "    </tr>\n",
       "    <tr>\n",
       "      <th>internetservice</th>\n",
       "      <td>dsl</td>\n",
       "      <td>dsl</td>\n",
       "      <td>dsl</td>\n",
       "      <td>dsl</td>\n",
       "      <td>fiber_optic</td>\n",
       "    </tr>\n",
       "    <tr>\n",
       "      <th>onlinesecurity</th>\n",
       "      <td>no</td>\n",
       "      <td>yes</td>\n",
       "      <td>yes</td>\n",
       "      <td>yes</td>\n",
       "      <td>no</td>\n",
       "    </tr>\n",
       "    <tr>\n",
       "      <th>onlinebackup</th>\n",
       "      <td>yes</td>\n",
       "      <td>no</td>\n",
       "      <td>yes</td>\n",
       "      <td>no</td>\n",
       "      <td>no</td>\n",
       "    </tr>\n",
       "    <tr>\n",
       "      <th>deviceprotection</th>\n",
       "      <td>no</td>\n",
       "      <td>yes</td>\n",
       "      <td>no</td>\n",
       "      <td>yes</td>\n",
       "      <td>no</td>\n",
       "    </tr>\n",
       "    <tr>\n",
       "      <th>techsupport</th>\n",
       "      <td>no</td>\n",
       "      <td>no</td>\n",
       "      <td>no</td>\n",
       "      <td>yes</td>\n",
       "      <td>no</td>\n",
       "    </tr>\n",
       "    <tr>\n",
       "      <th>streamingtv</th>\n",
       "      <td>no</td>\n",
       "      <td>no</td>\n",
       "      <td>no</td>\n",
       "      <td>no</td>\n",
       "      <td>no</td>\n",
       "    </tr>\n",
       "    <tr>\n",
       "      <th>streamingmovies</th>\n",
       "      <td>no</td>\n",
       "      <td>no</td>\n",
       "      <td>no</td>\n",
       "      <td>no</td>\n",
       "      <td>no</td>\n",
       "    </tr>\n",
       "    <tr>\n",
       "      <th>contract</th>\n",
       "      <td>month-to-month</td>\n",
       "      <td>one_year</td>\n",
       "      <td>month-to-month</td>\n",
       "      <td>one_year</td>\n",
       "      <td>month-to-month</td>\n",
       "    </tr>\n",
       "    <tr>\n",
       "      <th>paperlessbilling</th>\n",
       "      <td>yes</td>\n",
       "      <td>no</td>\n",
       "      <td>yes</td>\n",
       "      <td>no</td>\n",
       "      <td>yes</td>\n",
       "    </tr>\n",
       "    <tr>\n",
       "      <th>paymentmethod</th>\n",
       "      <td>electronic_check</td>\n",
       "      <td>mailed_check</td>\n",
       "      <td>mailed_check</td>\n",
       "      <td>bank_transfer_(automatic)</td>\n",
       "      <td>electronic_check</td>\n",
       "    </tr>\n",
       "    <tr>\n",
       "      <th>monthlycharges</th>\n",
       "      <td>29.85</td>\n",
       "      <td>56.95</td>\n",
       "      <td>53.85</td>\n",
       "      <td>42.3</td>\n",
       "      <td>70.7</td>\n",
       "    </tr>\n",
       "    <tr>\n",
       "      <th>totalcharges</th>\n",
       "      <td>29.85</td>\n",
       "      <td>1889.5</td>\n",
       "      <td>108.15</td>\n",
       "      <td>1840.75</td>\n",
       "      <td>151.65</td>\n",
       "    </tr>\n",
       "    <tr>\n",
       "      <th>churn</th>\n",
       "      <td>no</td>\n",
       "      <td>no</td>\n",
       "      <td>yes</td>\n",
       "      <td>no</td>\n",
       "      <td>yes</td>\n",
       "    </tr>\n",
       "  </tbody>\n",
       "</table>\n",
       "</div>"
      ],
      "text/plain": [
       "                                 0             1               2  \\\n",
       "customerid              7590-vhveg    5575-gnvde      3668-qpybk   \n",
       "gender                      female          male            male   \n",
       "seniorcitizen                    0             0               0   \n",
       "partner                        yes            no              no   \n",
       "dependents                      no            no              no   \n",
       "tenure                           1            34               2   \n",
       "phoneservice                    no           yes             yes   \n",
       "multiplelines     no_phone_service            no              no   \n",
       "internetservice                dsl           dsl             dsl   \n",
       "onlinesecurity                  no           yes             yes   \n",
       "onlinebackup                   yes            no             yes   \n",
       "deviceprotection                no           yes              no   \n",
       "techsupport                     no            no              no   \n",
       "streamingtv                     no            no              no   \n",
       "streamingmovies                 no            no              no   \n",
       "contract            month-to-month      one_year  month-to-month   \n",
       "paperlessbilling               yes            no             yes   \n",
       "paymentmethod     electronic_check  mailed_check    mailed_check   \n",
       "monthlycharges               29.85         56.95           53.85   \n",
       "totalcharges                 29.85        1889.5          108.15   \n",
       "churn                           no            no             yes   \n",
       "\n",
       "                                          3                 4  \n",
       "customerid                       7795-cfocw        9237-hqitu  \n",
       "gender                                 male            female  \n",
       "seniorcitizen                             0                 0  \n",
       "partner                                  no                no  \n",
       "dependents                               no                no  \n",
       "tenure                                   45                 2  \n",
       "phoneservice                             no               yes  \n",
       "multiplelines              no_phone_service                no  \n",
       "internetservice                         dsl       fiber_optic  \n",
       "onlinesecurity                          yes                no  \n",
       "onlinebackup                             no                no  \n",
       "deviceprotection                        yes                no  \n",
       "techsupport                             yes                no  \n",
       "streamingtv                              no                no  \n",
       "streamingmovies                          no                no  \n",
       "contract                           one_year    month-to-month  \n",
       "paperlessbilling                         no               yes  \n",
       "paymentmethod     bank_transfer_(automatic)  electronic_check  \n",
       "monthlycharges                         42.3              70.7  \n",
       "totalcharges                        1840.75            151.65  \n",
       "churn                                    no               yes  "
      ]
     },
     "metadata": {},
     "execution_count": 14
    }
   ],
   "metadata": {}
  },
  {
   "cell_type": "code",
   "execution_count": 15,
   "source": [
    "df.dtypes"
   ],
   "outputs": [
    {
     "output_type": "execute_result",
     "data": {
      "text/plain": [
       "customerid           object\n",
       "gender               object\n",
       "seniorcitizen         int64\n",
       "partner              object\n",
       "dependents           object\n",
       "tenure                int64\n",
       "phoneservice         object\n",
       "multiplelines        object\n",
       "internetservice      object\n",
       "onlinesecurity       object\n",
       "onlinebackup         object\n",
       "deviceprotection     object\n",
       "techsupport          object\n",
       "streamingtv          object\n",
       "streamingmovies      object\n",
       "contract             object\n",
       "paperlessbilling     object\n",
       "paymentmethod        object\n",
       "monthlycharges      float64\n",
       "totalcharges         object\n",
       "churn                object\n",
       "dtype: object"
      ]
     },
     "metadata": {},
     "execution_count": 15
    }
   ],
   "metadata": {}
  },
  {
   "cell_type": "code",
   "execution_count": 16,
   "source": [
    "df.totalcharges"
   ],
   "outputs": [
    {
     "output_type": "execute_result",
     "data": {
      "text/plain": [
       "0         29.85\n",
       "1        1889.5\n",
       "2        108.15\n",
       "3       1840.75\n",
       "4        151.65\n",
       "         ...   \n",
       "7038     1990.5\n",
       "7039     7362.9\n",
       "7040     346.45\n",
       "7041      306.6\n",
       "7042     6844.5\n",
       "Name: totalcharges, Length: 7043, dtype: object"
      ]
     },
     "metadata": {},
     "execution_count": 16
    }
   ],
   "metadata": {}
  },
  {
   "cell_type": "code",
   "execution_count": 17,
   "source": [
    "df.totalcharges = pd.to_numeric(df.totalcharges,errors='coerce')"
   ],
   "outputs": [],
   "metadata": {}
  },
  {
   "cell_type": "code",
   "execution_count": 18,
   "source": [
    "df.totalcharges.isnull()"
   ],
   "outputs": [
    {
     "output_type": "execute_result",
     "data": {
      "text/plain": [
       "0       False\n",
       "1       False\n",
       "2       False\n",
       "3       False\n",
       "4       False\n",
       "        ...  \n",
       "7038    False\n",
       "7039    False\n",
       "7040    False\n",
       "7041    False\n",
       "7042    False\n",
       "Name: totalcharges, Length: 7043, dtype: bool"
      ]
     },
     "metadata": {},
     "execution_count": 18
    }
   ],
   "metadata": {}
  },
  {
   "cell_type": "code",
   "execution_count": 19,
   "source": [
    "df[df.totalcharges.isnull()][['customerid','totalcharges']]"
   ],
   "outputs": [
    {
     "output_type": "execute_result",
     "data": {
      "text/html": [
       "<div>\n",
       "<style scoped>\n",
       "    .dataframe tbody tr th:only-of-type {\n",
       "        vertical-align: middle;\n",
       "    }\n",
       "\n",
       "    .dataframe tbody tr th {\n",
       "        vertical-align: top;\n",
       "    }\n",
       "\n",
       "    .dataframe thead th {\n",
       "        text-align: right;\n",
       "    }\n",
       "</style>\n",
       "<table border=\"1\" class=\"dataframe\">\n",
       "  <thead>\n",
       "    <tr style=\"text-align: right;\">\n",
       "      <th></th>\n",
       "      <th>customerid</th>\n",
       "      <th>totalcharges</th>\n",
       "    </tr>\n",
       "  </thead>\n",
       "  <tbody>\n",
       "    <tr>\n",
       "      <th>488</th>\n",
       "      <td>4472-lvygi</td>\n",
       "      <td>NaN</td>\n",
       "    </tr>\n",
       "    <tr>\n",
       "      <th>753</th>\n",
       "      <td>3115-czmzd</td>\n",
       "      <td>NaN</td>\n",
       "    </tr>\n",
       "    <tr>\n",
       "      <th>936</th>\n",
       "      <td>5709-lvoeq</td>\n",
       "      <td>NaN</td>\n",
       "    </tr>\n",
       "    <tr>\n",
       "      <th>1082</th>\n",
       "      <td>4367-nuyao</td>\n",
       "      <td>NaN</td>\n",
       "    </tr>\n",
       "    <tr>\n",
       "      <th>1340</th>\n",
       "      <td>1371-dwpaz</td>\n",
       "      <td>NaN</td>\n",
       "    </tr>\n",
       "    <tr>\n",
       "      <th>3331</th>\n",
       "      <td>7644-omvmy</td>\n",
       "      <td>NaN</td>\n",
       "    </tr>\n",
       "    <tr>\n",
       "      <th>3826</th>\n",
       "      <td>3213-vvolg</td>\n",
       "      <td>NaN</td>\n",
       "    </tr>\n",
       "    <tr>\n",
       "      <th>4380</th>\n",
       "      <td>2520-sgtta</td>\n",
       "      <td>NaN</td>\n",
       "    </tr>\n",
       "    <tr>\n",
       "      <th>5218</th>\n",
       "      <td>2923-arzlg</td>\n",
       "      <td>NaN</td>\n",
       "    </tr>\n",
       "    <tr>\n",
       "      <th>6670</th>\n",
       "      <td>4075-wkniu</td>\n",
       "      <td>NaN</td>\n",
       "    </tr>\n",
       "    <tr>\n",
       "      <th>6754</th>\n",
       "      <td>2775-sefee</td>\n",
       "      <td>NaN</td>\n",
       "    </tr>\n",
       "  </tbody>\n",
       "</table>\n",
       "</div>"
      ],
      "text/plain": [
       "      customerid  totalcharges\n",
       "488   4472-lvygi           NaN\n",
       "753   3115-czmzd           NaN\n",
       "936   5709-lvoeq           NaN\n",
       "1082  4367-nuyao           NaN\n",
       "1340  1371-dwpaz           NaN\n",
       "3331  7644-omvmy           NaN\n",
       "3826  3213-vvolg           NaN\n",
       "4380  2520-sgtta           NaN\n",
       "5218  2923-arzlg           NaN\n",
       "6670  4075-wkniu           NaN\n",
       "6754  2775-sefee           NaN"
      ]
     },
     "metadata": {},
     "execution_count": 19
    }
   ],
   "metadata": {}
  },
  {
   "cell_type": "code",
   "execution_count": 20,
   "source": [
    "df.totalcharges = df.totalcharges.fillna(0)"
   ],
   "outputs": [],
   "metadata": {}
  },
  {
   "cell_type": "code",
   "execution_count": 21,
   "source": [
    "df[df.totalcharges.isnull()][['customerid','totalcharges']]"
   ],
   "outputs": [
    {
     "output_type": "execute_result",
     "data": {
      "text/html": [
       "<div>\n",
       "<style scoped>\n",
       "    .dataframe tbody tr th:only-of-type {\n",
       "        vertical-align: middle;\n",
       "    }\n",
       "\n",
       "    .dataframe tbody tr th {\n",
       "        vertical-align: top;\n",
       "    }\n",
       "\n",
       "    .dataframe thead th {\n",
       "        text-align: right;\n",
       "    }\n",
       "</style>\n",
       "<table border=\"1\" class=\"dataframe\">\n",
       "  <thead>\n",
       "    <tr style=\"text-align: right;\">\n",
       "      <th></th>\n",
       "      <th>customerid</th>\n",
       "      <th>totalcharges</th>\n",
       "    </tr>\n",
       "  </thead>\n",
       "  <tbody>\n",
       "  </tbody>\n",
       "</table>\n",
       "</div>"
      ],
      "text/plain": [
       "Empty DataFrame\n",
       "Columns: [customerid, totalcharges]\n",
       "Index: []"
      ]
     },
     "metadata": {},
     "execution_count": 21
    }
   ],
   "metadata": {}
  },
  {
   "cell_type": "code",
   "execution_count": 22,
   "source": [
    "df.churn"
   ],
   "outputs": [
    {
     "output_type": "execute_result",
     "data": {
      "text/plain": [
       "0        no\n",
       "1        no\n",
       "2       yes\n",
       "3        no\n",
       "4       yes\n",
       "       ... \n",
       "7038     no\n",
       "7039     no\n",
       "7040     no\n",
       "7041    yes\n",
       "7042     no\n",
       "Name: churn, Length: 7043, dtype: object"
      ]
     },
     "metadata": {},
     "execution_count": 22
    }
   ],
   "metadata": {}
  },
  {
   "cell_type": "code",
   "execution_count": 23,
   "source": [
    "df.churn = (df.churn=='yes').astype(int)"
   ],
   "outputs": [],
   "metadata": {}
  },
  {
   "cell_type": "code",
   "execution_count": 24,
   "source": [
    "df.churn"
   ],
   "outputs": [
    {
     "output_type": "execute_result",
     "data": {
      "text/plain": [
       "0       0\n",
       "1       0\n",
       "2       1\n",
       "3       0\n",
       "4       1\n",
       "       ..\n",
       "7038    0\n",
       "7039    0\n",
       "7040    0\n",
       "7041    1\n",
       "7042    0\n",
       "Name: churn, Length: 7043, dtype: int32"
      ]
     },
     "metadata": {},
     "execution_count": 24
    }
   ],
   "metadata": {}
  },
  {
   "cell_type": "markdown",
   "source": [
    "Setting up Validation framework\r\n"
   ],
   "metadata": {}
  },
  {
   "cell_type": "code",
   "execution_count": 25,
   "source": [
    "from sklearn.model_selection import train_test_split"
   ],
   "outputs": [],
   "metadata": {}
  },
  {
   "cell_type": "code",
   "execution_count": 26,
   "source": [
    "df_full_train,df_test = train_test_split(df,test_size = 0.2,random_state = 1)"
   ],
   "outputs": [],
   "metadata": {}
  },
  {
   "cell_type": "code",
   "execution_count": 27,
   "source": [
    "len(df_full_train),len(df_test)"
   ],
   "outputs": [
    {
     "output_type": "execute_result",
     "data": {
      "text/plain": [
       "(5634, 1409)"
      ]
     },
     "metadata": {},
     "execution_count": 27
    }
   ],
   "metadata": {}
  },
  {
   "cell_type": "code",
   "execution_count": 28,
   "source": [
    "df_train,df_val = train_test_split(df_full_train,test_size=0.25,random_state=1)"
   ],
   "outputs": [],
   "metadata": {}
  },
  {
   "cell_type": "code",
   "execution_count": 29,
   "source": [
    "len(df_train),len(df_val),len(df_test)"
   ],
   "outputs": [
    {
     "output_type": "execute_result",
     "data": {
      "text/plain": [
       "(4225, 1409, 1409)"
      ]
     },
     "metadata": {},
     "execution_count": 29
    }
   ],
   "metadata": {}
  },
  {
   "cell_type": "code",
   "execution_count": 30,
   "source": [
    "#resetindex\r\n",
    "df_train = df_train.reset_index(drop=True)\r\n",
    "df_val = df_val.reset_index(drop=True)\r\n",
    "df_test = df_test.reset_index(drop=True)\r\n",
    "\r\n",
    "#target_variables\r\n",
    "y_train = df_train.churn.values\r\n",
    "y_val = df_val.churn.values\r\n",
    "y_test = df_test.churn.values\r\n",
    "\r\n",
    "#delete_target_values_from_dataframe\r\n",
    "del df_train['churn']\r\n",
    "del df_val['churn']\r\n",
    "del df_test['churn']\r\n",
    "\r\n",
    "\r\n"
   ],
   "outputs": [],
   "metadata": {}
  },
  {
   "cell_type": "markdown",
   "source": [
    "EDA - NUMERICAL AND CATEGORICAL VARIABLES"
   ],
   "metadata": {}
  },
  {
   "cell_type": "code",
   "execution_count": 31,
   "source": [
    "df_full_train = df_full_train.reset_index(drop=True)"
   ],
   "outputs": [],
   "metadata": {}
  },
  {
   "cell_type": "code",
   "execution_count": 32,
   "source": [
    "df_full_train.churn.value_counts(normalize=True)"
   ],
   "outputs": [
    {
     "output_type": "execute_result",
     "data": {
      "text/plain": [
       "0    0.730032\n",
       "1    0.269968\n",
       "Name: churn, dtype: float64"
      ]
     },
     "metadata": {},
     "execution_count": 32
    }
   ],
   "metadata": {}
  },
  {
   "cell_type": "code",
   "execution_count": 33,
   "source": [
    "global_churn_rate = df_full_train.churn.mean()"
   ],
   "outputs": [],
   "metadata": {}
  },
  {
   "cell_type": "code",
   "execution_count": 34,
   "source": [
    "round(global_churn_rate,2)"
   ],
   "outputs": [
    {
     "output_type": "execute_result",
     "data": {
      "text/plain": [
       "0.27"
      ]
     },
     "metadata": {},
     "execution_count": 34
    }
   ],
   "metadata": {}
  },
  {
   "cell_type": "code",
   "execution_count": 35,
   "source": [
    "df_full_train.dtypes"
   ],
   "outputs": [
    {
     "output_type": "execute_result",
     "data": {
      "text/plain": [
       "customerid           object\n",
       "gender               object\n",
       "seniorcitizen         int64\n",
       "partner              object\n",
       "dependents           object\n",
       "tenure                int64\n",
       "phoneservice         object\n",
       "multiplelines        object\n",
       "internetservice      object\n",
       "onlinesecurity       object\n",
       "onlinebackup         object\n",
       "deviceprotection     object\n",
       "techsupport          object\n",
       "streamingtv          object\n",
       "streamingmovies      object\n",
       "contract             object\n",
       "paperlessbilling     object\n",
       "paymentmethod        object\n",
       "monthlycharges      float64\n",
       "totalcharges        float64\n",
       "churn                 int32\n",
       "dtype: object"
      ]
     },
     "metadata": {},
     "execution_count": 35
    }
   ],
   "metadata": {}
  },
  {
   "cell_type": "code",
   "execution_count": 36,
   "source": [
    "numerical = ['tenure','monthlycharges','totalcharges']"
   ],
   "outputs": [],
   "metadata": {}
  },
  {
   "cell_type": "code",
   "execution_count": 37,
   "source": [
    "categorical =['gender', 'seniorcitizen', 'partner', 'dependents','phoneservice',\r\n",
    "        'multiplelines', 'internetservice',\r\n",
    "        'onlinesecurity', 'onlinebackup', 'deviceprotection', 'techsupport',\r\n",
    "        'streamingtv', 'streamingmovies', 'contract', 'paperlessbilling',\r\n",
    "        'paymentmethod'] "
   ],
   "outputs": [],
   "metadata": {}
  },
  {
   "cell_type": "code",
   "execution_count": 38,
   "source": [
    "df_full_train[categorical].nunique()"
   ],
   "outputs": [
    {
     "output_type": "execute_result",
     "data": {
      "text/plain": [
       "gender              2\n",
       "seniorcitizen       2\n",
       "partner             2\n",
       "dependents          2\n",
       "phoneservice        2\n",
       "multiplelines       3\n",
       "internetservice     3\n",
       "onlinesecurity      3\n",
       "onlinebackup        3\n",
       "deviceprotection    3\n",
       "techsupport         3\n",
       "streamingtv         3\n",
       "streamingmovies     3\n",
       "contract            3\n",
       "paperlessbilling    2\n",
       "paymentmethod       4\n",
       "dtype: int64"
      ]
     },
     "metadata": {},
     "execution_count": 38
    }
   ],
   "metadata": {}
  },
  {
   "cell_type": "markdown",
   "source": [
    "Feature Importance: Churn Rate And Risk Ratio"
   ],
   "metadata": {}
  },
  {
   "cell_type": "markdown",
   "source": [
    "Churn rate"
   ],
   "metadata": {}
  },
  {
   "cell_type": "code",
   "execution_count": 39,
   "source": [
    "df_full_train.head()"
   ],
   "outputs": [
    {
     "output_type": "execute_result",
     "data": {
      "text/html": [
       "<div>\n",
       "<style scoped>\n",
       "    .dataframe tbody tr th:only-of-type {\n",
       "        vertical-align: middle;\n",
       "    }\n",
       "\n",
       "    .dataframe tbody tr th {\n",
       "        vertical-align: top;\n",
       "    }\n",
       "\n",
       "    .dataframe thead th {\n",
       "        text-align: right;\n",
       "    }\n",
       "</style>\n",
       "<table border=\"1\" class=\"dataframe\">\n",
       "  <thead>\n",
       "    <tr style=\"text-align: right;\">\n",
       "      <th></th>\n",
       "      <th>customerid</th>\n",
       "      <th>gender</th>\n",
       "      <th>seniorcitizen</th>\n",
       "      <th>partner</th>\n",
       "      <th>dependents</th>\n",
       "      <th>tenure</th>\n",
       "      <th>phoneservice</th>\n",
       "      <th>multiplelines</th>\n",
       "      <th>internetservice</th>\n",
       "      <th>onlinesecurity</th>\n",
       "      <th>...</th>\n",
       "      <th>deviceprotection</th>\n",
       "      <th>techsupport</th>\n",
       "      <th>streamingtv</th>\n",
       "      <th>streamingmovies</th>\n",
       "      <th>contract</th>\n",
       "      <th>paperlessbilling</th>\n",
       "      <th>paymentmethod</th>\n",
       "      <th>monthlycharges</th>\n",
       "      <th>totalcharges</th>\n",
       "      <th>churn</th>\n",
       "    </tr>\n",
       "  </thead>\n",
       "  <tbody>\n",
       "    <tr>\n",
       "      <th>0</th>\n",
       "      <td>5442-pptjy</td>\n",
       "      <td>male</td>\n",
       "      <td>0</td>\n",
       "      <td>yes</td>\n",
       "      <td>yes</td>\n",
       "      <td>12</td>\n",
       "      <td>yes</td>\n",
       "      <td>no</td>\n",
       "      <td>no</td>\n",
       "      <td>no_internet_service</td>\n",
       "      <td>...</td>\n",
       "      <td>no_internet_service</td>\n",
       "      <td>no_internet_service</td>\n",
       "      <td>no_internet_service</td>\n",
       "      <td>no_internet_service</td>\n",
       "      <td>two_year</td>\n",
       "      <td>no</td>\n",
       "      <td>mailed_check</td>\n",
       "      <td>19.70</td>\n",
       "      <td>258.35</td>\n",
       "      <td>0</td>\n",
       "    </tr>\n",
       "    <tr>\n",
       "      <th>1</th>\n",
       "      <td>6261-rcvns</td>\n",
       "      <td>female</td>\n",
       "      <td>0</td>\n",
       "      <td>no</td>\n",
       "      <td>no</td>\n",
       "      <td>42</td>\n",
       "      <td>yes</td>\n",
       "      <td>no</td>\n",
       "      <td>dsl</td>\n",
       "      <td>yes</td>\n",
       "      <td>...</td>\n",
       "      <td>yes</td>\n",
       "      <td>yes</td>\n",
       "      <td>no</td>\n",
       "      <td>yes</td>\n",
       "      <td>one_year</td>\n",
       "      <td>no</td>\n",
       "      <td>credit_card_(automatic)</td>\n",
       "      <td>73.90</td>\n",
       "      <td>3160.55</td>\n",
       "      <td>1</td>\n",
       "    </tr>\n",
       "    <tr>\n",
       "      <th>2</th>\n",
       "      <td>2176-osjuv</td>\n",
       "      <td>male</td>\n",
       "      <td>0</td>\n",
       "      <td>yes</td>\n",
       "      <td>no</td>\n",
       "      <td>71</td>\n",
       "      <td>yes</td>\n",
       "      <td>yes</td>\n",
       "      <td>dsl</td>\n",
       "      <td>yes</td>\n",
       "      <td>...</td>\n",
       "      <td>no</td>\n",
       "      <td>yes</td>\n",
       "      <td>no</td>\n",
       "      <td>no</td>\n",
       "      <td>two_year</td>\n",
       "      <td>no</td>\n",
       "      <td>bank_transfer_(automatic)</td>\n",
       "      <td>65.15</td>\n",
       "      <td>4681.75</td>\n",
       "      <td>0</td>\n",
       "    </tr>\n",
       "    <tr>\n",
       "      <th>3</th>\n",
       "      <td>6161-erdgd</td>\n",
       "      <td>male</td>\n",
       "      <td>0</td>\n",
       "      <td>yes</td>\n",
       "      <td>yes</td>\n",
       "      <td>71</td>\n",
       "      <td>yes</td>\n",
       "      <td>yes</td>\n",
       "      <td>dsl</td>\n",
       "      <td>yes</td>\n",
       "      <td>...</td>\n",
       "      <td>yes</td>\n",
       "      <td>yes</td>\n",
       "      <td>yes</td>\n",
       "      <td>yes</td>\n",
       "      <td>one_year</td>\n",
       "      <td>no</td>\n",
       "      <td>electronic_check</td>\n",
       "      <td>85.45</td>\n",
       "      <td>6300.85</td>\n",
       "      <td>0</td>\n",
       "    </tr>\n",
       "    <tr>\n",
       "      <th>4</th>\n",
       "      <td>2364-ufrom</td>\n",
       "      <td>male</td>\n",
       "      <td>0</td>\n",
       "      <td>no</td>\n",
       "      <td>no</td>\n",
       "      <td>30</td>\n",
       "      <td>yes</td>\n",
       "      <td>no</td>\n",
       "      <td>dsl</td>\n",
       "      <td>yes</td>\n",
       "      <td>...</td>\n",
       "      <td>no</td>\n",
       "      <td>yes</td>\n",
       "      <td>yes</td>\n",
       "      <td>no</td>\n",
       "      <td>one_year</td>\n",
       "      <td>no</td>\n",
       "      <td>electronic_check</td>\n",
       "      <td>70.40</td>\n",
       "      <td>2044.75</td>\n",
       "      <td>0</td>\n",
       "    </tr>\n",
       "  </tbody>\n",
       "</table>\n",
       "<p>5 rows × 21 columns</p>\n",
       "</div>"
      ],
      "text/plain": [
       "   customerid  gender  seniorcitizen partner dependents  tenure phoneservice  \\\n",
       "0  5442-pptjy    male              0     yes        yes      12          yes   \n",
       "1  6261-rcvns  female              0      no         no      42          yes   \n",
       "2  2176-osjuv    male              0     yes         no      71          yes   \n",
       "3  6161-erdgd    male              0     yes        yes      71          yes   \n",
       "4  2364-ufrom    male              0      no         no      30          yes   \n",
       "\n",
       "  multiplelines internetservice       onlinesecurity  ...  \\\n",
       "0            no              no  no_internet_service  ...   \n",
       "1            no             dsl                  yes  ...   \n",
       "2           yes             dsl                  yes  ...   \n",
       "3           yes             dsl                  yes  ...   \n",
       "4            no             dsl                  yes  ...   \n",
       "\n",
       "      deviceprotection          techsupport          streamingtv  \\\n",
       "0  no_internet_service  no_internet_service  no_internet_service   \n",
       "1                  yes                  yes                   no   \n",
       "2                   no                  yes                   no   \n",
       "3                  yes                  yes                  yes   \n",
       "4                   no                  yes                  yes   \n",
       "\n",
       "       streamingmovies  contract paperlessbilling              paymentmethod  \\\n",
       "0  no_internet_service  two_year               no               mailed_check   \n",
       "1                  yes  one_year               no    credit_card_(automatic)   \n",
       "2                   no  two_year               no  bank_transfer_(automatic)   \n",
       "3                  yes  one_year               no           electronic_check   \n",
       "4                   no  one_year               no           electronic_check   \n",
       "\n",
       "  monthlycharges  totalcharges  churn  \n",
       "0          19.70        258.35      0  \n",
       "1          73.90       3160.55      1  \n",
       "2          65.15       4681.75      0  \n",
       "3          85.45       6300.85      0  \n",
       "4          70.40       2044.75      0  \n",
       "\n",
       "[5 rows x 21 columns]"
      ]
     },
     "metadata": {},
     "execution_count": 39
    }
   ],
   "metadata": {}
  },
  {
   "cell_type": "code",
   "execution_count": 40,
   "source": [
    "churn_female = df_full_train[df_full_train.gender=='female'].churn.mean()\r\n",
    "churn_female"
   ],
   "outputs": [
    {
     "output_type": "execute_result",
     "data": {
      "text/plain": [
       "0.27682403433476394"
      ]
     },
     "metadata": {},
     "execution_count": 40
    }
   ],
   "metadata": {}
  },
  {
   "cell_type": "code",
   "execution_count": 41,
   "source": [
    "churn_male = df_full_train[df_full_train.gender=='male'].churn.mean()\r\n",
    "churn_male"
   ],
   "outputs": [
    {
     "output_type": "execute_result",
     "data": {
      "text/plain": [
       "0.2632135306553911"
      ]
     },
     "metadata": {},
     "execution_count": 41
    }
   ],
   "metadata": {}
  },
  {
   "cell_type": "code",
   "execution_count": 42,
   "source": [
    "churn_with_partner = df_full_train[df_full_train.partner =='yes'].churn.mean()\r\n",
    "churn_with_partner\r\n"
   ],
   "outputs": [
    {
     "output_type": "execute_result",
     "data": {
      "text/plain": [
       "0.20503330866025166"
      ]
     },
     "metadata": {},
     "execution_count": 42
    }
   ],
   "metadata": {}
  },
  {
   "cell_type": "code",
   "execution_count": 43,
   "source": [
    "churn_no_partner = df_full_train[df_full_train.partner =='no'].churn.mean()\r\n",
    "churn_no_partner"
   ],
   "outputs": [
    {
     "output_type": "execute_result",
     "data": {
      "text/plain": [
       "0.3298090040927694"
      ]
     },
     "metadata": {},
     "execution_count": 43
    }
   ],
   "metadata": {}
  },
  {
   "cell_type": "code",
   "execution_count": 44,
   "source": [
    "global_churn_rate"
   ],
   "outputs": [
    {
     "output_type": "execute_result",
     "data": {
      "text/plain": [
       "0.26996805111821087"
      ]
     },
     "metadata": {},
     "execution_count": 44
    }
   ],
   "metadata": {}
  },
  {
   "cell_type": "markdown",
   "source": [
    "Risk Ratio\r\n",
    "\r\n",
    "\r\n",
    "Risk = Group/Global\r\n",
    "\r\n",
    "If Risk >1 - More likely to churn\r\n",
    "If Risk<1 - Less likely to churn"
   ],
   "metadata": {}
  },
  {
   "cell_type": "code",
   "execution_count": 45,
   "source": [
    "churn_no_partner/global_churn_rate"
   ],
   "outputs": [
    {
     "output_type": "execute_result",
     "data": {
      "text/plain": [
       "1.2216593879412643"
      ]
     },
     "metadata": {},
     "execution_count": 45
    }
   ],
   "metadata": {}
  },
  {
   "cell_type": "code",
   "execution_count": 46,
   "source": [
    "from IPython.display import display"
   ],
   "outputs": [],
   "metadata": {}
  },
  {
   "cell_type": "code",
   "execution_count": 47,
   "source": [
    "for c in categorical:\r\n",
    "    print(c)\r\n",
    "    df_group = df_full_train.groupby(c).churn.agg(['mean','count'])\r\n",
    "    df_group['diff'] = df_group['mean'] - global_churn_rate\r\n",
    "    df_group['risk'] = df_group['mean']/global_churn_rate\r\n",
    "    display(df_group)\r\n",
    "    print('\\n')\r\n",
    "    \r\n",
    "\r\n"
   ],
   "outputs": [
    {
     "output_type": "stream",
     "name": "stdout",
     "text": [
      "gender\n"
     ]
    },
    {
     "output_type": "display_data",
     "data": {
      "text/html": [
       "<div>\n",
       "<style scoped>\n",
       "    .dataframe tbody tr th:only-of-type {\n",
       "        vertical-align: middle;\n",
       "    }\n",
       "\n",
       "    .dataframe tbody tr th {\n",
       "        vertical-align: top;\n",
       "    }\n",
       "\n",
       "    .dataframe thead th {\n",
       "        text-align: right;\n",
       "    }\n",
       "</style>\n",
       "<table border=\"1\" class=\"dataframe\">\n",
       "  <thead>\n",
       "    <tr style=\"text-align: right;\">\n",
       "      <th></th>\n",
       "      <th>mean</th>\n",
       "      <th>count</th>\n",
       "      <th>diff</th>\n",
       "      <th>risk</th>\n",
       "    </tr>\n",
       "    <tr>\n",
       "      <th>gender</th>\n",
       "      <th></th>\n",
       "      <th></th>\n",
       "      <th></th>\n",
       "      <th></th>\n",
       "    </tr>\n",
       "  </thead>\n",
       "  <tbody>\n",
       "    <tr>\n",
       "      <th>female</th>\n",
       "      <td>0.276824</td>\n",
       "      <td>2796</td>\n",
       "      <td>0.006856</td>\n",
       "      <td>1.025396</td>\n",
       "    </tr>\n",
       "    <tr>\n",
       "      <th>male</th>\n",
       "      <td>0.263214</td>\n",
       "      <td>2838</td>\n",
       "      <td>-0.006755</td>\n",
       "      <td>0.974980</td>\n",
       "    </tr>\n",
       "  </tbody>\n",
       "</table>\n",
       "</div>"
      ],
      "text/plain": [
       "            mean  count      diff      risk\n",
       "gender                                     \n",
       "female  0.276824   2796  0.006856  1.025396\n",
       "male    0.263214   2838 -0.006755  0.974980"
      ]
     },
     "metadata": {}
    },
    {
     "output_type": "stream",
     "name": "stdout",
     "text": [
      "\n",
      "\n",
      "seniorcitizen\n"
     ]
    },
    {
     "output_type": "display_data",
     "data": {
      "text/html": [
       "<div>\n",
       "<style scoped>\n",
       "    .dataframe tbody tr th:only-of-type {\n",
       "        vertical-align: middle;\n",
       "    }\n",
       "\n",
       "    .dataframe tbody tr th {\n",
       "        vertical-align: top;\n",
       "    }\n",
       "\n",
       "    .dataframe thead th {\n",
       "        text-align: right;\n",
       "    }\n",
       "</style>\n",
       "<table border=\"1\" class=\"dataframe\">\n",
       "  <thead>\n",
       "    <tr style=\"text-align: right;\">\n",
       "      <th></th>\n",
       "      <th>mean</th>\n",
       "      <th>count</th>\n",
       "      <th>diff</th>\n",
       "      <th>risk</th>\n",
       "    </tr>\n",
       "    <tr>\n",
       "      <th>seniorcitizen</th>\n",
       "      <th></th>\n",
       "      <th></th>\n",
       "      <th></th>\n",
       "      <th></th>\n",
       "    </tr>\n",
       "  </thead>\n",
       "  <tbody>\n",
       "    <tr>\n",
       "      <th>0</th>\n",
       "      <td>0.242270</td>\n",
       "      <td>4722</td>\n",
       "      <td>-0.027698</td>\n",
       "      <td>0.897403</td>\n",
       "    </tr>\n",
       "    <tr>\n",
       "      <th>1</th>\n",
       "      <td>0.413377</td>\n",
       "      <td>912</td>\n",
       "      <td>0.143409</td>\n",
       "      <td>1.531208</td>\n",
       "    </tr>\n",
       "  </tbody>\n",
       "</table>\n",
       "</div>"
      ],
      "text/plain": [
       "                   mean  count      diff      risk\n",
       "seniorcitizen                                     \n",
       "0              0.242270   4722 -0.027698  0.897403\n",
       "1              0.413377    912  0.143409  1.531208"
      ]
     },
     "metadata": {}
    },
    {
     "output_type": "stream",
     "name": "stdout",
     "text": [
      "\n",
      "\n",
      "partner\n"
     ]
    },
    {
     "output_type": "display_data",
     "data": {
      "text/html": [
       "<div>\n",
       "<style scoped>\n",
       "    .dataframe tbody tr th:only-of-type {\n",
       "        vertical-align: middle;\n",
       "    }\n",
       "\n",
       "    .dataframe tbody tr th {\n",
       "        vertical-align: top;\n",
       "    }\n",
       "\n",
       "    .dataframe thead th {\n",
       "        text-align: right;\n",
       "    }\n",
       "</style>\n",
       "<table border=\"1\" class=\"dataframe\">\n",
       "  <thead>\n",
       "    <tr style=\"text-align: right;\">\n",
       "      <th></th>\n",
       "      <th>mean</th>\n",
       "      <th>count</th>\n",
       "      <th>diff</th>\n",
       "      <th>risk</th>\n",
       "    </tr>\n",
       "    <tr>\n",
       "      <th>partner</th>\n",
       "      <th></th>\n",
       "      <th></th>\n",
       "      <th></th>\n",
       "      <th></th>\n",
       "    </tr>\n",
       "  </thead>\n",
       "  <tbody>\n",
       "    <tr>\n",
       "      <th>no</th>\n",
       "      <td>0.329809</td>\n",
       "      <td>2932</td>\n",
       "      <td>0.059841</td>\n",
       "      <td>1.221659</td>\n",
       "    </tr>\n",
       "    <tr>\n",
       "      <th>yes</th>\n",
       "      <td>0.205033</td>\n",
       "      <td>2702</td>\n",
       "      <td>-0.064935</td>\n",
       "      <td>0.759472</td>\n",
       "    </tr>\n",
       "  </tbody>\n",
       "</table>\n",
       "</div>"
      ],
      "text/plain": [
       "             mean  count      diff      risk\n",
       "partner                                     \n",
       "no       0.329809   2932  0.059841  1.221659\n",
       "yes      0.205033   2702 -0.064935  0.759472"
      ]
     },
     "metadata": {}
    },
    {
     "output_type": "stream",
     "name": "stdout",
     "text": [
      "\n",
      "\n",
      "dependents\n"
     ]
    },
    {
     "output_type": "display_data",
     "data": {
      "text/html": [
       "<div>\n",
       "<style scoped>\n",
       "    .dataframe tbody tr th:only-of-type {\n",
       "        vertical-align: middle;\n",
       "    }\n",
       "\n",
       "    .dataframe tbody tr th {\n",
       "        vertical-align: top;\n",
       "    }\n",
       "\n",
       "    .dataframe thead th {\n",
       "        text-align: right;\n",
       "    }\n",
       "</style>\n",
       "<table border=\"1\" class=\"dataframe\">\n",
       "  <thead>\n",
       "    <tr style=\"text-align: right;\">\n",
       "      <th></th>\n",
       "      <th>mean</th>\n",
       "      <th>count</th>\n",
       "      <th>diff</th>\n",
       "      <th>risk</th>\n",
       "    </tr>\n",
       "    <tr>\n",
       "      <th>dependents</th>\n",
       "      <th></th>\n",
       "      <th></th>\n",
       "      <th></th>\n",
       "      <th></th>\n",
       "    </tr>\n",
       "  </thead>\n",
       "  <tbody>\n",
       "    <tr>\n",
       "      <th>no</th>\n",
       "      <td>0.313760</td>\n",
       "      <td>3968</td>\n",
       "      <td>0.043792</td>\n",
       "      <td>1.162212</td>\n",
       "    </tr>\n",
       "    <tr>\n",
       "      <th>yes</th>\n",
       "      <td>0.165666</td>\n",
       "      <td>1666</td>\n",
       "      <td>-0.104302</td>\n",
       "      <td>0.613651</td>\n",
       "    </tr>\n",
       "  </tbody>\n",
       "</table>\n",
       "</div>"
      ],
      "text/plain": [
       "                mean  count      diff      risk\n",
       "dependents                                     \n",
       "no          0.313760   3968  0.043792  1.162212\n",
       "yes         0.165666   1666 -0.104302  0.613651"
      ]
     },
     "metadata": {}
    },
    {
     "output_type": "stream",
     "name": "stdout",
     "text": [
      "\n",
      "\n",
      "phoneservice\n"
     ]
    },
    {
     "output_type": "display_data",
     "data": {
      "text/html": [
       "<div>\n",
       "<style scoped>\n",
       "    .dataframe tbody tr th:only-of-type {\n",
       "        vertical-align: middle;\n",
       "    }\n",
       "\n",
       "    .dataframe tbody tr th {\n",
       "        vertical-align: top;\n",
       "    }\n",
       "\n",
       "    .dataframe thead th {\n",
       "        text-align: right;\n",
       "    }\n",
       "</style>\n",
       "<table border=\"1\" class=\"dataframe\">\n",
       "  <thead>\n",
       "    <tr style=\"text-align: right;\">\n",
       "      <th></th>\n",
       "      <th>mean</th>\n",
       "      <th>count</th>\n",
       "      <th>diff</th>\n",
       "      <th>risk</th>\n",
       "    </tr>\n",
       "    <tr>\n",
       "      <th>phoneservice</th>\n",
       "      <th></th>\n",
       "      <th></th>\n",
       "      <th></th>\n",
       "      <th></th>\n",
       "    </tr>\n",
       "  </thead>\n",
       "  <tbody>\n",
       "    <tr>\n",
       "      <th>no</th>\n",
       "      <td>0.241316</td>\n",
       "      <td>547</td>\n",
       "      <td>-0.028652</td>\n",
       "      <td>0.893870</td>\n",
       "    </tr>\n",
       "    <tr>\n",
       "      <th>yes</th>\n",
       "      <td>0.273049</td>\n",
       "      <td>5087</td>\n",
       "      <td>0.003081</td>\n",
       "      <td>1.011412</td>\n",
       "    </tr>\n",
       "  </tbody>\n",
       "</table>\n",
       "</div>"
      ],
      "text/plain": [
       "                  mean  count      diff      risk\n",
       "phoneservice                                     \n",
       "no            0.241316    547 -0.028652  0.893870\n",
       "yes           0.273049   5087  0.003081  1.011412"
      ]
     },
     "metadata": {}
    },
    {
     "output_type": "stream",
     "name": "stdout",
     "text": [
      "\n",
      "\n",
      "multiplelines\n"
     ]
    },
    {
     "output_type": "display_data",
     "data": {
      "text/html": [
       "<div>\n",
       "<style scoped>\n",
       "    .dataframe tbody tr th:only-of-type {\n",
       "        vertical-align: middle;\n",
       "    }\n",
       "\n",
       "    .dataframe tbody tr th {\n",
       "        vertical-align: top;\n",
       "    }\n",
       "\n",
       "    .dataframe thead th {\n",
       "        text-align: right;\n",
       "    }\n",
       "</style>\n",
       "<table border=\"1\" class=\"dataframe\">\n",
       "  <thead>\n",
       "    <tr style=\"text-align: right;\">\n",
       "      <th></th>\n",
       "      <th>mean</th>\n",
       "      <th>count</th>\n",
       "      <th>diff</th>\n",
       "      <th>risk</th>\n",
       "    </tr>\n",
       "    <tr>\n",
       "      <th>multiplelines</th>\n",
       "      <th></th>\n",
       "      <th></th>\n",
       "      <th></th>\n",
       "      <th></th>\n",
       "    </tr>\n",
       "  </thead>\n",
       "  <tbody>\n",
       "    <tr>\n",
       "      <th>no</th>\n",
       "      <td>0.257407</td>\n",
       "      <td>2700</td>\n",
       "      <td>-0.012561</td>\n",
       "      <td>0.953474</td>\n",
       "    </tr>\n",
       "    <tr>\n",
       "      <th>no_phone_service</th>\n",
       "      <td>0.241316</td>\n",
       "      <td>547</td>\n",
       "      <td>-0.028652</td>\n",
       "      <td>0.893870</td>\n",
       "    </tr>\n",
       "    <tr>\n",
       "      <th>yes</th>\n",
       "      <td>0.290742</td>\n",
       "      <td>2387</td>\n",
       "      <td>0.020773</td>\n",
       "      <td>1.076948</td>\n",
       "    </tr>\n",
       "  </tbody>\n",
       "</table>\n",
       "</div>"
      ],
      "text/plain": [
       "                      mean  count      diff      risk\n",
       "multiplelines                                        \n",
       "no                0.257407   2700 -0.012561  0.953474\n",
       "no_phone_service  0.241316    547 -0.028652  0.893870\n",
       "yes               0.290742   2387  0.020773  1.076948"
      ]
     },
     "metadata": {}
    },
    {
     "output_type": "stream",
     "name": "stdout",
     "text": [
      "\n",
      "\n",
      "internetservice\n"
     ]
    },
    {
     "output_type": "display_data",
     "data": {
      "text/html": [
       "<div>\n",
       "<style scoped>\n",
       "    .dataframe tbody tr th:only-of-type {\n",
       "        vertical-align: middle;\n",
       "    }\n",
       "\n",
       "    .dataframe tbody tr th {\n",
       "        vertical-align: top;\n",
       "    }\n",
       "\n",
       "    .dataframe thead th {\n",
       "        text-align: right;\n",
       "    }\n",
       "</style>\n",
       "<table border=\"1\" class=\"dataframe\">\n",
       "  <thead>\n",
       "    <tr style=\"text-align: right;\">\n",
       "      <th></th>\n",
       "      <th>mean</th>\n",
       "      <th>count</th>\n",
       "      <th>diff</th>\n",
       "      <th>risk</th>\n",
       "    </tr>\n",
       "    <tr>\n",
       "      <th>internetservice</th>\n",
       "      <th></th>\n",
       "      <th></th>\n",
       "      <th></th>\n",
       "      <th></th>\n",
       "    </tr>\n",
       "  </thead>\n",
       "  <tbody>\n",
       "    <tr>\n",
       "      <th>dsl</th>\n",
       "      <td>0.192347</td>\n",
       "      <td>1934</td>\n",
       "      <td>-0.077621</td>\n",
       "      <td>0.712482</td>\n",
       "    </tr>\n",
       "    <tr>\n",
       "      <th>fiber_optic</th>\n",
       "      <td>0.425171</td>\n",
       "      <td>2479</td>\n",
       "      <td>0.155203</td>\n",
       "      <td>1.574895</td>\n",
       "    </tr>\n",
       "    <tr>\n",
       "      <th>no</th>\n",
       "      <td>0.077805</td>\n",
       "      <td>1221</td>\n",
       "      <td>-0.192163</td>\n",
       "      <td>0.288201</td>\n",
       "    </tr>\n",
       "  </tbody>\n",
       "</table>\n",
       "</div>"
      ],
      "text/plain": [
       "                     mean  count      diff      risk\n",
       "internetservice                                     \n",
       "dsl              0.192347   1934 -0.077621  0.712482\n",
       "fiber_optic      0.425171   2479  0.155203  1.574895\n",
       "no               0.077805   1221 -0.192163  0.288201"
      ]
     },
     "metadata": {}
    },
    {
     "output_type": "stream",
     "name": "stdout",
     "text": [
      "\n",
      "\n",
      "onlinesecurity\n"
     ]
    },
    {
     "output_type": "display_data",
     "data": {
      "text/html": [
       "<div>\n",
       "<style scoped>\n",
       "    .dataframe tbody tr th:only-of-type {\n",
       "        vertical-align: middle;\n",
       "    }\n",
       "\n",
       "    .dataframe tbody tr th {\n",
       "        vertical-align: top;\n",
       "    }\n",
       "\n",
       "    .dataframe thead th {\n",
       "        text-align: right;\n",
       "    }\n",
       "</style>\n",
       "<table border=\"1\" class=\"dataframe\">\n",
       "  <thead>\n",
       "    <tr style=\"text-align: right;\">\n",
       "      <th></th>\n",
       "      <th>mean</th>\n",
       "      <th>count</th>\n",
       "      <th>diff</th>\n",
       "      <th>risk</th>\n",
       "    </tr>\n",
       "    <tr>\n",
       "      <th>onlinesecurity</th>\n",
       "      <th></th>\n",
       "      <th></th>\n",
       "      <th></th>\n",
       "      <th></th>\n",
       "    </tr>\n",
       "  </thead>\n",
       "  <tbody>\n",
       "    <tr>\n",
       "      <th>no</th>\n",
       "      <td>0.420921</td>\n",
       "      <td>2801</td>\n",
       "      <td>0.150953</td>\n",
       "      <td>1.559152</td>\n",
       "    </tr>\n",
       "    <tr>\n",
       "      <th>no_internet_service</th>\n",
       "      <td>0.077805</td>\n",
       "      <td>1221</td>\n",
       "      <td>-0.192163</td>\n",
       "      <td>0.288201</td>\n",
       "    </tr>\n",
       "    <tr>\n",
       "      <th>yes</th>\n",
       "      <td>0.153226</td>\n",
       "      <td>1612</td>\n",
       "      <td>-0.116742</td>\n",
       "      <td>0.567570</td>\n",
       "    </tr>\n",
       "  </tbody>\n",
       "</table>\n",
       "</div>"
      ],
      "text/plain": [
       "                         mean  count      diff      risk\n",
       "onlinesecurity                                          \n",
       "no                   0.420921   2801  0.150953  1.559152\n",
       "no_internet_service  0.077805   1221 -0.192163  0.288201\n",
       "yes                  0.153226   1612 -0.116742  0.567570"
      ]
     },
     "metadata": {}
    },
    {
     "output_type": "stream",
     "name": "stdout",
     "text": [
      "\n",
      "\n",
      "onlinebackup\n"
     ]
    },
    {
     "output_type": "display_data",
     "data": {
      "text/html": [
       "<div>\n",
       "<style scoped>\n",
       "    .dataframe tbody tr th:only-of-type {\n",
       "        vertical-align: middle;\n",
       "    }\n",
       "\n",
       "    .dataframe tbody tr th {\n",
       "        vertical-align: top;\n",
       "    }\n",
       "\n",
       "    .dataframe thead th {\n",
       "        text-align: right;\n",
       "    }\n",
       "</style>\n",
       "<table border=\"1\" class=\"dataframe\">\n",
       "  <thead>\n",
       "    <tr style=\"text-align: right;\">\n",
       "      <th></th>\n",
       "      <th>mean</th>\n",
       "      <th>count</th>\n",
       "      <th>diff</th>\n",
       "      <th>risk</th>\n",
       "    </tr>\n",
       "    <tr>\n",
       "      <th>onlinebackup</th>\n",
       "      <th></th>\n",
       "      <th></th>\n",
       "      <th></th>\n",
       "      <th></th>\n",
       "    </tr>\n",
       "  </thead>\n",
       "  <tbody>\n",
       "    <tr>\n",
       "      <th>no</th>\n",
       "      <td>0.404323</td>\n",
       "      <td>2498</td>\n",
       "      <td>0.134355</td>\n",
       "      <td>1.497672</td>\n",
       "    </tr>\n",
       "    <tr>\n",
       "      <th>no_internet_service</th>\n",
       "      <td>0.077805</td>\n",
       "      <td>1221</td>\n",
       "      <td>-0.192163</td>\n",
       "      <td>0.288201</td>\n",
       "    </tr>\n",
       "    <tr>\n",
       "      <th>yes</th>\n",
       "      <td>0.217232</td>\n",
       "      <td>1915</td>\n",
       "      <td>-0.052736</td>\n",
       "      <td>0.804660</td>\n",
       "    </tr>\n",
       "  </tbody>\n",
       "</table>\n",
       "</div>"
      ],
      "text/plain": [
       "                         mean  count      diff      risk\n",
       "onlinebackup                                            \n",
       "no                   0.404323   2498  0.134355  1.497672\n",
       "no_internet_service  0.077805   1221 -0.192163  0.288201\n",
       "yes                  0.217232   1915 -0.052736  0.804660"
      ]
     },
     "metadata": {}
    },
    {
     "output_type": "stream",
     "name": "stdout",
     "text": [
      "\n",
      "\n",
      "deviceprotection\n"
     ]
    },
    {
     "output_type": "display_data",
     "data": {
      "text/html": [
       "<div>\n",
       "<style scoped>\n",
       "    .dataframe tbody tr th:only-of-type {\n",
       "        vertical-align: middle;\n",
       "    }\n",
       "\n",
       "    .dataframe tbody tr th {\n",
       "        vertical-align: top;\n",
       "    }\n",
       "\n",
       "    .dataframe thead th {\n",
       "        text-align: right;\n",
       "    }\n",
       "</style>\n",
       "<table border=\"1\" class=\"dataframe\">\n",
       "  <thead>\n",
       "    <tr style=\"text-align: right;\">\n",
       "      <th></th>\n",
       "      <th>mean</th>\n",
       "      <th>count</th>\n",
       "      <th>diff</th>\n",
       "      <th>risk</th>\n",
       "    </tr>\n",
       "    <tr>\n",
       "      <th>deviceprotection</th>\n",
       "      <th></th>\n",
       "      <th></th>\n",
       "      <th></th>\n",
       "      <th></th>\n",
       "    </tr>\n",
       "  </thead>\n",
       "  <tbody>\n",
       "    <tr>\n",
       "      <th>no</th>\n",
       "      <td>0.395875</td>\n",
       "      <td>2473</td>\n",
       "      <td>0.125907</td>\n",
       "      <td>1.466379</td>\n",
       "    </tr>\n",
       "    <tr>\n",
       "      <th>no_internet_service</th>\n",
       "      <td>0.077805</td>\n",
       "      <td>1221</td>\n",
       "      <td>-0.192163</td>\n",
       "      <td>0.288201</td>\n",
       "    </tr>\n",
       "    <tr>\n",
       "      <th>yes</th>\n",
       "      <td>0.230412</td>\n",
       "      <td>1940</td>\n",
       "      <td>-0.039556</td>\n",
       "      <td>0.853480</td>\n",
       "    </tr>\n",
       "  </tbody>\n",
       "</table>\n",
       "</div>"
      ],
      "text/plain": [
       "                         mean  count      diff      risk\n",
       "deviceprotection                                        \n",
       "no                   0.395875   2473  0.125907  1.466379\n",
       "no_internet_service  0.077805   1221 -0.192163  0.288201\n",
       "yes                  0.230412   1940 -0.039556  0.853480"
      ]
     },
     "metadata": {}
    },
    {
     "output_type": "stream",
     "name": "stdout",
     "text": [
      "\n",
      "\n",
      "techsupport\n"
     ]
    },
    {
     "output_type": "display_data",
     "data": {
      "text/html": [
       "<div>\n",
       "<style scoped>\n",
       "    .dataframe tbody tr th:only-of-type {\n",
       "        vertical-align: middle;\n",
       "    }\n",
       "\n",
       "    .dataframe tbody tr th {\n",
       "        vertical-align: top;\n",
       "    }\n",
       "\n",
       "    .dataframe thead th {\n",
       "        text-align: right;\n",
       "    }\n",
       "</style>\n",
       "<table border=\"1\" class=\"dataframe\">\n",
       "  <thead>\n",
       "    <tr style=\"text-align: right;\">\n",
       "      <th></th>\n",
       "      <th>mean</th>\n",
       "      <th>count</th>\n",
       "      <th>diff</th>\n",
       "      <th>risk</th>\n",
       "    </tr>\n",
       "    <tr>\n",
       "      <th>techsupport</th>\n",
       "      <th></th>\n",
       "      <th></th>\n",
       "      <th></th>\n",
       "      <th></th>\n",
       "    </tr>\n",
       "  </thead>\n",
       "  <tbody>\n",
       "    <tr>\n",
       "      <th>no</th>\n",
       "      <td>0.418914</td>\n",
       "      <td>2781</td>\n",
       "      <td>0.148946</td>\n",
       "      <td>1.551717</td>\n",
       "    </tr>\n",
       "    <tr>\n",
       "      <th>no_internet_service</th>\n",
       "      <td>0.077805</td>\n",
       "      <td>1221</td>\n",
       "      <td>-0.192163</td>\n",
       "      <td>0.288201</td>\n",
       "    </tr>\n",
       "    <tr>\n",
       "      <th>yes</th>\n",
       "      <td>0.159926</td>\n",
       "      <td>1632</td>\n",
       "      <td>-0.110042</td>\n",
       "      <td>0.592390</td>\n",
       "    </tr>\n",
       "  </tbody>\n",
       "</table>\n",
       "</div>"
      ],
      "text/plain": [
       "                         mean  count      diff      risk\n",
       "techsupport                                             \n",
       "no                   0.418914   2781  0.148946  1.551717\n",
       "no_internet_service  0.077805   1221 -0.192163  0.288201\n",
       "yes                  0.159926   1632 -0.110042  0.592390"
      ]
     },
     "metadata": {}
    },
    {
     "output_type": "stream",
     "name": "stdout",
     "text": [
      "\n",
      "\n",
      "streamingtv\n"
     ]
    },
    {
     "output_type": "display_data",
     "data": {
      "text/html": [
       "<div>\n",
       "<style scoped>\n",
       "    .dataframe tbody tr th:only-of-type {\n",
       "        vertical-align: middle;\n",
       "    }\n",
       "\n",
       "    .dataframe tbody tr th {\n",
       "        vertical-align: top;\n",
       "    }\n",
       "\n",
       "    .dataframe thead th {\n",
       "        text-align: right;\n",
       "    }\n",
       "</style>\n",
       "<table border=\"1\" class=\"dataframe\">\n",
       "  <thead>\n",
       "    <tr style=\"text-align: right;\">\n",
       "      <th></th>\n",
       "      <th>mean</th>\n",
       "      <th>count</th>\n",
       "      <th>diff</th>\n",
       "      <th>risk</th>\n",
       "    </tr>\n",
       "    <tr>\n",
       "      <th>streamingtv</th>\n",
       "      <th></th>\n",
       "      <th></th>\n",
       "      <th></th>\n",
       "      <th></th>\n",
       "    </tr>\n",
       "  </thead>\n",
       "  <tbody>\n",
       "    <tr>\n",
       "      <th>no</th>\n",
       "      <td>0.342832</td>\n",
       "      <td>2246</td>\n",
       "      <td>0.072864</td>\n",
       "      <td>1.269897</td>\n",
       "    </tr>\n",
       "    <tr>\n",
       "      <th>no_internet_service</th>\n",
       "      <td>0.077805</td>\n",
       "      <td>1221</td>\n",
       "      <td>-0.192163</td>\n",
       "      <td>0.288201</td>\n",
       "    </tr>\n",
       "    <tr>\n",
       "      <th>yes</th>\n",
       "      <td>0.302723</td>\n",
       "      <td>2167</td>\n",
       "      <td>0.032755</td>\n",
       "      <td>1.121328</td>\n",
       "    </tr>\n",
       "  </tbody>\n",
       "</table>\n",
       "</div>"
      ],
      "text/plain": [
       "                         mean  count      diff      risk\n",
       "streamingtv                                             \n",
       "no                   0.342832   2246  0.072864  1.269897\n",
       "no_internet_service  0.077805   1221 -0.192163  0.288201\n",
       "yes                  0.302723   2167  0.032755  1.121328"
      ]
     },
     "metadata": {}
    },
    {
     "output_type": "stream",
     "name": "stdout",
     "text": [
      "\n",
      "\n",
      "streamingmovies\n"
     ]
    },
    {
     "output_type": "display_data",
     "data": {
      "text/html": [
       "<div>\n",
       "<style scoped>\n",
       "    .dataframe tbody tr th:only-of-type {\n",
       "        vertical-align: middle;\n",
       "    }\n",
       "\n",
       "    .dataframe tbody tr th {\n",
       "        vertical-align: top;\n",
       "    }\n",
       "\n",
       "    .dataframe thead th {\n",
       "        text-align: right;\n",
       "    }\n",
       "</style>\n",
       "<table border=\"1\" class=\"dataframe\">\n",
       "  <thead>\n",
       "    <tr style=\"text-align: right;\">\n",
       "      <th></th>\n",
       "      <th>mean</th>\n",
       "      <th>count</th>\n",
       "      <th>diff</th>\n",
       "      <th>risk</th>\n",
       "    </tr>\n",
       "    <tr>\n",
       "      <th>streamingmovies</th>\n",
       "      <th></th>\n",
       "      <th></th>\n",
       "      <th></th>\n",
       "      <th></th>\n",
       "    </tr>\n",
       "  </thead>\n",
       "  <tbody>\n",
       "    <tr>\n",
       "      <th>no</th>\n",
       "      <td>0.338906</td>\n",
       "      <td>2213</td>\n",
       "      <td>0.068938</td>\n",
       "      <td>1.255358</td>\n",
       "    </tr>\n",
       "    <tr>\n",
       "      <th>no_internet_service</th>\n",
       "      <td>0.077805</td>\n",
       "      <td>1221</td>\n",
       "      <td>-0.192163</td>\n",
       "      <td>0.288201</td>\n",
       "    </tr>\n",
       "    <tr>\n",
       "      <th>yes</th>\n",
       "      <td>0.307273</td>\n",
       "      <td>2200</td>\n",
       "      <td>0.037305</td>\n",
       "      <td>1.138182</td>\n",
       "    </tr>\n",
       "  </tbody>\n",
       "</table>\n",
       "</div>"
      ],
      "text/plain": [
       "                         mean  count      diff      risk\n",
       "streamingmovies                                         \n",
       "no                   0.338906   2213  0.068938  1.255358\n",
       "no_internet_service  0.077805   1221 -0.192163  0.288201\n",
       "yes                  0.307273   2200  0.037305  1.138182"
      ]
     },
     "metadata": {}
    },
    {
     "output_type": "stream",
     "name": "stdout",
     "text": [
      "\n",
      "\n",
      "contract\n"
     ]
    },
    {
     "output_type": "display_data",
     "data": {
      "text/html": [
       "<div>\n",
       "<style scoped>\n",
       "    .dataframe tbody tr th:only-of-type {\n",
       "        vertical-align: middle;\n",
       "    }\n",
       "\n",
       "    .dataframe tbody tr th {\n",
       "        vertical-align: top;\n",
       "    }\n",
       "\n",
       "    .dataframe thead th {\n",
       "        text-align: right;\n",
       "    }\n",
       "</style>\n",
       "<table border=\"1\" class=\"dataframe\">\n",
       "  <thead>\n",
       "    <tr style=\"text-align: right;\">\n",
       "      <th></th>\n",
       "      <th>mean</th>\n",
       "      <th>count</th>\n",
       "      <th>diff</th>\n",
       "      <th>risk</th>\n",
       "    </tr>\n",
       "    <tr>\n",
       "      <th>contract</th>\n",
       "      <th></th>\n",
       "      <th></th>\n",
       "      <th></th>\n",
       "      <th></th>\n",
       "    </tr>\n",
       "  </thead>\n",
       "  <tbody>\n",
       "    <tr>\n",
       "      <th>month-to-month</th>\n",
       "      <td>0.431701</td>\n",
       "      <td>3104</td>\n",
       "      <td>0.161733</td>\n",
       "      <td>1.599082</td>\n",
       "    </tr>\n",
       "    <tr>\n",
       "      <th>one_year</th>\n",
       "      <td>0.120573</td>\n",
       "      <td>1186</td>\n",
       "      <td>-0.149395</td>\n",
       "      <td>0.446621</td>\n",
       "    </tr>\n",
       "    <tr>\n",
       "      <th>two_year</th>\n",
       "      <td>0.028274</td>\n",
       "      <td>1344</td>\n",
       "      <td>-0.241694</td>\n",
       "      <td>0.104730</td>\n",
       "    </tr>\n",
       "  </tbody>\n",
       "</table>\n",
       "</div>"
      ],
      "text/plain": [
       "                    mean  count      diff      risk\n",
       "contract                                           \n",
       "month-to-month  0.431701   3104  0.161733  1.599082\n",
       "one_year        0.120573   1186 -0.149395  0.446621\n",
       "two_year        0.028274   1344 -0.241694  0.104730"
      ]
     },
     "metadata": {}
    },
    {
     "output_type": "stream",
     "name": "stdout",
     "text": [
      "\n",
      "\n",
      "paperlessbilling\n"
     ]
    },
    {
     "output_type": "display_data",
     "data": {
      "text/html": [
       "<div>\n",
       "<style scoped>\n",
       "    .dataframe tbody tr th:only-of-type {\n",
       "        vertical-align: middle;\n",
       "    }\n",
       "\n",
       "    .dataframe tbody tr th {\n",
       "        vertical-align: top;\n",
       "    }\n",
       "\n",
       "    .dataframe thead th {\n",
       "        text-align: right;\n",
       "    }\n",
       "</style>\n",
       "<table border=\"1\" class=\"dataframe\">\n",
       "  <thead>\n",
       "    <tr style=\"text-align: right;\">\n",
       "      <th></th>\n",
       "      <th>mean</th>\n",
       "      <th>count</th>\n",
       "      <th>diff</th>\n",
       "      <th>risk</th>\n",
       "    </tr>\n",
       "    <tr>\n",
       "      <th>paperlessbilling</th>\n",
       "      <th></th>\n",
       "      <th></th>\n",
       "      <th></th>\n",
       "      <th></th>\n",
       "    </tr>\n",
       "  </thead>\n",
       "  <tbody>\n",
       "    <tr>\n",
       "      <th>no</th>\n",
       "      <td>0.172071</td>\n",
       "      <td>2313</td>\n",
       "      <td>-0.097897</td>\n",
       "      <td>0.637375</td>\n",
       "    </tr>\n",
       "    <tr>\n",
       "      <th>yes</th>\n",
       "      <td>0.338151</td>\n",
       "      <td>3321</td>\n",
       "      <td>0.068183</td>\n",
       "      <td>1.252560</td>\n",
       "    </tr>\n",
       "  </tbody>\n",
       "</table>\n",
       "</div>"
      ],
      "text/plain": [
       "                      mean  count      diff      risk\n",
       "paperlessbilling                                     \n",
       "no                0.172071   2313 -0.097897  0.637375\n",
       "yes               0.338151   3321  0.068183  1.252560"
      ]
     },
     "metadata": {}
    },
    {
     "output_type": "stream",
     "name": "stdout",
     "text": [
      "\n",
      "\n",
      "paymentmethod\n"
     ]
    },
    {
     "output_type": "display_data",
     "data": {
      "text/html": [
       "<div>\n",
       "<style scoped>\n",
       "    .dataframe tbody tr th:only-of-type {\n",
       "        vertical-align: middle;\n",
       "    }\n",
       "\n",
       "    .dataframe tbody tr th {\n",
       "        vertical-align: top;\n",
       "    }\n",
       "\n",
       "    .dataframe thead th {\n",
       "        text-align: right;\n",
       "    }\n",
       "</style>\n",
       "<table border=\"1\" class=\"dataframe\">\n",
       "  <thead>\n",
       "    <tr style=\"text-align: right;\">\n",
       "      <th></th>\n",
       "      <th>mean</th>\n",
       "      <th>count</th>\n",
       "      <th>diff</th>\n",
       "      <th>risk</th>\n",
       "    </tr>\n",
       "    <tr>\n",
       "      <th>paymentmethod</th>\n",
       "      <th></th>\n",
       "      <th></th>\n",
       "      <th></th>\n",
       "      <th></th>\n",
       "    </tr>\n",
       "  </thead>\n",
       "  <tbody>\n",
       "    <tr>\n",
       "      <th>bank_transfer_(automatic)</th>\n",
       "      <td>0.168171</td>\n",
       "      <td>1219</td>\n",
       "      <td>-0.101797</td>\n",
       "      <td>0.622928</td>\n",
       "    </tr>\n",
       "    <tr>\n",
       "      <th>credit_card_(automatic)</th>\n",
       "      <td>0.164339</td>\n",
       "      <td>1217</td>\n",
       "      <td>-0.105630</td>\n",
       "      <td>0.608733</td>\n",
       "    </tr>\n",
       "    <tr>\n",
       "      <th>electronic_check</th>\n",
       "      <td>0.455890</td>\n",
       "      <td>1893</td>\n",
       "      <td>0.185922</td>\n",
       "      <td>1.688682</td>\n",
       "    </tr>\n",
       "    <tr>\n",
       "      <th>mailed_check</th>\n",
       "      <td>0.193870</td>\n",
       "      <td>1305</td>\n",
       "      <td>-0.076098</td>\n",
       "      <td>0.718121</td>\n",
       "    </tr>\n",
       "  </tbody>\n",
       "</table>\n",
       "</div>"
      ],
      "text/plain": [
       "                               mean  count      diff      risk\n",
       "paymentmethod                                                 \n",
       "bank_transfer_(automatic)  0.168171   1219 -0.101797  0.622928\n",
       "credit_card_(automatic)    0.164339   1217 -0.105630  0.608733\n",
       "electronic_check           0.455890   1893  0.185922  1.688682\n",
       "mailed_check               0.193870   1305 -0.076098  0.718121"
      ]
     },
     "metadata": {}
    },
    {
     "output_type": "stream",
     "name": "stdout",
     "text": [
      "\n",
      "\n"
     ]
    }
   ],
   "metadata": {}
  },
  {
   "cell_type": "markdown",
   "source": [
    "Feature Importance: Mutual Information\r\n",
    "\r\n",
    "Mutual information- concept from information theory, it tells us how much we can learn about one variable if we know the value of another\r\n",
    "* https://en.wikipedia.org/wiki/Mutual_ information"
   ],
   "metadata": {}
  },
  {
   "cell_type": "code",
   "execution_count": 48,
   "source": [
    "from sklearn.metrics import mutual_info_score"
   ],
   "outputs": [],
   "metadata": {}
  },
  {
   "cell_type": "code",
   "execution_count": 49,
   "source": [
    "#same regardless of the order of arguments\r\n",
    "mutual_info_score(df_full_train.churn, df_full_train.contract)"
   ],
   "outputs": [
    {
     "output_type": "execute_result",
     "data": {
      "text/plain": [
       "0.0983203874041556"
      ]
     },
     "metadata": {},
     "execution_count": 49
    }
   ],
   "metadata": {}
  },
  {
   "cell_type": "code",
   "execution_count": 50,
   "source": [
    "mutual_info_score(df_full_train.churn, df_full_train.gender)"
   ],
   "outputs": [
    {
     "output_type": "execute_result",
     "data": {
      "text/plain": [
       "0.0001174846211139946"
      ]
     },
     "metadata": {},
     "execution_count": 50
    }
   ],
   "metadata": {}
  },
  {
   "cell_type": "code",
   "execution_count": 51,
   "source": [
    "def mutual_info_churn_score(series):\r\n",
    "    return mutual_info_score(series, df_full_train.churn)\r\n"
   ],
   "outputs": [],
   "metadata": {}
  },
  {
   "cell_type": "code",
   "execution_count": 52,
   "source": [
    "mutual_info = df_full_train[categorical].apply(mutual_info_churn_score)"
   ],
   "outputs": [],
   "metadata": {}
  },
  {
   "cell_type": "code",
   "execution_count": 53,
   "source": [
    "mutual_info.sort_values(ascending= False)"
   ],
   "outputs": [
    {
     "output_type": "execute_result",
     "data": {
      "text/plain": [
       "contract            0.098320\n",
       "onlinesecurity      0.063085\n",
       "techsupport         0.061032\n",
       "internetservice     0.055868\n",
       "onlinebackup        0.046923\n",
       "deviceprotection    0.043453\n",
       "paymentmethod       0.043210\n",
       "streamingtv         0.031853\n",
       "streamingmovies     0.031581\n",
       "paperlessbilling    0.017589\n",
       "dependents          0.012346\n",
       "partner             0.009968\n",
       "seniorcitizen       0.009410\n",
       "multiplelines       0.000857\n",
       "phoneservice        0.000229\n",
       "gender              0.000117\n",
       "dtype: float64"
      ]
     },
     "metadata": {},
     "execution_count": 53
    }
   ],
   "metadata": {}
  },
  {
   "cell_type": "code",
   "execution_count": 54,
   "source": [
    "mutual_info.gender"
   ],
   "outputs": [
    {
     "output_type": "execute_result",
     "data": {
      "text/plain": [
       "0.0001174846211139946"
      ]
     },
     "metadata": {},
     "execution_count": 54
    }
   ],
   "metadata": {}
  },
  {
   "cell_type": "markdown",
   "source": [
    "3.7 Feature importance: Correlation\r\n",
    "\r\n",
    "How about numerical columns?\r\n",
    "\r\n",
    "Correlation coefficient- https://en.wikipedia.org/wikiPearson_correlation_coefficient"
   ],
   "metadata": {}
  },
  {
   "cell_type": "code",
   "execution_count": 55,
   "source": [
    "df_full_train.tenure.max()"
   ],
   "outputs": [
    {
     "output_type": "execute_result",
     "data": {
      "text/plain": [
       "72"
      ]
     },
     "metadata": {},
     "execution_count": 55
    }
   ],
   "metadata": {}
  },
  {
   "cell_type": "code",
   "execution_count": 56,
   "source": [
    "df_full_train[numerical]"
   ],
   "outputs": [
    {
     "output_type": "execute_result",
     "data": {
      "text/html": [
       "<div>\n",
       "<style scoped>\n",
       "    .dataframe tbody tr th:only-of-type {\n",
       "        vertical-align: middle;\n",
       "    }\n",
       "\n",
       "    .dataframe tbody tr th {\n",
       "        vertical-align: top;\n",
       "    }\n",
       "\n",
       "    .dataframe thead th {\n",
       "        text-align: right;\n",
       "    }\n",
       "</style>\n",
       "<table border=\"1\" class=\"dataframe\">\n",
       "  <thead>\n",
       "    <tr style=\"text-align: right;\">\n",
       "      <th></th>\n",
       "      <th>tenure</th>\n",
       "      <th>monthlycharges</th>\n",
       "      <th>totalcharges</th>\n",
       "    </tr>\n",
       "  </thead>\n",
       "  <tbody>\n",
       "    <tr>\n",
       "      <th>0</th>\n",
       "      <td>12</td>\n",
       "      <td>19.70</td>\n",
       "      <td>258.35</td>\n",
       "    </tr>\n",
       "    <tr>\n",
       "      <th>1</th>\n",
       "      <td>42</td>\n",
       "      <td>73.90</td>\n",
       "      <td>3160.55</td>\n",
       "    </tr>\n",
       "    <tr>\n",
       "      <th>2</th>\n",
       "      <td>71</td>\n",
       "      <td>65.15</td>\n",
       "      <td>4681.75</td>\n",
       "    </tr>\n",
       "    <tr>\n",
       "      <th>3</th>\n",
       "      <td>71</td>\n",
       "      <td>85.45</td>\n",
       "      <td>6300.85</td>\n",
       "    </tr>\n",
       "    <tr>\n",
       "      <th>4</th>\n",
       "      <td>30</td>\n",
       "      <td>70.40</td>\n",
       "      <td>2044.75</td>\n",
       "    </tr>\n",
       "    <tr>\n",
       "      <th>...</th>\n",
       "      <td>...</td>\n",
       "      <td>...</td>\n",
       "      <td>...</td>\n",
       "    </tr>\n",
       "    <tr>\n",
       "      <th>5629</th>\n",
       "      <td>9</td>\n",
       "      <td>100.50</td>\n",
       "      <td>918.60</td>\n",
       "    </tr>\n",
       "    <tr>\n",
       "      <th>5630</th>\n",
       "      <td>60</td>\n",
       "      <td>19.95</td>\n",
       "      <td>1189.90</td>\n",
       "    </tr>\n",
       "    <tr>\n",
       "      <th>5631</th>\n",
       "      <td>28</td>\n",
       "      <td>105.70</td>\n",
       "      <td>2979.50</td>\n",
       "    </tr>\n",
       "    <tr>\n",
       "      <th>5632</th>\n",
       "      <td>2</td>\n",
       "      <td>54.40</td>\n",
       "      <td>114.10</td>\n",
       "    </tr>\n",
       "    <tr>\n",
       "      <th>5633</th>\n",
       "      <td>16</td>\n",
       "      <td>68.25</td>\n",
       "      <td>1114.85</td>\n",
       "    </tr>\n",
       "  </tbody>\n",
       "</table>\n",
       "<p>5634 rows × 3 columns</p>\n",
       "</div>"
      ],
      "text/plain": [
       "      tenure  monthlycharges  totalcharges\n",
       "0         12           19.70        258.35\n",
       "1         42           73.90       3160.55\n",
       "2         71           65.15       4681.75\n",
       "3         71           85.45       6300.85\n",
       "4         30           70.40       2044.75\n",
       "...      ...             ...           ...\n",
       "5629       9          100.50        918.60\n",
       "5630      60           19.95       1189.90\n",
       "5631      28          105.70       2979.50\n",
       "5632       2           54.40        114.10\n",
       "5633      16           68.25       1114.85\n",
       "\n",
       "[5634 rows x 3 columns]"
      ]
     },
     "metadata": {},
     "execution_count": 56
    }
   ],
   "metadata": {}
  },
  {
   "cell_type": "code",
   "execution_count": 57,
   "source": [
    "df_full_train[numerical].corrwith(df_full_train.churn)"
   ],
   "outputs": [
    {
     "output_type": "execute_result",
     "data": {
      "text/plain": [
       "tenure           -0.351885\n",
       "monthlycharges    0.196805\n",
       "totalcharges     -0.196353\n",
       "dtype: float64"
      ]
     },
     "metadata": {},
     "execution_count": 57
    }
   ],
   "metadata": {}
  },
  {
   "cell_type": "code",
   "execution_count": 58,
   "source": [
    "df_full_train[df_full_train.tenure >3].churn.mean()"
   ],
   "outputs": [
    {
     "output_type": "execute_result",
     "data": {
      "text/plain": [
       "0.21706398996235884"
      ]
     },
     "metadata": {},
     "execution_count": 58
    }
   ],
   "metadata": {}
  },
  {
   "cell_type": "markdown",
   "source": [
    "3.8 One-hot encoding\r\n",
    "\r\n",
    "\r\n",
    "Use Scikit-Learn to encode categorical features"
   ],
   "metadata": {}
  },
  {
   "cell_type": "code",
   "execution_count": 59,
   "source": [
    "#one-hot-encoding with sklearn\r\n",
    "from sklearn.feature_extraction import DictVectorizer\r\n"
   ],
   "outputs": [],
   "metadata": {}
  },
  {
   "cell_type": "code",
   "execution_count": 60,
   "source": [
    "df_train[['gender','contract']].iloc[:100]"
   ],
   "outputs": [
    {
     "output_type": "execute_result",
     "data": {
      "text/html": [
       "<div>\n",
       "<style scoped>\n",
       "    .dataframe tbody tr th:only-of-type {\n",
       "        vertical-align: middle;\n",
       "    }\n",
       "\n",
       "    .dataframe tbody tr th {\n",
       "        vertical-align: top;\n",
       "    }\n",
       "\n",
       "    .dataframe thead th {\n",
       "        text-align: right;\n",
       "    }\n",
       "</style>\n",
       "<table border=\"1\" class=\"dataframe\">\n",
       "  <thead>\n",
       "    <tr style=\"text-align: right;\">\n",
       "      <th></th>\n",
       "      <th>gender</th>\n",
       "      <th>contract</th>\n",
       "    </tr>\n",
       "  </thead>\n",
       "  <tbody>\n",
       "    <tr>\n",
       "      <th>0</th>\n",
       "      <td>female</td>\n",
       "      <td>two_year</td>\n",
       "    </tr>\n",
       "    <tr>\n",
       "      <th>1</th>\n",
       "      <td>male</td>\n",
       "      <td>month-to-month</td>\n",
       "    </tr>\n",
       "    <tr>\n",
       "      <th>2</th>\n",
       "      <td>female</td>\n",
       "      <td>month-to-month</td>\n",
       "    </tr>\n",
       "    <tr>\n",
       "      <th>3</th>\n",
       "      <td>female</td>\n",
       "      <td>month-to-month</td>\n",
       "    </tr>\n",
       "    <tr>\n",
       "      <th>4</th>\n",
       "      <td>female</td>\n",
       "      <td>two_year</td>\n",
       "    </tr>\n",
       "    <tr>\n",
       "      <th>...</th>\n",
       "      <td>...</td>\n",
       "      <td>...</td>\n",
       "    </tr>\n",
       "    <tr>\n",
       "      <th>95</th>\n",
       "      <td>male</td>\n",
       "      <td>one_year</td>\n",
       "    </tr>\n",
       "    <tr>\n",
       "      <th>96</th>\n",
       "      <td>female</td>\n",
       "      <td>month-to-month</td>\n",
       "    </tr>\n",
       "    <tr>\n",
       "      <th>97</th>\n",
       "      <td>male</td>\n",
       "      <td>month-to-month</td>\n",
       "    </tr>\n",
       "    <tr>\n",
       "      <th>98</th>\n",
       "      <td>male</td>\n",
       "      <td>one_year</td>\n",
       "    </tr>\n",
       "    <tr>\n",
       "      <th>99</th>\n",
       "      <td>male</td>\n",
       "      <td>month-to-month</td>\n",
       "    </tr>\n",
       "  </tbody>\n",
       "</table>\n",
       "<p>100 rows × 2 columns</p>\n",
       "</div>"
      ],
      "text/plain": [
       "    gender        contract\n",
       "0   female        two_year\n",
       "1     male  month-to-month\n",
       "2   female  month-to-month\n",
       "3   female  month-to-month\n",
       "4   female        two_year\n",
       "..     ...             ...\n",
       "95    male        one_year\n",
       "96  female  month-to-month\n",
       "97    male  month-to-month\n",
       "98    male        one_year\n",
       "99    male  month-to-month\n",
       "\n",
       "[100 rows x 2 columns]"
      ]
     },
     "metadata": {},
     "execution_count": 60
    }
   ],
   "metadata": {}
  },
  {
   "cell_type": "code",
   "execution_count": 61,
   "source": [
    "#converting to dictionary\r\n",
    "train_dicts = df_train[categorical + numerical].to_dict(orient='records')\r\n"
   ],
   "outputs": [],
   "metadata": {}
  },
  {
   "cell_type": "code",
   "execution_count": 62,
   "source": [
    "train_dicts[0]"
   ],
   "outputs": [
    {
     "output_type": "execute_result",
     "data": {
      "text/plain": [
       "{'gender': 'female',\n",
       " 'seniorcitizen': 0,\n",
       " 'partner': 'yes',\n",
       " 'dependents': 'yes',\n",
       " 'phoneservice': 'yes',\n",
       " 'multiplelines': 'yes',\n",
       " 'internetservice': 'fiber_optic',\n",
       " 'onlinesecurity': 'yes',\n",
       " 'onlinebackup': 'yes',\n",
       " 'deviceprotection': 'yes',\n",
       " 'techsupport': 'yes',\n",
       " 'streamingtv': 'yes',\n",
       " 'streamingmovies': 'yes',\n",
       " 'contract': 'two_year',\n",
       " 'paperlessbilling': 'yes',\n",
       " 'paymentmethod': 'electronic_check',\n",
       " 'tenure': 72,\n",
       " 'monthlycharges': 115.5,\n",
       " 'totalcharges': 8425.15}"
      ]
     },
     "metadata": {},
     "execution_count": 62
    }
   ],
   "metadata": {}
  },
  {
   "cell_type": "code",
   "execution_count": 63,
   "source": [
    "dv = DictVectorizer(sparse = False)"
   ],
   "outputs": [],
   "metadata": {}
  },
  {
   "cell_type": "code",
   "execution_count": 64,
   "source": [
    "dv.fit(train_dicts)\r\n",
    "X_train = dv.transform(train_dicts)"
   ],
   "outputs": [],
   "metadata": {}
  },
  {
   "cell_type": "code",
   "execution_count": 65,
   "source": [
    "dv.get_feature_names()"
   ],
   "outputs": [
    {
     "output_type": "execute_result",
     "data": {
      "text/plain": [
       "['contract=month-to-month',\n",
       " 'contract=one_year',\n",
       " 'contract=two_year',\n",
       " 'dependents=no',\n",
       " 'dependents=yes',\n",
       " 'deviceprotection=no',\n",
       " 'deviceprotection=no_internet_service',\n",
       " 'deviceprotection=yes',\n",
       " 'gender=female',\n",
       " 'gender=male',\n",
       " 'internetservice=dsl',\n",
       " 'internetservice=fiber_optic',\n",
       " 'internetservice=no',\n",
       " 'monthlycharges',\n",
       " 'multiplelines=no',\n",
       " 'multiplelines=no_phone_service',\n",
       " 'multiplelines=yes',\n",
       " 'onlinebackup=no',\n",
       " 'onlinebackup=no_internet_service',\n",
       " 'onlinebackup=yes',\n",
       " 'onlinesecurity=no',\n",
       " 'onlinesecurity=no_internet_service',\n",
       " 'onlinesecurity=yes',\n",
       " 'paperlessbilling=no',\n",
       " 'paperlessbilling=yes',\n",
       " 'partner=no',\n",
       " 'partner=yes',\n",
       " 'paymentmethod=bank_transfer_(automatic)',\n",
       " 'paymentmethod=credit_card_(automatic)',\n",
       " 'paymentmethod=electronic_check',\n",
       " 'paymentmethod=mailed_check',\n",
       " 'phoneservice=no',\n",
       " 'phoneservice=yes',\n",
       " 'seniorcitizen',\n",
       " 'streamingmovies=no',\n",
       " 'streamingmovies=no_internet_service',\n",
       " 'streamingmovies=yes',\n",
       " 'streamingtv=no',\n",
       " 'streamingtv=no_internet_service',\n",
       " 'streamingtv=yes',\n",
       " 'techsupport=no',\n",
       " 'techsupport=no_internet_service',\n",
       " 'techsupport=yes',\n",
       " 'tenure',\n",
       " 'totalcharges']"
      ]
     },
     "metadata": {},
     "execution_count": 65
    }
   ],
   "metadata": {}
  },
  {
   "cell_type": "code",
   "execution_count": 66,
   "source": [
    "X_train"
   ],
   "outputs": [
    {
     "output_type": "execute_result",
     "data": {
      "text/plain": [
       "array([[0.00000e+00, 0.00000e+00, 1.00000e+00, ..., 1.00000e+00,\n",
       "        7.20000e+01, 8.42515e+03],\n",
       "       [1.00000e+00, 0.00000e+00, 0.00000e+00, ..., 0.00000e+00,\n",
       "        1.00000e+01, 1.02155e+03],\n",
       "       [1.00000e+00, 0.00000e+00, 0.00000e+00, ..., 0.00000e+00,\n",
       "        5.00000e+00, 4.13650e+02],\n",
       "       ...,\n",
       "       [1.00000e+00, 0.00000e+00, 0.00000e+00, ..., 1.00000e+00,\n",
       "        2.00000e+00, 1.90050e+02],\n",
       "       [0.00000e+00, 0.00000e+00, 1.00000e+00, ..., 0.00000e+00,\n",
       "        2.70000e+01, 7.61950e+02],\n",
       "       [1.00000e+00, 0.00000e+00, 0.00000e+00, ..., 0.00000e+00,\n",
       "        9.00000e+00, 7.51650e+02]])"
      ]
     },
     "metadata": {},
     "execution_count": 66
    }
   ],
   "metadata": {}
  },
  {
   "cell_type": "code",
   "execution_count": 67,
   "source": [
    "X_train.shape"
   ],
   "outputs": [
    {
     "output_type": "execute_result",
     "data": {
      "text/plain": [
       "(4225, 45)"
      ]
     },
     "metadata": {},
     "execution_count": 67
    }
   ],
   "metadata": {}
  },
  {
   "cell_type": "code",
   "execution_count": 68,
   "source": [
    "val_dicts = df_val[categorical+numerical].to_dict(orient='records')"
   ],
   "outputs": [],
   "metadata": {}
  },
  {
   "cell_type": "code",
   "execution_count": 69,
   "source": [
    "X_val = dv.transform(val_dicts)"
   ],
   "outputs": [],
   "metadata": {}
  },
  {
   "cell_type": "code",
   "execution_count": 70,
   "source": [
    "X_val.shape"
   ],
   "outputs": [
    {
     "output_type": "execute_result",
     "data": {
      "text/plain": [
       "(1409, 45)"
      ]
     },
     "metadata": {},
     "execution_count": 70
    }
   ],
   "metadata": {}
  },
  {
   "cell_type": "markdown",
   "source": [
    "3.9 Logistic regression\r\n",
    "\r\n",
    "Binary classification\r\n",
    "\r\n",
    "Linear vs logistic regression"
   ],
   "metadata": {}
  },
  {
   "cell_type": "code",
   "execution_count": 71,
   "source": [
    "def sigmoid(z):\r\n",
    "    return (1/(1+np.exp(-z)))"
   ],
   "outputs": [],
   "metadata": {}
  },
  {
   "cell_type": "code",
   "execution_count": 72,
   "source": [
    "z = np.linspace(-7.5,8,61)"
   ],
   "outputs": [],
   "metadata": {}
  },
  {
   "cell_type": "code",
   "execution_count": 73,
   "source": [
    "sigmoid(z)"
   ],
   "outputs": [
    {
     "output_type": "execute_result",
     "data": {
      "text/plain": [
       "array([5.52778637e-04, 7.15604779e-04, 9.26348438e-04, 1.19908106e-03,\n",
       "       1.55198603e-03, 2.00854661e-03, 2.59906776e-03, 3.36261964e-03,\n",
       "       4.34950893e-03, 5.62440406e-03, 7.27025813e-03, 9.39318444e-03,\n",
       "       1.21284350e-02, 1.56475961e-02, 2.01670239e-02, 2.59573572e-02,\n",
       "       3.33536123e-02, 4.27648189e-02, 5.46813172e-02, 6.96766690e-02,\n",
       "       8.83996772e-02, 1.11550540e-01, 1.39834327e-01, 1.73885933e-01,\n",
       "       2.14165017e-01, 2.60828537e-01, 3.13601921e-01, 3.71683812e-01,\n",
       "       4.33725606e-01, 4.97916679e-01, 5.62176501e-01, 6.24415688e-01,\n",
       "       6.82799386e-01, 7.35945394e-01, 7.83016649e-01, 8.23706879e-01,\n",
       "       8.58148935e-01, 8.86786951e-01, 9.10247991e-01, 9.29235188e-01,\n",
       "       9.44450740e-01, 9.56547691e-01, 9.66104836e-01, 9.73617904e-01,\n",
       "       9.79500990e-01, 9.84093608e-01, 9.87670244e-01, 9.90450458e-01,\n",
       "       9.92608459e-01, 9.94281611e-01, 9.95577715e-01, 9.96581060e-01,\n",
       "       9.97357367e-01, 9.97957766e-01, 9.98421972e-01, 9.98780791e-01,\n",
       "       9.99058098e-01, 9.99272377e-01, 9.99437936e-01, 9.99565842e-01,\n",
       "       9.99664650e-01])"
      ]
     },
     "metadata": {},
     "execution_count": 73
    }
   ],
   "metadata": {}
  },
  {
   "cell_type": "code",
   "execution_count": 74,
   "source": [
    "#without_sigmoid\r\n",
    "def linear_reg(xi):\r\n",
    "    result = W0\r\n",
    "\r\n",
    "    for i in range(len(w)):\r\n",
    "        result = result + xi[i]*w[i]\r\n",
    "    return result\r\n"
   ],
   "outputs": [],
   "metadata": {}
  },
  {
   "cell_type": "code",
   "execution_count": 75,
   "source": [
    "#with_sigmoid\r\n",
    "def linear_reg(xi):\r\n",
    "    result = W0\r\n",
    "\r\n",
    "    for i in range(len(w)):\r\n",
    "        result = result + xi[i]*w[i]\r\n",
    "    score = sigmoid(result)\r\n",
    "    return score"
   ],
   "outputs": [],
   "metadata": {}
  },
  {
   "cell_type": "markdown",
   "source": [
    "3.10 Training logistic regression with Scikit-Learn\r\n",
    "\r\n",
    "Train a model with Scikit-Learn\r\n",
    "\r\n",
    "Apply it to the validation dataset\r\n",
    "\r\n",
    "Calculate the accuracy"
   ],
   "metadata": {}
  },
  {
   "cell_type": "code",
   "execution_count": 76,
   "source": [
    "from sklearn.linear_model import LogisticRegression"
   ],
   "outputs": [],
   "metadata": {}
  },
  {
   "cell_type": "code",
   "execution_count": 77,
   "source": [
    "model = LogisticRegression()"
   ],
   "outputs": [],
   "metadata": {}
  },
  {
   "cell_type": "code",
   "execution_count": 78,
   "source": [
    "model.fit(X_train,y_train)"
   ],
   "outputs": [
    {
     "output_type": "execute_result",
     "data": {
      "text/plain": [
       "LogisticRegression()"
      ]
     },
     "metadata": {},
     "execution_count": 78
    }
   ],
   "metadata": {}
  },
  {
   "cell_type": "code",
   "execution_count": 79,
   "source": [
    "#bias_term\r\n",
    "model.intercept_"
   ],
   "outputs": [
    {
     "output_type": "execute_result",
     "data": {
      "text/plain": [
       "array([-0.10903758])"
      ]
     },
     "metadata": {},
     "execution_count": 79
    }
   ],
   "metadata": {}
  },
  {
   "cell_type": "code",
   "execution_count": 80,
   "source": [
    "#weights_terms\r\n",
    "model.coef_\r\n"
   ],
   "outputs": [
    {
     "output_type": "execute_result",
     "data": {
      "text/plain": [
       "array([[ 4.74719535e-01, -1.74870020e-01, -4.07532126e-01,\n",
       "        -2.96849478e-02, -7.79976621e-02,  6.26859040e-02,\n",
       "        -8.89769353e-02, -8.13915786e-02, -3.43123239e-02,\n",
       "        -7.33702860e-02, -3.35204574e-01,  3.16498900e-01,\n",
       "        -8.89769353e-02,  3.67466529e-03, -2.58140670e-01,\n",
       "         1.41436236e-01,  9.02182437e-03,  6.25324839e-02,\n",
       "        -8.89769353e-02, -8.12381585e-02,  2.65585278e-01,\n",
       "        -8.89769353e-02, -2.84290953e-01, -2.31209398e-01,\n",
       "         1.23526788e-01, -1.66020934e-01,  5.83383240e-02,\n",
       "        -8.70078334e-02, -3.20586331e-02,  7.04908467e-02,\n",
       "        -5.91069901e-02,  1.41436236e-01, -2.49118846e-01,\n",
       "         2.15471357e-01, -1.20360509e-01, -8.89769353e-02,\n",
       "         1.01654834e-01, -7.08909053e-02, -8.89769353e-02,\n",
       "         5.21852307e-02,  2.13382385e-01, -8.89769353e-02,\n",
       "        -2.32088059e-01, -7.04076476e-02,  3.82392561e-04]])"
      ]
     },
     "metadata": {},
     "execution_count": 80
    }
   ],
   "metadata": {}
  },
  {
   "cell_type": "code",
   "execution_count": 81,
   "source": [
    "y_pred = model.predict_proba(X_val)[:,1]"
   ],
   "outputs": [],
   "metadata": {}
  },
  {
   "cell_type": "code",
   "execution_count": 82,
   "source": [
    "y_pred.shape"
   ],
   "outputs": [
    {
     "output_type": "execute_result",
     "data": {
      "text/plain": [
       "(1409,)"
      ]
     },
     "metadata": {},
     "execution_count": 82
    }
   ],
   "metadata": {}
  },
  {
   "cell_type": "code",
   "execution_count": 83,
   "source": [
    "churn_decision = y_pred >=0.5"
   ],
   "outputs": [],
   "metadata": {}
  },
  {
   "cell_type": "code",
   "execution_count": 84,
   "source": [
    "churn_decision"
   ],
   "outputs": [
    {
     "output_type": "execute_result",
     "data": {
      "text/plain": [
       "array([False, False, False, ..., False,  True,  True])"
      ]
     },
     "metadata": {},
     "execution_count": 84
    }
   ],
   "metadata": {}
  },
  {
   "cell_type": "code",
   "execution_count": 85,
   "source": [
    "churn_decision.shape"
   ],
   "outputs": [
    {
     "output_type": "execute_result",
     "data": {
      "text/plain": [
       "(1409,)"
      ]
     },
     "metadata": {},
     "execution_count": 85
    }
   ],
   "metadata": {}
  },
  {
   "cell_type": "code",
   "execution_count": 86,
   "source": [
    "(y_val==churn_decision).mean()"
   ],
   "outputs": [
    {
     "output_type": "execute_result",
     "data": {
      "text/plain": [
       "0.8034066713981547"
      ]
     },
     "metadata": {},
     "execution_count": 86
    }
   ],
   "metadata": {}
  },
  {
   "cell_type": "code",
   "execution_count": 87,
   "source": [
    "df_pred = pd.DataFrame()\r\n",
    "df_pred['probability'] = y_pred\r\n",
    "df_pred['prediction'] = churn_decision.astype(int)\r\n",
    "df_pred['actual'] = y_val"
   ],
   "outputs": [],
   "metadata": {}
  },
  {
   "cell_type": "code",
   "execution_count": 88,
   "source": [
    "df_pred['correct'] = df_pred['prediction'] == df_pred['actual']"
   ],
   "outputs": [],
   "metadata": {}
  },
  {
   "cell_type": "code",
   "execution_count": 89,
   "source": [
    "df_pred"
   ],
   "outputs": [
    {
     "output_type": "execute_result",
     "data": {
      "text/html": [
       "<div>\n",
       "<style scoped>\n",
       "    .dataframe tbody tr th:only-of-type {\n",
       "        vertical-align: middle;\n",
       "    }\n",
       "\n",
       "    .dataframe tbody tr th {\n",
       "        vertical-align: top;\n",
       "    }\n",
       "\n",
       "    .dataframe thead th {\n",
       "        text-align: right;\n",
       "    }\n",
       "</style>\n",
       "<table border=\"1\" class=\"dataframe\">\n",
       "  <thead>\n",
       "    <tr style=\"text-align: right;\">\n",
       "      <th></th>\n",
       "      <th>probability</th>\n",
       "      <th>prediction</th>\n",
       "      <th>actual</th>\n",
       "      <th>correct</th>\n",
       "    </tr>\n",
       "  </thead>\n",
       "  <tbody>\n",
       "    <tr>\n",
       "      <th>0</th>\n",
       "      <td>0.008997</td>\n",
       "      <td>0</td>\n",
       "      <td>0</td>\n",
       "      <td>True</td>\n",
       "    </tr>\n",
       "    <tr>\n",
       "      <th>1</th>\n",
       "      <td>0.204509</td>\n",
       "      <td>0</td>\n",
       "      <td>0</td>\n",
       "      <td>True</td>\n",
       "    </tr>\n",
       "    <tr>\n",
       "      <th>2</th>\n",
       "      <td>0.212210</td>\n",
       "      <td>0</td>\n",
       "      <td>0</td>\n",
       "      <td>True</td>\n",
       "    </tr>\n",
       "    <tr>\n",
       "      <th>3</th>\n",
       "      <td>0.543050</td>\n",
       "      <td>1</td>\n",
       "      <td>1</td>\n",
       "      <td>True</td>\n",
       "    </tr>\n",
       "    <tr>\n",
       "      <th>4</th>\n",
       "      <td>0.213774</td>\n",
       "      <td>0</td>\n",
       "      <td>0</td>\n",
       "      <td>True</td>\n",
       "    </tr>\n",
       "    <tr>\n",
       "      <th>...</th>\n",
       "      <td>...</td>\n",
       "      <td>...</td>\n",
       "      <td>...</td>\n",
       "      <td>...</td>\n",
       "    </tr>\n",
       "    <tr>\n",
       "      <th>1404</th>\n",
       "      <td>0.313666</td>\n",
       "      <td>0</td>\n",
       "      <td>0</td>\n",
       "      <td>True</td>\n",
       "    </tr>\n",
       "    <tr>\n",
       "      <th>1405</th>\n",
       "      <td>0.039358</td>\n",
       "      <td>0</td>\n",
       "      <td>1</td>\n",
       "      <td>False</td>\n",
       "    </tr>\n",
       "    <tr>\n",
       "      <th>1406</th>\n",
       "      <td>0.136387</td>\n",
       "      <td>0</td>\n",
       "      <td>0</td>\n",
       "      <td>True</td>\n",
       "    </tr>\n",
       "    <tr>\n",
       "      <th>1407</th>\n",
       "      <td>0.799770</td>\n",
       "      <td>1</td>\n",
       "      <td>1</td>\n",
       "      <td>True</td>\n",
       "    </tr>\n",
       "    <tr>\n",
       "      <th>1408</th>\n",
       "      <td>0.837407</td>\n",
       "      <td>1</td>\n",
       "      <td>1</td>\n",
       "      <td>True</td>\n",
       "    </tr>\n",
       "  </tbody>\n",
       "</table>\n",
       "<p>1409 rows × 4 columns</p>\n",
       "</div>"
      ],
      "text/plain": [
       "      probability  prediction  actual  correct\n",
       "0        0.008997           0       0     True\n",
       "1        0.204509           0       0     True\n",
       "2        0.212210           0       0     True\n",
       "3        0.543050           1       1     True\n",
       "4        0.213774           0       0     True\n",
       "...           ...         ...     ...      ...\n",
       "1404     0.313666           0       0     True\n",
       "1405     0.039358           0       1    False\n",
       "1406     0.136387           0       0     True\n",
       "1407     0.799770           1       1     True\n",
       "1408     0.837407           1       1     True\n",
       "\n",
       "[1409 rows x 4 columns]"
      ]
     },
     "metadata": {},
     "execution_count": 89
    }
   ],
   "metadata": {}
  },
  {
   "cell_type": "code",
   "execution_count": 90,
   "source": [
    "df_pred.correct.mean()"
   ],
   "outputs": [
    {
     "output_type": "execute_result",
     "data": {
      "text/plain": [
       "0.8034066713981547"
      ]
     },
     "metadata": {},
     "execution_count": 90
    }
   ],
   "metadata": {}
  },
  {
   "cell_type": "markdown",
   "source": [
    "3.11 Model interpretation\r\n",
    "\r\n",
    "Look at the coefficients\r\n",
    "\r\n",
    "Train a smaller model with fewer features\r\n"
   ],
   "metadata": {}
  },
  {
   "cell_type": "code",
   "execution_count": 96,
   "source": [
    "a = ['2504','23694','23345','2332']\r\n",
    "b = ['a','b','c','d']\r\n",
    "s = list(zip(a,b))"
   ],
   "outputs": [],
   "metadata": {}
  },
  {
   "cell_type": "code",
   "execution_count": 97,
   "source": [
    "s"
   ],
   "outputs": [
    {
     "output_type": "execute_result",
     "data": {
      "text/plain": [
       "[('2504', 'a'), ('23694', 'b'), ('23345', 'c'), ('2332', 'd')]"
      ]
     },
     "metadata": {},
     "execution_count": 97
    }
   ],
   "metadata": {}
  },
  {
   "cell_type": "code",
   "execution_count": 98,
   "source": [
    "dict(zip(dv.get_feature_names(),model.coef_[0].round(3)))"
   ],
   "outputs": [
    {
     "output_type": "execute_result",
     "data": {
      "text/plain": [
       "{'contract=month-to-month': 0.475,\n",
       " 'contract=one_year': -0.175,\n",
       " 'contract=two_year': -0.408,\n",
       " 'dependents=no': -0.03,\n",
       " 'dependents=yes': -0.078,\n",
       " 'deviceprotection=no': 0.063,\n",
       " 'deviceprotection=no_internet_service': -0.089,\n",
       " 'deviceprotection=yes': -0.081,\n",
       " 'gender=female': -0.034,\n",
       " 'gender=male': -0.073,\n",
       " 'internetservice=dsl': -0.335,\n",
       " 'internetservice=fiber_optic': 0.316,\n",
       " 'internetservice=no': -0.089,\n",
       " 'monthlycharges': 0.004,\n",
       " 'multiplelines=no': -0.258,\n",
       " 'multiplelines=no_phone_service': 0.141,\n",
       " 'multiplelines=yes': 0.009,\n",
       " 'onlinebackup=no': 0.063,\n",
       " 'onlinebackup=no_internet_service': -0.089,\n",
       " 'onlinebackup=yes': -0.081,\n",
       " 'onlinesecurity=no': 0.266,\n",
       " 'onlinesecurity=no_internet_service': -0.089,\n",
       " 'onlinesecurity=yes': -0.284,\n",
       " 'paperlessbilling=no': -0.231,\n",
       " 'paperlessbilling=yes': 0.124,\n",
       " 'partner=no': -0.166,\n",
       " 'partner=yes': 0.058,\n",
       " 'paymentmethod=bank_transfer_(automatic)': -0.087,\n",
       " 'paymentmethod=credit_card_(automatic)': -0.032,\n",
       " 'paymentmethod=electronic_check': 0.07,\n",
       " 'paymentmethod=mailed_check': -0.059,\n",
       " 'phoneservice=no': 0.141,\n",
       " 'phoneservice=yes': -0.249,\n",
       " 'seniorcitizen': 0.215,\n",
       " 'streamingmovies=no': -0.12,\n",
       " 'streamingmovies=no_internet_service': -0.089,\n",
       " 'streamingmovies=yes': 0.102,\n",
       " 'streamingtv=no': -0.071,\n",
       " 'streamingtv=no_internet_service': -0.089,\n",
       " 'streamingtv=yes': 0.052,\n",
       " 'techsupport=no': 0.213,\n",
       " 'techsupport=no_internet_service': -0.089,\n",
       " 'techsupport=yes': -0.232,\n",
       " 'tenure': -0.07,\n",
       " 'totalcharges': 0.0}"
      ]
     },
     "metadata": {},
     "execution_count": 98
    }
   ],
   "metadata": {}
  },
  {
   "cell_type": "code",
   "execution_count": 91,
   "source": [
    "model.coef_[0].round(3)"
   ],
   "outputs": [
    {
     "output_type": "execute_result",
     "data": {
      "text/plain": [
       "array([ 0.475, -0.175, -0.408, -0.03 , -0.078,  0.063, -0.089, -0.081,\n",
       "       -0.034, -0.073, -0.335,  0.316, -0.089,  0.004, -0.258,  0.141,\n",
       "        0.009,  0.063, -0.089, -0.081,  0.266, -0.089, -0.284, -0.231,\n",
       "        0.124, -0.166,  0.058, -0.087, -0.032,  0.07 , -0.059,  0.141,\n",
       "       -0.249,  0.215, -0.12 , -0.089,  0.102, -0.071, -0.089,  0.052,\n",
       "        0.213, -0.089, -0.232, -0.07 ,  0.   ])"
      ]
     },
     "metadata": {},
     "execution_count": 91
    }
   ],
   "metadata": {}
  },
  {
   "cell_type": "code",
   "execution_count": 99,
   "source": [
    "small = ['contract','tenure','monthlycharges']"
   ],
   "outputs": [],
   "metadata": {}
  },
  {
   "cell_type": "code",
   "execution_count": 104,
   "source": [
    "dicts_train_small = df_train[small].to_dict(orient='records')\r\n",
    "dicts_val_small = df_val[small].to_dict(orient='records')\r\n"
   ],
   "outputs": [],
   "metadata": {}
  },
  {
   "cell_type": "code",
   "execution_count": 105,
   "source": [
    "dicts_train_small"
   ],
   "outputs": [
    {
     "output_type": "execute_result",
     "data": {
      "text/plain": [
       "[{'contract': 'two_year', 'tenure': 72, 'monthlycharges': 115.5},\n",
       " {'contract': 'month-to-month', 'tenure': 10, 'monthlycharges': 95.25},\n",
       " {'contract': 'month-to-month', 'tenure': 5, 'monthlycharges': 75.55},\n",
       " {'contract': 'month-to-month', 'tenure': 5, 'monthlycharges': 80.85},\n",
       " {'contract': 'two_year', 'tenure': 18, 'monthlycharges': 20.1},\n",
       " {'contract': 'month-to-month', 'tenure': 4, 'monthlycharges': 30.5},\n",
       " {'contract': 'month-to-month', 'tenure': 1, 'monthlycharges': 75.1},\n",
       " {'contract': 'month-to-month', 'tenure': 1, 'monthlycharges': 70.3},\n",
       " {'contract': 'two_year', 'tenure': 72, 'monthlycharges': 19.75},\n",
       " {'contract': 'month-to-month', 'tenure': 6, 'monthlycharges': 109.9},\n",
       " {'contract': 'two_year', 'tenure': 72, 'monthlycharges': 99.9},\n",
       " {'contract': 'month-to-month', 'tenure': 17, 'monthlycharges': 102.55},\n",
       " {'contract': 'two_year', 'tenure': 66, 'monthlycharges': 58.2},\n",
       " {'contract': 'month-to-month', 'tenure': 2, 'monthlycharges': 68.95},\n",
       " {'contract': 'month-to-month', 'tenure': 4, 'monthlycharges': 20.15},\n",
       " {'contract': 'month-to-month', 'tenure': 3, 'monthlycharges': 70.7},\n",
       " {'contract': 'two_year', 'tenure': 71, 'monthlycharges': 19.6},\n",
       " {'contract': 'month-to-month', 'tenure': 32, 'monthlycharges': 90.95},\n",
       " {'contract': 'one_year', 'tenure': 53, 'monthlycharges': 105.25},\n",
       " {'contract': 'two_year', 'tenure': 56, 'monthlycharges': 103.2},\n",
       " {'contract': 'month-to-month', 'tenure': 61, 'monthlycharges': 106.45},\n",
       " {'contract': 'one_year', 'tenure': 41, 'monthlycharges': 50.05},\n",
       " {'contract': 'month-to-month', 'tenure': 1, 'monthlycharges': 44.9},\n",
       " {'contract': 'two_year', 'tenure': 3, 'monthlycharges': 71.1},\n",
       " {'contract': 'month-to-month', 'tenure': 3, 'monthlycharges': 94.6},\n",
       " {'contract': 'two_year', 'tenure': 12, 'monthlycharges': 21.05},\n",
       " {'contract': 'month-to-month', 'tenure': 41, 'monthlycharges': 98.05},\n",
       " {'contract': 'month-to-month', 'tenure': 47, 'monthlycharges': 85.2},\n",
       " {'contract': 'month-to-month', 'tenure': 2, 'monthlycharges': 20.3},\n",
       " {'contract': 'one_year', 'tenure': 66, 'monthlycharges': 70.85},\n",
       " {'contract': 'month-to-month', 'tenure': 8, 'monthlycharges': 59.25},\n",
       " {'contract': 'month-to-month', 'tenure': 1, 'monthlycharges': 19.9},\n",
       " {'contract': 'one_year', 'tenure': 35, 'monthlycharges': 40.9},\n",
       " {'contract': 'one_year', 'tenure': 67, 'monthlycharges': 107.05},\n",
       " {'contract': 'month-to-month', 'tenure': 1, 'monthlycharges': 31.35},\n",
       " {'contract': 'one_year', 'tenure': 46, 'monthlycharges': 103.15},\n",
       " {'contract': 'one_year', 'tenure': 37, 'monthlycharges': 80.05},\n",
       " {'contract': 'two_year', 'tenure': 72, 'monthlycharges': 90.6},\n",
       " {'contract': 'month-to-month', 'tenure': 35, 'monthlycharges': 75.35},\n",
       " {'contract': 'month-to-month', 'tenure': 43, 'monthlycharges': 94.1},\n",
       " {'contract': 'month-to-month', 'tenure': 20, 'monthlycharges': 20.35},\n",
       " {'contract': 'month-to-month', 'tenure': 64, 'monthlycharges': 81.05},\n",
       " {'contract': 'month-to-month', 'tenure': 6, 'monthlycharges': 44.4},\n",
       " {'contract': 'month-to-month', 'tenure': 9, 'monthlycharges': 55.35},\n",
       " {'contract': 'month-to-month', 'tenure': 18, 'monthlycharges': 25.55},\n",
       " {'contract': 'one_year', 'tenure': 46, 'monthlycharges': 94.15},\n",
       " {'contract': 'month-to-month', 'tenure': 9, 'monthlycharges': 70.05},\n",
       " {'contract': 'two_year', 'tenure': 69, 'monthlycharges': 20.15},\n",
       " {'contract': 'month-to-month', 'tenure': 32, 'monthlycharges': 19.45},\n",
       " {'contract': 'two_year', 'tenure': 67, 'monthlycharges': 75.5},\n",
       " {'contract': 'two_year', 'tenure': 69, 'monthlycharges': 80.65},\n",
       " {'contract': 'month-to-month', 'tenure': 6, 'monthlycharges': 80.5},\n",
       " {'contract': 'one_year', 'tenure': 30, 'monthlycharges': 40.35},\n",
       " {'contract': 'month-to-month', 'tenure': 30, 'monthlycharges': 54.45},\n",
       " {'contract': 'one_year', 'tenure': 58, 'monthlycharges': 45.35},\n",
       " {'contract': 'month-to-month', 'tenure': 18, 'monthlycharges': 90.1},\n",
       " {'contract': 'month-to-month', 'tenure': 34, 'monthlycharges': 71.55},\n",
       " {'contract': 'one_year', 'tenure': 2, 'monthlycharges': 20.2},\n",
       " {'contract': 'two_year', 'tenure': 10, 'monthlycharges': 20.15},\n",
       " {'contract': 'two_year', 'tenure': 71, 'monthlycharges': 99.0},\n",
       " {'contract': 'two_year', 'tenure': 72, 'monthlycharges': 60.95},\n",
       " {'contract': 'two_year', 'tenure': 46, 'monthlycharges': 21.1},\n",
       " {'contract': 'month-to-month', 'tenure': 49, 'monthlycharges': 74.6},\n",
       " {'contract': 'two_year', 'tenure': 65, 'monthlycharges': 59.95},\n",
       " {'contract': 'month-to-month', 'tenure': 15, 'monthlycharges': 74.9},\n",
       " {'contract': 'one_year', 'tenure': 58, 'monthlycharges': 103.25},\n",
       " {'contract': 'one_year', 'tenure': 66, 'monthlycharges': 54.8},\n",
       " {'contract': 'two_year', 'tenure': 66, 'monthlycharges': 19.7},\n",
       " {'contract': 'one_year', 'tenure': 68, 'monthlycharges': 19.5},\n",
       " {'contract': 'one_year', 'tenure': 45, 'monthlycharges': 102.15},\n",
       " {'contract': 'month-to-month', 'tenure': 1, 'monthlycharges': 20.2},\n",
       " {'contract': 'month-to-month', 'tenure': 11, 'monthlycharges': 79.5},\n",
       " {'contract': 'month-to-month', 'tenure': 18, 'monthlycharges': 99.75},\n",
       " {'contract': 'two_year', 'tenure': 71, 'monthlycharges': 97.2},\n",
       " {'contract': 'month-to-month', 'tenure': 4, 'monthlycharges': 80.8},\n",
       " {'contract': 'month-to-month', 'tenure': 13, 'monthlycharges': 56.0},\n",
       " {'contract': 'two_year', 'tenure': 50, 'monthlycharges': 20.15},\n",
       " {'contract': 'month-to-month', 'tenure': 12, 'monthlycharges': 50.95},\n",
       " {'contract': 'month-to-month', 'tenure': 1, 'monthlycharges': 43.85},\n",
       " {'contract': 'one_year', 'tenure': 7, 'monthlycharges': 19.9},\n",
       " {'contract': 'one_year', 'tenure': 71, 'monthlycharges': 105.75},\n",
       " {'contract': 'month-to-month', 'tenure': 1, 'monthlycharges': 80.55},\n",
       " {'contract': 'month-to-month', 'tenure': 21, 'monthlycharges': 104.35},\n",
       " {'contract': 'month-to-month', 'tenure': 12, 'monthlycharges': 86.55},\n",
       " {'contract': 'month-to-month', 'tenure': 1, 'monthlycharges': 50.5},\n",
       " {'contract': 'month-to-month', 'tenure': 33, 'monthlycharges': 95.0},\n",
       " {'contract': 'month-to-month', 'tenure': 46, 'monthlycharges': 72.8},\n",
       " {'contract': 'one_year', 'tenure': 44, 'monthlycharges': 61.5},\n",
       " {'contract': 'two_year', 'tenure': 70, 'monthlycharges': 88.55},\n",
       " {'contract': 'one_year', 'tenure': 7, 'monthlycharges': 49.75},\n",
       " {'contract': 'month-to-month', 'tenure': 18, 'monthlycharges': 69.8},\n",
       " {'contract': 'one_year', 'tenure': 54, 'monthlycharges': 65.25},\n",
       " {'contract': 'month-to-month', 'tenure': 35, 'monthlycharges': 33.45},\n",
       " {'contract': 'month-to-month', 'tenure': 5, 'monthlycharges': 70.25},\n",
       " {'contract': 'month-to-month', 'tenure': 35, 'monthlycharges': 86.45},\n",
       " {'contract': 'one_year', 'tenure': 39, 'monthlycharges': 25.25},\n",
       " {'contract': 'month-to-month', 'tenure': 19, 'monthlycharges': 48.8},\n",
       " {'contract': 'month-to-month', 'tenure': 21, 'monthlycharges': 36.0},\n",
       " {'contract': 'one_year', 'tenure': 43, 'monthlycharges': 104.3},\n",
       " {'contract': 'month-to-month', 'tenure': 19, 'monthlycharges': 95.9},\n",
       " {'contract': 'two_year', 'tenure': 72, 'monthlycharges': 112.6},\n",
       " {'contract': 'month-to-month', 'tenure': 59, 'monthlycharges': 101.1},\n",
       " {'contract': 'two_year', 'tenure': 11, 'monthlycharges': 19.65},\n",
       " {'contract': 'month-to-month', 'tenure': 9, 'monthlycharges': 59.5},\n",
       " {'contract': 'two_year', 'tenure': 70, 'monthlycharges': 20.15},\n",
       " {'contract': 'month-to-month', 'tenure': 22, 'monthlycharges': 39.2},\n",
       " {'contract': 'two_year', 'tenure': 69, 'monthlycharges': 19.1},\n",
       " {'contract': 'month-to-month', 'tenure': 16, 'monthlycharges': 94.45},\n",
       " {'contract': 'one_year', 'tenure': 32, 'monthlycharges': 30.15},\n",
       " {'contract': 'two_year', 'tenure': 61, 'monthlycharges': 20.25},\n",
       " {'contract': 'month-to-month', 'tenure': 14, 'monthlycharges': 80.05},\n",
       " {'contract': 'month-to-month', 'tenure': 34, 'monthlycharges': 85.2},\n",
       " {'contract': 'two_year', 'tenure': 40, 'monthlycharges': 19.65},\n",
       " {'contract': 'month-to-month', 'tenure': 1, 'monthlycharges': 45.4},\n",
       " {'contract': 'two_year', 'tenure': 6, 'monthlycharges': 20.1},\n",
       " {'contract': 'month-to-month', 'tenure': 39, 'monthlycharges': 50.75},\n",
       " {'contract': 'two_year', 'tenure': 56, 'monthlycharges': 24.15},\n",
       " {'contract': 'one_year', 'tenure': 36, 'monthlycharges': 63.7},\n",
       " {'contract': 'one_year', 'tenure': 44, 'monthlycharges': 53.95},\n",
       " {'contract': 'month-to-month', 'tenure': 7, 'monthlycharges': 69.95},\n",
       " {'contract': 'month-to-month', 'tenure': 2, 'monthlycharges': 75.9},\n",
       " {'contract': 'two_year', 'tenure': 72, 'monthlycharges': 109.55},\n",
       " {'contract': 'month-to-month', 'tenure': 1, 'monthlycharges': 19.2},\n",
       " {'contract': 'month-to-month', 'tenure': 71, 'monthlycharges': 105.1},\n",
       " {'contract': 'month-to-month', 'tenure': 17, 'monthlycharges': 78.9},\n",
       " {'contract': 'one_year', 'tenure': 26, 'monthlycharges': 56.05},\n",
       " {'contract': 'month-to-month', 'tenure': 29, 'monthlycharges': 76.0},\n",
       " {'contract': 'two_year', 'tenure': 72, 'monthlycharges': 68.75},\n",
       " {'contract': 'month-to-month', 'tenure': 24, 'monthlycharges': 99.65},\n",
       " {'contract': 'two_year', 'tenure': 11, 'monthlycharges': 25.0},\n",
       " {'contract': 'one_year', 'tenure': 51, 'monthlycharges': 76.4},\n",
       " {'contract': 'month-to-month', 'tenure': 4, 'monthlycharges': 50.05},\n",
       " {'contract': 'month-to-month', 'tenure': 43, 'monthlycharges': 86.1},\n",
       " {'contract': 'month-to-month', 'tenure': 16, 'monthlycharges': 85.35},\n",
       " {'contract': 'month-to-month', 'tenure': 10, 'monthlycharges': 60.95},\n",
       " {'contract': 'one_year', 'tenure': 64, 'monthlycharges': 104.4},\n",
       " {'contract': 'month-to-month', 'tenure': 12, 'monthlycharges': 56.65},\n",
       " {'contract': 'month-to-month', 'tenure': 18, 'monthlycharges': 74.8},\n",
       " {'contract': 'one_year', 'tenure': 65, 'monthlycharges': 110.0},\n",
       " {'contract': 'month-to-month', 'tenure': 29, 'monthlycharges': 100.55},\n",
       " {'contract': 'month-to-month', 'tenure': 44, 'monthlycharges': 84.8},\n",
       " {'contract': 'month-to-month', 'tenure': 7, 'monthlycharges': 70.75},\n",
       " {'contract': 'month-to-month', 'tenure': 1, 'monthlycharges': 45.0},\n",
       " {'contract': 'month-to-month', 'tenure': 31, 'monthlycharges': 96.6},\n",
       " {'contract': 'one_year', 'tenure': 9, 'monthlycharges': 50.8},\n",
       " {'contract': 'month-to-month', 'tenure': 1, 'monthlycharges': 71.65},\n",
       " {'contract': 'two_year', 'tenure': 60, 'monthlycharges': 53.6},\n",
       " {'contract': 'one_year', 'tenure': 13, 'monthlycharges': 19.95},\n",
       " {'contract': 'month-to-month', 'tenure': 3, 'monthlycharges': 100.95},\n",
       " {'contract': 'month-to-month', 'tenure': 10, 'monthlycharges': 19.8},\n",
       " {'contract': 'month-to-month', 'tenure': 50, 'monthlycharges': 39.45},\n",
       " {'contract': 'two_year', 'tenure': 8, 'monthlycharges': 20.25},\n",
       " {'contract': 'month-to-month', 'tenure': 41, 'monthlycharges': 53.95},\n",
       " {'contract': 'month-to-month', 'tenure': 10, 'monthlycharges': 85.95},\n",
       " {'contract': 'one_year', 'tenure': 31, 'monthlycharges': 81.7},\n",
       " {'contract': 'month-to-month', 'tenure': 40, 'monthlycharges': 74.55},\n",
       " {'contract': 'month-to-month', 'tenure': 17, 'monthlycharges': 95.65},\n",
       " {'contract': 'month-to-month', 'tenure': 11, 'monthlycharges': 20.45},\n",
       " {'contract': 'month-to-month', 'tenure': 19, 'monthlycharges': 20.0},\n",
       " {'contract': 'month-to-month', 'tenure': 31, 'monthlycharges': 84.75},\n",
       " {'contract': 'month-to-month', 'tenure': 10, 'monthlycharges': 81.0},\n",
       " {'contract': 'month-to-month', 'tenure': 1, 'monthlycharges': 69.7},\n",
       " {'contract': 'month-to-month', 'tenure': 1, 'monthlycharges': 80.8},\n",
       " {'contract': 'one_year', 'tenure': 6, 'monthlycharges': 20.6},\n",
       " {'contract': 'month-to-month', 'tenure': 1, 'monthlycharges': 69.95},\n",
       " {'contract': 'one_year', 'tenure': 41, 'monthlycharges': 70.2},\n",
       " {'contract': 'two_year', 'tenure': 66, 'monthlycharges': 20.0},\n",
       " {'contract': 'month-to-month', 'tenure': 26, 'monthlycharges': 86.65},\n",
       " {'contract': 'one_year', 'tenure': 34, 'monthlycharges': 30.4},\n",
       " {'contract': 'two_year', 'tenure': 60, 'monthlycharges': 115.25},\n",
       " {'contract': 'month-to-month', 'tenure': 37, 'monthlycharges': 99.5},\n",
       " {'contract': 'one_year', 'tenure': 18, 'monthlycharges': 89.6},\n",
       " {'contract': 'one_year', 'tenure': 62, 'monthlycharges': 74.3},\n",
       " {'contract': 'two_year', 'tenure': 47, 'monthlycharges': 20.55},\n",
       " {'contract': 'one_year', 'tenure': 7, 'monthlycharges': 20.65},\n",
       " {'contract': 'month-to-month', 'tenure': 10, 'monthlycharges': 85.25},\n",
       " {'contract': 'month-to-month', 'tenure': 5, 'monthlycharges': 89.35},\n",
       " {'contract': 'month-to-month', 'tenure': 19, 'monthlycharges': 59.8},\n",
       " {'contract': 'one_year', 'tenure': 20, 'monthlycharges': 20.35},\n",
       " {'contract': 'two_year', 'tenure': 72, 'monthlycharges': 92.3},\n",
       " {'contract': 'month-to-month', 'tenure': 1, 'monthlycharges': 95.65},\n",
       " {'contract': 'one_year', 'tenure': 66, 'monthlycharges': 92.15},\n",
       " {'contract': 'month-to-month', 'tenure': 24, 'monthlycharges': 66.3},\n",
       " {'contract': 'one_year', 'tenure': 25, 'monthlycharges': 20.95},\n",
       " {'contract': 'month-to-month', 'tenure': 43, 'monthlycharges': 75.2},\n",
       " {'contract': 'month-to-month', 'tenure': 58, 'monthlycharges': 80.65},\n",
       " {'contract': 'month-to-month', 'tenure': 20, 'monthlycharges': 18.9},\n",
       " {'contract': 'one_year', 'tenure': 27, 'monthlycharges': 81.7},\n",
       " {'contract': 'month-to-month', 'tenure': 8, 'monthlycharges': 103.35},\n",
       " {'contract': 'month-to-month', 'tenure': 60, 'monthlycharges': 79.05},\n",
       " {'contract': 'one_year', 'tenure': 11, 'monthlycharges': 36.05},\n",
       " {'contract': 'month-to-month', 'tenure': 10, 'monthlycharges': 35.75},\n",
       " {'contract': 'two_year', 'tenure': 69, 'monthlycharges': 108.4},\n",
       " {'contract': 'two_year', 'tenure': 42, 'monthlycharges': 22.95},\n",
       " {'contract': 'one_year', 'tenure': 34, 'monthlycharges': 64.2},\n",
       " {'contract': 'one_year', 'tenure': 27, 'monthlycharges': 45.85},\n",
       " {'contract': 'month-to-month', 'tenure': 20, 'monthlycharges': 24.9},\n",
       " {'contract': 'two_year', 'tenure': 72, 'monthlycharges': 25.2},\n",
       " {'contract': 'month-to-month', 'tenure': 3, 'monthlycharges': 79.65},\n",
       " {'contract': 'month-to-month', 'tenure': 1, 'monthlycharges': 80.5},\n",
       " {'contract': 'two_year', 'tenure': 64, 'monthlycharges': 70.2},\n",
       " {'contract': 'one_year', 'tenure': 56, 'monthlycharges': 106.8},\n",
       " {'contract': 'month-to-month', 'tenure': 47, 'monthlycharges': 98.75},\n",
       " {'contract': 'two_year', 'tenure': 70, 'monthlycharges': 79.15},\n",
       " {'contract': 'two_year', 'tenure': 48, 'monthlycharges': 108.1},\n",
       " {'contract': 'month-to-month', 'tenure': 1, 'monthlycharges': 61.15},\n",
       " {'contract': 'month-to-month', 'tenure': 3, 'monthlycharges': 19.9},\n",
       " {'contract': 'month-to-month', 'tenure': 29, 'monthlycharges': 33.75},\n",
       " {'contract': 'month-to-month', 'tenure': 12, 'monthlycharges': 112.95},\n",
       " {'contract': 'month-to-month', 'tenure': 8, 'monthlycharges': 74.85},\n",
       " {'contract': 'month-to-month', 'tenure': 1, 'monthlycharges': 75.1},\n",
       " {'contract': 'two_year', 'tenure': 23, 'monthlycharges': 77.15},\n",
       " {'contract': 'month-to-month', 'tenure': 47, 'monthlycharges': 85.5},\n",
       " {'contract': 'month-to-month', 'tenure': 54, 'monthlycharges': 99.05},\n",
       " {'contract': 'one_year', 'tenure': 25, 'monthlycharges': 54.2},\n",
       " {'contract': 'month-to-month', 'tenure': 26, 'monthlycharges': 84.3},\n",
       " {'contract': 'two_year', 'tenure': 68, 'monthlycharges': 103.25},\n",
       " {'contract': 'one_year', 'tenure': 56, 'monthlycharges': 94.8},\n",
       " {'contract': 'one_year', 'tenure': 66, 'monthlycharges': 108.1},\n",
       " {'contract': 'month-to-month', 'tenure': 11, 'monthlycharges': 64.9},\n",
       " {'contract': 'one_year', 'tenure': 46, 'monthlycharges': 69.1},\n",
       " {'contract': 'month-to-month', 'tenure': 33, 'monthlycharges': 50.0},\n",
       " {'contract': 'month-to-month', 'tenure': 54, 'monthlycharges': 104.1},\n",
       " {'contract': 'two_year', 'tenure': 72, 'monthlycharges': 65.6},\n",
       " {'contract': 'month-to-month', 'tenure': 54, 'monthlycharges': 24.95},\n",
       " {'contract': 'month-to-month', 'tenure': 55, 'monthlycharges': 73.1},\n",
       " {'contract': 'one_year', 'tenure': 68, 'monthlycharges': 100.3},\n",
       " {'contract': 'two_year', 'tenure': 72, 'monthlycharges': 66.85},\n",
       " {'contract': 'two_year', 'tenure': 18, 'monthlycharges': 24.65},\n",
       " {'contract': 'month-to-month', 'tenure': 52, 'monthlycharges': 109.1},\n",
       " {'contract': 'one_year', 'tenure': 54, 'monthlycharges': 105.2},\n",
       " {'contract': 'one_year', 'tenure': 17, 'monthlycharges': 19.9},\n",
       " {'contract': 'one_year', 'tenure': 33, 'monthlycharges': 93.55},\n",
       " {'contract': 'one_year', 'tenure': 61, 'monthlycharges': 103.95},\n",
       " {'contract': 'month-to-month', 'tenure': 1, 'monthlycharges': 90.1},\n",
       " {'contract': 'two_year', 'tenure': 71, 'monthlycharges': 82.7},\n",
       " {'contract': 'two_year', 'tenure': 6, 'monthlycharges': 63.4},\n",
       " {'contract': 'two_year', 'tenure': 69, 'monthlycharges': 81.95},\n",
       " {'contract': 'month-to-month', 'tenure': 9, 'monthlycharges': 83.3},\n",
       " {'contract': 'month-to-month', 'tenure': 34, 'monthlycharges': 100.05},\n",
       " {'contract': 'two_year', 'tenure': 60, 'monthlycharges': 60.8},\n",
       " {'contract': 'one_year', 'tenure': 51, 'monthlycharges': 23.95},\n",
       " {'contract': 'two_year', 'tenure': 43, 'monthlycharges': 75.2},\n",
       " {'contract': 'one_year', 'tenure': 42, 'monthlycharges': 63.7},\n",
       " {'contract': 'month-to-month', 'tenure': 29, 'monthlycharges': 51.6},\n",
       " {'contract': 'month-to-month', 'tenure': 3, 'monthlycharges': 89.45},\n",
       " {'contract': 'one_year', 'tenure': 46, 'monthlycharges': 24.45},\n",
       " {'contract': 'month-to-month', 'tenure': 17, 'monthlycharges': 89.4},\n",
       " {'contract': 'one_year', 'tenure': 43, 'monthlycharges': 85.1},\n",
       " {'contract': 'month-to-month', 'tenure': 45, 'monthlycharges': 108.45},\n",
       " {'contract': 'two_year', 'tenure': 72, 'monthlycharges': 109.95},\n",
       " {'contract': 'month-to-month', 'tenure': 4, 'monthlycharges': 29.05},\n",
       " {'contract': 'month-to-month', 'tenure': 7, 'monthlycharges': 18.95},\n",
       " {'contract': 'month-to-month', 'tenure': 2, 'monthlycharges': 79.75},\n",
       " {'contract': 'month-to-month', 'tenure': 1, 'monthlycharges': 25.1},\n",
       " {'contract': 'month-to-month', 'tenure': 7, 'monthlycharges': 75.35},\n",
       " {'contract': 'month-to-month', 'tenure': 8, 'monthlycharges': 69.7},\n",
       " {'contract': 'month-to-month', 'tenure': 15, 'monthlycharges': 75.1},\n",
       " {'contract': 'month-to-month', 'tenure': 45, 'monthlycharges': 115.65},\n",
       " {'contract': 'month-to-month', 'tenure': 32, 'monthlycharges': 79.3},\n",
       " {'contract': 'one_year', 'tenure': 15, 'monthlycharges': 50.75},\n",
       " {'contract': 'one_year', 'tenure': 19, 'monthlycharges': 87.7},\n",
       " {'contract': 'month-to-month', 'tenure': 8, 'monthlycharges': 100.6},\n",
       " {'contract': 'month-to-month', 'tenure': 9, 'monthlycharges': 58.5},\n",
       " {'contract': 'month-to-month', 'tenure': 41, 'monthlycharges': 106.5},\n",
       " {'contract': 'month-to-month', 'tenure': 2, 'monthlycharges': 86.2},\n",
       " {'contract': 'month-to-month', 'tenure': 1, 'monthlycharges': 20.6},\n",
       " {'contract': 'one_year', 'tenure': 28, 'monthlycharges': 92.9},\n",
       " {'contract': 'month-to-month', 'tenure': 67, 'monthlycharges': 101.4},\n",
       " {'contract': 'two_year', 'tenure': 72, 'monthlycharges': 111.65},\n",
       " {'contract': 'two_year', 'tenure': 63, 'monthlycharges': 97.45},\n",
       " {'contract': 'two_year', 'tenure': 47, 'monthlycharges': 20.05},\n",
       " {'contract': 'two_year', 'tenure': 15, 'monthlycharges': 19.35},\n",
       " {'contract': 'month-to-month', 'tenure': 4, 'monthlycharges': 70.05},\n",
       " {'contract': 'month-to-month', 'tenure': 5, 'monthlycharges': 51.0},\n",
       " {'contract': 'month-to-month', 'tenure': 24, 'monthlycharges': 79.85},\n",
       " {'contract': 'month-to-month', 'tenure': 4, 'monthlycharges': 70.65},\n",
       " {'contract': 'month-to-month', 'tenure': 24, 'monthlycharges': 79.85},\n",
       " {'contract': 'one_year', 'tenure': 40, 'monthlycharges': 103.75},\n",
       " {'contract': 'month-to-month', 'tenure': 14, 'monthlycharges': 86.3},\n",
       " {'contract': 'month-to-month', 'tenure': 1, 'monthlycharges': 45.3},\n",
       " {'contract': 'month-to-month', 'tenure': 25, 'monthlycharges': 65.8},\n",
       " {'contract': 'month-to-month', 'tenure': 7, 'monthlycharges': 34.5},\n",
       " {'contract': 'month-to-month', 'tenure': 1, 'monthlycharges': 20.25},\n",
       " {'contract': 'two_year', 'tenure': 27, 'monthlycharges': 19.85},\n",
       " {'contract': 'month-to-month', 'tenure': 1, 'monthlycharges': 19.3},\n",
       " {'contract': 'month-to-month', 'tenure': 7, 'monthlycharges': 71.35},\n",
       " {'contract': 'two_year', 'tenure': 55, 'monthlycharges': 85.1},\n",
       " {'contract': 'month-to-month', 'tenure': 2, 'monthlycharges': 80.15},\n",
       " {'contract': 'month-to-month', 'tenure': 23, 'monthlycharges': 85.6},\n",
       " {'contract': 'two_year', 'tenure': 70, 'monthlycharges': 98.3},\n",
       " {'contract': 'month-to-month', 'tenure': 2, 'monthlycharges': 95.5},\n",
       " {'contract': 'two_year', 'tenure': 48, 'monthlycharges': 19.25},\n",
       " {'contract': 'month-to-month', 'tenure': 67, 'monthlycharges': 75.7},\n",
       " {'contract': 'one_year', 'tenure': 40, 'monthlycharges': 60.3},\n",
       " {'contract': 'one_year', 'tenure': 35, 'monthlycharges': 73.45},\n",
       " {'contract': 'one_year', 'tenure': 9, 'monthlycharges': 20.15},\n",
       " {'contract': 'two_year', 'tenure': 47, 'monthlycharges': 19.65},\n",
       " {'contract': 'one_year', 'tenure': 51, 'monthlycharges': 94.0},\n",
       " {'contract': 'month-to-month', 'tenure': 2, 'monthlycharges': 85.65},\n",
       " {'contract': 'one_year', 'tenure': 60, 'monthlycharges': 79.2},\n",
       " {'contract': 'month-to-month', 'tenure': 1, 'monthlycharges': 84.6},\n",
       " {'contract': 'month-to-month', 'tenure': 3, 'monthlycharges': 69.35},\n",
       " {'contract': 'month-to-month', 'tenure': 2, 'monthlycharges': 80.25},\n",
       " {'contract': 'month-to-month', 'tenure': 64, 'monthlycharges': 99.15},\n",
       " {'contract': 'month-to-month', 'tenure': 30, 'monthlycharges': 94.1},\n",
       " {'contract': 'month-to-month', 'tenure': 2, 'monthlycharges': 44.95},\n",
       " {'contract': 'month-to-month', 'tenure': 22, 'monthlycharges': 95.1},\n",
       " {'contract': 'month-to-month', 'tenure': 1, 'monthlycharges': 49.9},\n",
       " {'contract': 'month-to-month', 'tenure': 16, 'monthlycharges': 69.1},\n",
       " {'contract': 'two_year', 'tenure': 68, 'monthlycharges': 82.85},\n",
       " {'contract': 'month-to-month', 'tenure': 8, 'monthlycharges': 80.1},\n",
       " {'contract': 'one_year', 'tenure': 47, 'monthlycharges': 58.9},\n",
       " {'contract': 'two_year', 'tenure': 69, 'monthlycharges': 86.9},\n",
       " {'contract': 'month-to-month', 'tenure': 4, 'monthlycharges': 19.0},\n",
       " {'contract': 'month-to-month', 'tenure': 8, 'monthlycharges': 94.7},\n",
       " {'contract': 'month-to-month', 'tenure': 1, 'monthlycharges': 44.9},\n",
       " {'contract': 'two_year', 'tenure': 35, 'monthlycharges': 19.25},\n",
       " {'contract': 'two_year', 'tenure': 61, 'monthlycharges': 94.1},\n",
       " {'contract': 'month-to-month', 'tenure': 6, 'monthlycharges': 44.75},\n",
       " {'contract': 'one_year', 'tenure': 40, 'monthlycharges': 106.0},\n",
       " {'contract': 'month-to-month', 'tenure': 30, 'monthlycharges': 66.3},\n",
       " {'contract': 'one_year', 'tenure': 37, 'monthlycharges': 90.6},\n",
       " {'contract': 'month-to-month', 'tenure': 7, 'monthlycharges': 24.7},\n",
       " {'contract': 'one_year', 'tenure': 33, 'monthlycharges': 103.7},\n",
       " {'contract': 'month-to-month', 'tenure': 18, 'monthlycharges': 90.7},\n",
       " {'contract': 'month-to-month', 'tenure': 7, 'monthlycharges': 48.7},\n",
       " {'contract': 'two_year', 'tenure': 60, 'monthlycharges': 110.0},\n",
       " {'contract': 'month-to-month', 'tenure': 3, 'monthlycharges': 40.3},\n",
       " {'contract': 'month-to-month', 'tenure': 24, 'monthlycharges': 104.25},\n",
       " {'contract': 'month-to-month', 'tenure': 23, 'monthlycharges': 104.45},\n",
       " {'contract': 'month-to-month', 'tenure': 1, 'monthlycharges': 95.6},\n",
       " {'contract': 'month-to-month', 'tenure': 1, 'monthlycharges': 49.95},\n",
       " {'contract': 'month-to-month', 'tenure': 12, 'monthlycharges': 99.45},\n",
       " {'contract': 'month-to-month', 'tenure': 6, 'monthlycharges': 19.5},\n",
       " {'contract': 'month-to-month', 'tenure': 12, 'monthlycharges': 91.3},\n",
       " {'contract': 'month-to-month', 'tenure': 1, 'monthlycharges': 24.8},\n",
       " {'contract': 'month-to-month', 'tenure': 44, 'monthlycharges': 95.1},\n",
       " {'contract': 'two_year', 'tenure': 71, 'monthlycharges': 24.75},\n",
       " {'contract': 'month-to-month', 'tenure': 48, 'monthlycharges': 45.3},\n",
       " {'contract': 'month-to-month', 'tenure': 50, 'monthlycharges': 95.7},\n",
       " {'contract': 'one_year', 'tenure': 29, 'monthlycharges': 58.75},\n",
       " {'contract': 'month-to-month', 'tenure': 6, 'monthlycharges': 59.15},\n",
       " {'contract': 'month-to-month', 'tenure': 1, 'monthlycharges': 70.05},\n",
       " {'contract': 'month-to-month', 'tenure': 1, 'monthlycharges': 69.95},\n",
       " {'contract': 'one_year', 'tenure': 32, 'monthlycharges': 20.55},\n",
       " {'contract': 'month-to-month', 'tenure': 2, 'monthlycharges': 24.5},\n",
       " {'contract': 'two_year', 'tenure': 39, 'monthlycharges': 20.7},\n",
       " {'contract': 'two_year', 'tenure': 57, 'monthlycharges': 79.75},\n",
       " {'contract': 'month-to-month', 'tenure': 26, 'monthlycharges': 80.5},\n",
       " {'contract': 'one_year', 'tenure': 27, 'monthlycharges': 20.3},\n",
       " {'contract': 'one_year', 'tenure': 31, 'monthlycharges': 20.1},\n",
       " {'contract': 'month-to-month', 'tenure': 35, 'monthlycharges': 20.75},\n",
       " {'contract': 'month-to-month', 'tenure': 14, 'monthlycharges': 92.9},\n",
       " {'contract': 'two_year', 'tenure': 72, 'monthlycharges': 88.6},\n",
       " {'contract': 'month-to-month', 'tenure': 1, 'monthlycharges': 20.3},\n",
       " {'contract': 'one_year', 'tenure': 48, 'monthlycharges': 75.15},\n",
       " {'contract': 'month-to-month', 'tenure': 6, 'monthlycharges': 55.3},\n",
       " {'contract': 'month-to-month', 'tenure': 20, 'monthlycharges': 94.1},\n",
       " {'contract': 'month-to-month', 'tenure': 1, 'monthlycharges': 70.25},\n",
       " {'contract': 'two_year', 'tenure': 72, 'monthlycharges': 21.15},\n",
       " {'contract': 'one_year', 'tenure': 44, 'monthlycharges': 59.85},\n",
       " {'contract': 'two_year', 'tenure': 72, 'monthlycharges': 24.55},\n",
       " {'contract': 'month-to-month', 'tenure': 1, 'monthlycharges': 74.7},\n",
       " {'contract': 'month-to-month', 'tenure': 16, 'monthlycharges': 80.75},\n",
       " {'contract': 'month-to-month', 'tenure': 11, 'monthlycharges': 99.55},\n",
       " {'contract': 'two_year', 'tenure': 64, 'monthlycharges': 60.05},\n",
       " {'contract': 'one_year', 'tenure': 22, 'monthlycharges': 78.65},\n",
       " {'contract': 'month-to-month', 'tenure': 15, 'monthlycharges': 87.75},\n",
       " {'contract': 'two_year', 'tenure': 13, 'monthlycharges': 19.55},\n",
       " {'contract': 'one_year', 'tenure': 48, 'monthlycharges': 24.55},\n",
       " {'contract': 'month-to-month', 'tenure': 15, 'monthlycharges': 75.35},\n",
       " {'contract': 'month-to-month', 'tenure': 26, 'monthlycharges': 95.0},\n",
       " {'contract': 'month-to-month', 'tenure': 40, 'monthlycharges': 101.85},\n",
       " {'contract': 'one_year', 'tenure': 31, 'monthlycharges': 93.8},\n",
       " {'contract': 'two_year', 'tenure': 66, 'monthlycharges': 47.4},\n",
       " {'contract': 'two_year', 'tenure': 72, 'monthlycharges': 109.7},\n",
       " {'contract': 'two_year', 'tenure': 52, 'monthlycharges': 63.9},\n",
       " {'contract': 'month-to-month', 'tenure': 2, 'monthlycharges': 45.85},\n",
       " {'contract': 'two_year', 'tenure': 71, 'monthlycharges': 23.9},\n",
       " {'contract': 'one_year', 'tenure': 42, 'monthlycharges': 73.9},\n",
       " {'contract': 'two_year', 'tenure': 62, 'monthlycharges': 39.0},\n",
       " {'contract': 'month-to-month', 'tenure': 2, 'monthlycharges': 50.2},\n",
       " {'contract': 'month-to-month', 'tenure': 34, 'monthlycharges': 69.15},\n",
       " {'contract': 'month-to-month', 'tenure': 11, 'monthlycharges': 79.0},\n",
       " {'contract': 'one_year', 'tenure': 61, 'monthlycharges': 49.7},\n",
       " {'contract': 'month-to-month', 'tenure': 3, 'monthlycharges': 20.2},\n",
       " {'contract': 'month-to-month', 'tenure': 1, 'monthlycharges': 20.4},\n",
       " {'contract': 'one_year', 'tenure': 40, 'monthlycharges': 62.05},\n",
       " {'contract': 'two_year', 'tenure': 46, 'monthlycharges': 108.9},\n",
       " {'contract': 'month-to-month', 'tenure': 1, 'monthlycharges': 47.95},\n",
       " {'contract': 'month-to-month', 'tenure': 12, 'monthlycharges': 69.85},\n",
       " {'contract': 'two_year', 'tenure': 72, 'monthlycharges': 83.7},\n",
       " {'contract': 'one_year', 'tenure': 41, 'monthlycharges': 78.35},\n",
       " {'contract': 'one_year', 'tenure': 38, 'monthlycharges': 70.6},\n",
       " {'contract': 'month-to-month', 'tenure': 3, 'monthlycharges': 80.1},\n",
       " {'contract': 'month-to-month', 'tenure': 18, 'monthlycharges': 95.45},\n",
       " {'contract': 'month-to-month', 'tenure': 31, 'monthlycharges': 83.85},\n",
       " {'contract': 'two_year', 'tenure': 58, 'monthlycharges': 71.6},\n",
       " {'contract': 'month-to-month', 'tenure': 18, 'monthlycharges': 50.0},\n",
       " {'contract': 'month-to-month', 'tenure': 20, 'monthlycharges': 55.0},\n",
       " {'contract': 'month-to-month', 'tenure': 7, 'monthlycharges': 25.05},\n",
       " {'contract': 'month-to-month', 'tenure': 46, 'monthlycharges': 80.0},\n",
       " {'contract': 'month-to-month', 'tenure': 14, 'monthlycharges': 78.1},\n",
       " {'contract': 'month-to-month', 'tenure': 1, 'monthlycharges': 80.15},\n",
       " {'contract': 'one_year', 'tenure': 55, 'monthlycharges': 19.5},\n",
       " {'contract': 'month-to-month', 'tenure': 11, 'monthlycharges': 70.5},\n",
       " {'contract': 'month-to-month', 'tenure': 8, 'monthlycharges': 54.65},\n",
       " {'contract': 'month-to-month', 'tenure': 29, 'monthlycharges': 78.9},\n",
       " {'contract': 'two_year', 'tenure': 70, 'monthlycharges': 76.95},\n",
       " {'contract': 'one_year', 'tenure': 29, 'monthlycharges': 35.6},\n",
       " {'contract': 'one_year', 'tenure': 38, 'monthlycharges': 19.3},\n",
       " {'contract': 'two_year', 'tenure': 57, 'monthlycharges': 20.75},\n",
       " {'contract': 'one_year', 'tenure': 11, 'monthlycharges': 61.25},\n",
       " {'contract': 'month-to-month', 'tenure': 23, 'monthlycharges': 90.0},\n",
       " {'contract': 'month-to-month', 'tenure': 41, 'monthlycharges': 74.25},\n",
       " {'contract': 'month-to-month', 'tenure': 3, 'monthlycharges': 20.05},\n",
       " {'contract': 'month-to-month', 'tenure': 45, 'monthlycharges': 95.95},\n",
       " {'contract': 'two_year', 'tenure': 70, 'monthlycharges': 110.2},\n",
       " {'contract': 'month-to-month', 'tenure': 1, 'monthlycharges': 50.9},\n",
       " {'contract': 'month-to-month', 'tenure': 3, 'monthlycharges': 55.9},\n",
       " {'contract': 'two_year', 'tenure': 63, 'monthlycharges': 83.5},\n",
       " {'contract': 'month-to-month', 'tenure': 5, 'monthlycharges': 20.35},\n",
       " {'contract': 'one_year', 'tenure': 29, 'monthlycharges': 19.85},\n",
       " {'contract': 'two_year', 'tenure': 72, 'monthlycharges': 107.5},\n",
       " {'contract': 'two_year', 'tenure': 71, 'monthlycharges': 58.25},\n",
       " {'contract': 'two_year', 'tenure': 18, 'monthlycharges': 20.05},\n",
       " {'contract': 'two_year', 'tenure': 3, 'monthlycharges': 19.1},\n",
       " {'contract': 'month-to-month', 'tenure': 4, 'monthlycharges': 74.35},\n",
       " {'contract': 'month-to-month', 'tenure': 2, 'monthlycharges': 55.3},\n",
       " {'contract': 'two_year', 'tenure': 60, 'monthlycharges': 61.4},\n",
       " {'contract': 'two_year', 'tenure': 72, 'monthlycharges': 69.65},\n",
       " {'contract': 'two_year', 'tenure': 68, 'monthlycharges': 85.0},\n",
       " {'contract': 'two_year', 'tenure': 38, 'monthlycharges': 60.0},\n",
       " {'contract': 'two_year', 'tenure': 58, 'monthlycharges': 20.8},\n",
       " {'contract': 'month-to-month', 'tenure': 6, 'monthlycharges': 105.3},\n",
       " {'contract': 'one_year', 'tenure': 52, 'monthlycharges': 57.95},\n",
       " {'contract': 'month-to-month', 'tenure': 19, 'monthlycharges': 89.95},\n",
       " {'contract': 'month-to-month', 'tenure': 8, 'monthlycharges': 60.9},\n",
       " {'contract': 'month-to-month', 'tenure': 1, 'monthlycharges': 19.1},\n",
       " {'contract': 'one_year', 'tenure': 37, 'monthlycharges': 104.5},\n",
       " {'contract': 'month-to-month', 'tenure': 6, 'monthlycharges': 60.9},\n",
       " {'contract': 'month-to-month', 'tenure': 1, 'monthlycharges': 19.95},\n",
       " {'contract': 'month-to-month', 'tenure': 3, 'monthlycharges': 73.85},\n",
       " {'contract': 'month-to-month', 'tenure': 2, 'monthlycharges': 30.4},\n",
       " {'contract': 'one_year', 'tenure': 43, 'monthlycharges': 100.55},\n",
       " {'contract': 'one_year', 'tenure': 43, 'monthlycharges': 84.25},\n",
       " {'contract': 'month-to-month', 'tenure': 14, 'monthlycharges': 80.35},\n",
       " {'contract': 'month-to-month', 'tenure': 3, 'monthlycharges': 69.55},\n",
       " {'contract': 'month-to-month', 'tenure': 10, 'monthlycharges': 19.85},\n",
       " {'contract': 'month-to-month', 'tenure': 12, 'monthlycharges': 19.7},\n",
       " {'contract': 'month-to-month', 'tenure': 5, 'monthlycharges': 85.55},\n",
       " {'contract': 'month-to-month', 'tenure': 67, 'monthlycharges': 102.95},\n",
       " {'contract': 'month-to-month', 'tenure': 11, 'monthlycharges': 86.2},\n",
       " {'contract': 'two_year', 'tenure': 68, 'monthlycharges': 84.7},\n",
       " {'contract': 'month-to-month', 'tenure': 34, 'monthlycharges': 97.65},\n",
       " {'contract': 'month-to-month', 'tenure': 2, 'monthlycharges': 54.4},\n",
       " {'contract': 'month-to-month', 'tenure': 44, 'monthlycharges': 85.15},\n",
       " {'contract': 'two_year', 'tenure': 71, 'monthlycharges': 64.05},\n",
       " {'contract': 'month-to-month', 'tenure': 10, 'monthlycharges': 72.15},\n",
       " {'contract': 'one_year', 'tenure': 30, 'monthlycharges': 68.95},\n",
       " {'contract': 'two_year', 'tenure': 43, 'monthlycharges': 78.8},\n",
       " {'contract': 'one_year', 'tenure': 32, 'monthlycharges': 19.3},\n",
       " {'contract': 'month-to-month', 'tenure': 1, 'monthlycharges': 70.55},\n",
       " {'contract': 'month-to-month', 'tenure': 11, 'monthlycharges': 20.25},\n",
       " {'contract': 'month-to-month', 'tenure': 29, 'monthlycharges': 99.05},\n",
       " {'contract': 'two_year', 'tenure': 0, 'monthlycharges': 20.25},\n",
       " {'contract': 'one_year', 'tenure': 19, 'monthlycharges': 100.0},\n",
       " {'contract': 'month-to-month', 'tenure': 40, 'monthlycharges': 102.65},\n",
       " {'contract': 'one_year', 'tenure': 28, 'monthlycharges': 90.1},\n",
       " {'contract': 'month-to-month', 'tenure': 27, 'monthlycharges': 19.15},\n",
       " {'contract': 'two_year', 'tenure': 22, 'monthlycharges': 25.25},\n",
       " {'contract': 'one_year', 'tenure': 69, 'monthlycharges': 73.7},\n",
       " {'contract': 'two_year', 'tenure': 52, 'monthlycharges': 58.75},\n",
       " {'contract': 'month-to-month', 'tenure': 3, 'monthlycharges': 20.5},\n",
       " {'contract': 'month-to-month', 'tenure': 16, 'monthlycharges': 98.75},\n",
       " {'contract': 'month-to-month', 'tenure': 71, 'monthlycharges': 107.5},\n",
       " {'contract': 'two_year', 'tenure': 72, 'monthlycharges': 102.65},\n",
       " {'contract': 'two_year', 'tenure': 6, 'monthlycharges': 19.65},\n",
       " {'contract': 'two_year', 'tenure': 70, 'monthlycharges': 75.35},\n",
       " {'contract': 'month-to-month', 'tenure': 1, 'monthlycharges': 20.65},\n",
       " {'contract': 'month-to-month', 'tenure': 18, 'monthlycharges': 74.15},\n",
       " {'contract': 'month-to-month', 'tenure': 5, 'monthlycharges': 85.4},\n",
       " {'contract': 'month-to-month', 'tenure': 1, 'monthlycharges': 20.2},\n",
       " {'contract': 'month-to-month', 'tenure': 12, 'monthlycharges': 98.1},\n",
       " {'contract': 'two_year', 'tenure': 72, 'monthlycharges': 42.1},\n",
       " {'contract': 'month-to-month', 'tenure': 6, 'monthlycharges': 47.95},\n",
       " {'contract': 'month-to-month', 'tenure': 1, 'monthlycharges': 85.0},\n",
       " {'contract': 'month-to-month', 'tenure': 26, 'monthlycharges': 78.8},\n",
       " {'contract': 'month-to-month', 'tenure': 33, 'monthlycharges': 100.0},\n",
       " {'contract': 'month-to-month', 'tenure': 31, 'monthlycharges': 73.9},\n",
       " {'contract': 'one_year', 'tenure': 23, 'monthlycharges': 19.3},\n",
       " {'contract': 'month-to-month', 'tenure': 1, 'monthlycharges': 75.5},\n",
       " {'contract': 'month-to-month', 'tenure': 15, 'monthlycharges': 83.05},\n",
       " {'contract': 'month-to-month', 'tenure': 14, 'monthlycharges': 71.0},\n",
       " {'contract': 'one_year', 'tenure': 43, 'monthlycharges': 60.4},\n",
       " {'contract': 'two_year', 'tenure': 64, 'monthlycharges': 19.45},\n",
       " {'contract': 'month-to-month', 'tenure': 19, 'monthlycharges': 49.6},\n",
       " {'contract': 'month-to-month', 'tenure': 59, 'monthlycharges': 89.75},\n",
       " {'contract': 'month-to-month', 'tenure': 3, 'monthlycharges': 57.55},\n",
       " {'contract': 'month-to-month', 'tenure': 15, 'monthlycharges': 64.65},\n",
       " {'contract': 'month-to-month', 'tenure': 7, 'monthlycharges': 84.35},\n",
       " {'contract': 'month-to-month', 'tenure': 7, 'monthlycharges': 20.35},\n",
       " {'contract': 'month-to-month', 'tenure': 37, 'monthlycharges': 76.5},\n",
       " {'contract': 'month-to-month', 'tenure': 2, 'monthlycharges': 70.3},\n",
       " {'contract': 'month-to-month', 'tenure': 21, 'monthlycharges': 69.1},\n",
       " {'contract': 'month-to-month', 'tenure': 19, 'monthlycharges': 88.8},\n",
       " {'contract': 'one_year', 'tenure': 66, 'monthlycharges': 63.85},\n",
       " {'contract': 'month-to-month', 'tenure': 4, 'monthlycharges': 60.4},\n",
       " {'contract': 'two_year', 'tenure': 69, 'monthlycharges': 109.95},\n",
       " {'contract': 'month-to-month', 'tenure': 8, 'monthlycharges': 100.15},\n",
       " {'contract': 'two_year', 'tenure': 69, 'monthlycharges': 112.55},\n",
       " {'contract': 'month-to-month', 'tenure': 2, 'monthlycharges': 50.3},\n",
       " {'contract': 'month-to-month', 'tenure': 1, 'monthlycharges': 45.95},\n",
       " {'contract': 'two_year', 'tenure': 55, 'monthlycharges': 59.2},\n",
       " {'contract': 'one_year', 'tenure': 18, 'monthlycharges': 20.1},\n",
       " {'contract': 'one_year', 'tenure': 64, 'monthlycharges': 58.35},\n",
       " {'contract': 'month-to-month', 'tenure': 6, 'monthlycharges': 55.0},\n",
       " {'contract': 'two_year', 'tenure': 69, 'monthlycharges': 99.15},\n",
       " {'contract': 'one_year', 'tenure': 40, 'monthlycharges': 70.75},\n",
       " {'contract': 'month-to-month', 'tenure': 30, 'monthlycharges': 90.05},\n",
       " {'contract': 'two_year', 'tenure': 72, 'monthlycharges': 64.8},\n",
       " {'contract': 'two_year', 'tenure': 25, 'monthlycharges': 20.1},\n",
       " {'contract': 'two_year', 'tenure': 50, 'monthlycharges': 109.65},\n",
       " {'contract': 'month-to-month', 'tenure': 5, 'monthlycharges': 80.15},\n",
       " {'contract': 'month-to-month', 'tenure': 30, 'monthlycharges': 101.3},\n",
       " {'contract': 'two_year', 'tenure': 41, 'monthlycharges': 20.65},\n",
       " {'contract': 'month-to-month', 'tenure': 56, 'monthlycharges': 105.35},\n",
       " {'contract': 'one_year', 'tenure': 70, 'monthlycharges': 58.4},\n",
       " {'contract': 'month-to-month', 'tenure': 7, 'monthlycharges': 20.65},\n",
       " {'contract': 'month-to-month', 'tenure': 1, 'monthlycharges': 20.3},\n",
       " {'contract': 'one_year', 'tenure': 38, 'monthlycharges': 84.1},\n",
       " {'contract': 'month-to-month', 'tenure': 23, 'monthlycharges': 79.15},\n",
       " {'contract': 'two_year', 'tenure': 72, 'monthlycharges': 25.1},\n",
       " {'contract': 'month-to-month', 'tenure': 5, 'monthlycharges': 75.15},\n",
       " {'contract': 'month-to-month', 'tenure': 20, 'monthlycharges': 80.7},\n",
       " {'contract': 'month-to-month', 'tenure': 9, 'monthlycharges': 85.05},\n",
       " {'contract': 'month-to-month', 'tenure': 29, 'monthlycharges': 74.95},\n",
       " {'contract': 'month-to-month', 'tenure': 11, 'monthlycharges': 59.65},\n",
       " {'contract': 'month-to-month', 'tenure': 51, 'monthlycharges': 80.75},\n",
       " {'contract': 'month-to-month', 'tenure': 2, 'monthlycharges': 44.9},\n",
       " {'contract': 'month-to-month', 'tenure': 39, 'monthlycharges': 99.75},\n",
       " {'contract': 'month-to-month', 'tenure': 26, 'monthlycharges': 49.5},\n",
       " {'contract': 'month-to-month', 'tenure': 6, 'monthlycharges': 19.7},\n",
       " {'contract': 'two_year', 'tenure': 57, 'monthlycharges': 59.75},\n",
       " {'contract': 'month-to-month', 'tenure': 4, 'monthlycharges': 100.2},\n",
       " {'contract': 'month-to-month', 'tenure': 3, 'monthlycharges': 29.6},\n",
       " {'contract': 'one_year', 'tenure': 28, 'monthlycharges': 100.35},\n",
       " {'contract': 'one_year', 'tenure': 32, 'monthlycharges': 70.5},\n",
       " {'contract': 'one_year', 'tenure': 36, 'monthlycharges': 20.35},\n",
       " {'contract': 'month-to-month', 'tenure': 27, 'monthlycharges': 50.35},\n",
       " {'contract': 'month-to-month', 'tenure': 3, 'monthlycharges': 69.15},\n",
       " {'contract': 'two_year', 'tenure': 62, 'monthlycharges': 84.5},\n",
       " {'contract': 'one_year', 'tenure': 49, 'monthlycharges': 20.45},\n",
       " {'contract': 'month-to-month', 'tenure': 19, 'monthlycharges': 59.55},\n",
       " {'contract': 'month-to-month', 'tenure': 5, 'monthlycharges': 45.4},\n",
       " {'contract': 'month-to-month', 'tenure': 1, 'monthlycharges': 89.35},\n",
       " {'contract': 'month-to-month', 'tenure': 3, 'monthlycharges': 23.6},\n",
       " {'contract': 'month-to-month', 'tenure': 10, 'monthlycharges': 20.55},\n",
       " {'contract': 'one_year', 'tenure': 33, 'monthlycharges': 79.15},\n",
       " {'contract': 'month-to-month', 'tenure': 14, 'monthlycharges': 25.55},\n",
       " {'contract': 'month-to-month', 'tenure': 61, 'monthlycharges': 82.15},\n",
       " {'contract': 'month-to-month', 'tenure': 1, 'monthlycharges': 25.0},\n",
       " {'contract': 'month-to-month', 'tenure': 1, 'monthlycharges': 55.7},\n",
       " {'contract': 'month-to-month', 'tenure': 18, 'monthlycharges': 75.9},\n",
       " {'contract': 'month-to-month', 'tenure': 60, 'monthlycharges': 99.8},\n",
       " {'contract': 'month-to-month', 'tenure': 7, 'monthlycharges': 85.2},\n",
       " {'contract': 'one_year', 'tenure': 15, 'monthlycharges': 20.1},\n",
       " {'contract': 'month-to-month', 'tenure': 1, 'monthlycharges': 24.4},\n",
       " {'contract': 'one_year', 'tenure': 17, 'monthlycharges': 44.45},\n",
       " {'contract': 'two_year', 'tenure': 72, 'monthlycharges': 83.3},\n",
       " {'contract': 'month-to-month', 'tenure': 39, 'monthlycharges': 81.5},\n",
       " {'contract': 'month-to-month', 'tenure': 7, 'monthlycharges': 94.7},\n",
       " {'contract': 'one_year', 'tenure': 30, 'monthlycharges': 85.35},\n",
       " {'contract': 'month-to-month', 'tenure': 32, 'monthlycharges': 69.75},\n",
       " {'contract': 'two_year', 'tenure': 58, 'monthlycharges': 70.1},\n",
       " {'contract': 'one_year', 'tenure': 68, 'monthlycharges': 75.8},\n",
       " {'contract': 'two_year', 'tenure': 64, 'monthlycharges': 68.3},\n",
       " {'contract': 'two_year', 'tenure': 35, 'monthlycharges': 69.15},\n",
       " {'contract': 'two_year', 'tenure': 72, 'monthlycharges': 65.65},\n",
       " {'contract': 'two_year', 'tenure': 72, 'monthlycharges': 91.15},\n",
       " {'contract': 'month-to-month', 'tenure': 2, 'monthlycharges': 74.4},\n",
       " {'contract': 'two_year', 'tenure': 66, 'monthlycharges': 56.75},\n",
       " {'contract': 'two_year', 'tenure': 65, 'monthlycharges': 74.8},\n",
       " {'contract': 'one_year', 'tenure': 61, 'monthlycharges': 115.1},\n",
       " {'contract': 'month-to-month', 'tenure': 17, 'monthlycharges': 83.55},\n",
       " {'contract': 'month-to-month', 'tenure': 1, 'monthlycharges': 25.75},\n",
       " {'contract': 'one_year', 'tenure': 38, 'monthlycharges': 24.25},\n",
       " {'contract': 'month-to-month', 'tenure': 22, 'monthlycharges': 55.1},\n",
       " {'contract': 'month-to-month', 'tenure': 1, 'monthlycharges': 25.3},\n",
       " {'contract': 'month-to-month', 'tenure': 21, 'monthlycharges': 44.95},\n",
       " {'contract': 'one_year', 'tenure': 68, 'monthlycharges': 76.9},\n",
       " {'contract': 'month-to-month', 'tenure': 39, 'monthlycharges': 50.65},\n",
       " {'contract': 'month-to-month', 'tenure': 35, 'monthlycharges': 55.0},\n",
       " {'contract': 'two_year', 'tenure': 52, 'monthlycharges': 66.25},\n",
       " {'contract': 'two_year', 'tenure': 71, 'monthlycharges': 104.15},\n",
       " {'contract': 'month-to-month', 'tenure': 1, 'monthlycharges': 59.2},\n",
       " {'contract': 'month-to-month', 'tenure': 43, 'monthlycharges': 103.0},\n",
       " {'contract': 'one_year', 'tenure': 72, 'monthlycharges': 104.45},\n",
       " {'contract': 'two_year', 'tenure': 8, 'monthlycharges': 19.85},\n",
       " {'contract': 'one_year', 'tenure': 34, 'monthlycharges': 99.85},\n",
       " {'contract': 'month-to-month', 'tenure': 1, 'monthlycharges': 20.0},\n",
       " {'contract': 'two_year', 'tenure': 72, 'monthlycharges': 108.3},\n",
       " {'contract': 'one_year', 'tenure': 11, 'monthlycharges': 64.9},\n",
       " {'contract': 'one_year', 'tenure': 16, 'monthlycharges': 55.85},\n",
       " {'contract': 'month-to-month', 'tenure': 45, 'monthlycharges': 100.85},\n",
       " {'contract': 'month-to-month', 'tenure': 16, 'monthlycharges': 89.05},\n",
       " {'contract': 'month-to-month', 'tenure': 37, 'monthlycharges': 72.25},\n",
       " {'contract': 'month-to-month', 'tenure': 16, 'monthlycharges': 20.6},\n",
       " {'contract': 'one_year', 'tenure': 25, 'monthlycharges': 19.9},\n",
       " {'contract': 'one_year', 'tenure': 10, 'monthlycharges': 49.55},\n",
       " {'contract': 'one_year', 'tenure': 26, 'monthlycharges': 61.55},\n",
       " {'contract': 'month-to-month', 'tenure': 42, 'monthlycharges': 101.75},\n",
       " {'contract': 'two_year', 'tenure': 45, 'monthlycharges': 24.45},\n",
       " {'contract': 'month-to-month', 'tenure': 47, 'monthlycharges': 106.4},\n",
       " {'contract': 'one_year', 'tenure': 40, 'monthlycharges': 105.75},\n",
       " {'contract': 'month-to-month', 'tenure': 17, 'monthlycharges': 82.65},\n",
       " {'contract': 'month-to-month', 'tenure': 2, 'monthlycharges': 24.45},\n",
       " {'contract': 'one_year', 'tenure': 23, 'monthlycharges': 81.85},\n",
       " {'contract': 'two_year', 'tenure': 53, 'monthlycharges': 19.85},\n",
       " {'contract': 'month-to-month', 'tenure': 5, 'monthlycharges': 80.1},\n",
       " {'contract': 'two_year', 'tenure': 72, 'monthlycharges': 73.0},\n",
       " {'contract': 'one_year', 'tenure': 44, 'monthlycharges': 94.4},\n",
       " {'contract': 'month-to-month', 'tenure': 16, 'monthlycharges': 19.6},\n",
       " {'contract': 'two_year', 'tenure': 71, 'monthlycharges': 114.6},\n",
       " {'contract': 'two_year', 'tenure': 63, 'monthlycharges': 75.55},\n",
       " {'contract': 'two_year', 'tenure': 70, 'monthlycharges': 25.15},\n",
       " {'contract': 'month-to-month', 'tenure': 19, 'monthlycharges': 105.0},\n",
       " {'contract': 'two_year', 'tenure': 58, 'monthlycharges': 109.45},\n",
       " {'contract': 'month-to-month', 'tenure': 41, 'monthlycharges': 94.55},\n",
       " {'contract': 'month-to-month', 'tenure': 9, 'monthlycharges': 70.05},\n",
       " {'contract': 'one_year', 'tenure': 44, 'monthlycharges': 54.3},\n",
       " {'contract': 'two_year', 'tenure': 72, 'monthlycharges': 89.85},\n",
       " {'contract': 'two_year', 'tenure': 62, 'monthlycharges': 113.95},\n",
       " {'contract': 'one_year', 'tenure': 41, 'monthlycharges': 89.55},\n",
       " {'contract': 'month-to-month', 'tenure': 43, 'monthlycharges': 50.2},\n",
       " {'contract': 'month-to-month', 'tenure': 20, 'monthlycharges': 25.55},\n",
       " {'contract': 'month-to-month', 'tenure': 8, 'monthlycharges': 45.45},\n",
       " {'contract': 'one_year', 'tenure': 60, 'monthlycharges': 44.45},\n",
       " {'contract': 'one_year', 'tenure': 35, 'monthlycharges': 21.1},\n",
       " {'contract': 'one_year', 'tenure': 45, 'monthlycharges': 51.0},\n",
       " {'contract': 'month-to-month', 'tenure': 2, 'monthlycharges': 75.55},\n",
       " {'contract': 'two_year', 'tenure': 66, 'monthlycharges': 105.65},\n",
       " {'contract': 'month-to-month', 'tenure': 3, 'monthlycharges': 74.55},\n",
       " {'contract': 'one_year', 'tenure': 60, 'monthlycharges': 50.05},\n",
       " {'contract': 'month-to-month', 'tenure': 10, 'monthlycharges': 65.5},\n",
       " {'contract': 'month-to-month', 'tenure': 50, 'monthlycharges': 104.95},\n",
       " {'contract': 'month-to-month', 'tenure': 19, 'monthlycharges': 83.65},\n",
       " {'contract': 'one_year', 'tenure': 64, 'monthlycharges': 108.5},\n",
       " {'contract': 'month-to-month', 'tenure': 7, 'monthlycharges': 69.15},\n",
       " {'contract': 'two_year', 'tenure': 51, 'monthlycharges': 34.2},\n",
       " {'contract': 'one_year', 'tenure': 37, 'monthlycharges': 99.2},\n",
       " {'contract': 'month-to-month', 'tenure': 10, 'monthlycharges': 84.7},\n",
       " {'contract': 'two_year', 'tenure': 70, 'monthlycharges': 114.6},\n",
       " {'contract': 'month-to-month', 'tenure': 5, 'monthlycharges': 88.9},\n",
       " {'contract': 'month-to-month', 'tenure': 64, 'monthlycharges': 108.95},\n",
       " {'contract': 'one_year', 'tenure': 62, 'monthlycharges': 103.75},\n",
       " {'contract': 'month-to-month', 'tenure': 1, 'monthlycharges': 88.35},\n",
       " {'contract': 'one_year', 'tenure': 20, 'monthlycharges': 20.0},\n",
       " {'contract': 'two_year', 'tenure': 72, 'monthlycharges': 99.15},\n",
       " {'contract': 'month-to-month', 'tenure': 2, 'monthlycharges': 19.65},\n",
       " {'contract': 'month-to-month', 'tenure': 66, 'monthlycharges': 105.2},\n",
       " {'contract': 'month-to-month', 'tenure': 19, 'monthlycharges': 55.0},\n",
       " {'contract': 'month-to-month', 'tenure': 1, 'monthlycharges': 44.35},\n",
       " {'contract': 'one_year', 'tenure': 24, 'monthlycharges': 57.6},\n",
       " {'contract': 'month-to-month', 'tenure': 16, 'monthlycharges': 88.45},\n",
       " {'contract': 'month-to-month', 'tenure': 6, 'monthlycharges': 55.15},\n",
       " {'contract': 'month-to-month', 'tenure': 15, 'monthlycharges': 101.1},\n",
       " {'contract': 'two_year', 'tenure': 72, 'monthlycharges': 110.6},\n",
       " {'contract': 'two_year', 'tenure': 70, 'monthlycharges': 19.8},\n",
       " {'contract': 'month-to-month', 'tenure': 2, 'monthlycharges': 93.85},\n",
       " {'contract': 'month-to-month', 'tenure': 15, 'monthlycharges': 46.3},\n",
       " {'contract': 'one_year', 'tenure': 33, 'monthlycharges': 20.1},\n",
       " {'contract': 'month-to-month', 'tenure': 14, 'monthlycharges': 90.9},\n",
       " {'contract': 'month-to-month', 'tenure': 23, 'monthlycharges': 79.35},\n",
       " {'contract': 'month-to-month', 'tenure': 9, 'monthlycharges': 20.15},\n",
       " {'contract': 'one_year', 'tenure': 60, 'monthlycharges': 106.0},\n",
       " {'contract': 'one_year', 'tenure': 32, 'monthlycharges': 109.55},\n",
       " {'contract': 'month-to-month', 'tenure': 23, 'monthlycharges': 49.7},\n",
       " {'contract': 'one_year', 'tenure': 50, 'monthlycharges': 19.35},\n",
       " {'contract': 'two_year', 'tenure': 72, 'monthlycharges': 86.6},\n",
       " {'contract': 'month-to-month', 'tenure': 9, 'monthlycharges': 79.9},\n",
       " {'contract': 'month-to-month', 'tenure': 3, 'monthlycharges': 77.0},\n",
       " {'contract': 'two_year', 'tenure': 72, 'monthlycharges': 66.75},\n",
       " {'contract': 'month-to-month', 'tenure': 11, 'monthlycharges': 51.0},\n",
       " {'contract': 'one_year', 'tenure': 39, 'monthlycharges': 89.55},\n",
       " {'contract': 'month-to-month', 'tenure': 3, 'monthlycharges': 79.1},\n",
       " {'contract': 'month-to-month', 'tenure': 1, 'monthlycharges': 75.3},\n",
       " {'contract': 'month-to-month', 'tenure': 4, 'monthlycharges': 81.0},\n",
       " {'contract': 'month-to-month', 'tenure': 2, 'monthlycharges': 45.35},\n",
       " {'contract': 'two_year', 'tenure': 66, 'monthlycharges': 25.3},\n",
       " {'contract': 'two_year', 'tenure': 72, 'monthlycharges': 24.45},\n",
       " {'contract': 'month-to-month', 'tenure': 7, 'monthlycharges': 86.5},\n",
       " {'contract': 'month-to-month', 'tenure': 17, 'monthlycharges': 35.65},\n",
       " {'contract': 'month-to-month', 'tenure': 31, 'monthlycharges': 93.8},\n",
       " {'contract': 'one_year', 'tenure': 46, 'monthlycharges': 24.95},\n",
       " {'contract': 'month-to-month', 'tenure': 2, 'monthlycharges': 72.6},\n",
       " {'contract': 'month-to-month', 'tenure': 4, 'monthlycharges': 20.45},\n",
       " {'contract': 'month-to-month', 'tenure': 2, 'monthlycharges': 70.35},\n",
       " {'contract': 'month-to-month', 'tenure': 41, 'monthlycharges': 113.2},\n",
       " {'contract': 'month-to-month', 'tenure': 13, 'monthlycharges': 94.1},\n",
       " {'contract': 'month-to-month', 'tenure': 60, 'monthlycharges': 80.95},\n",
       " {'contract': 'month-to-month', 'tenure': 2, 'monthlycharges': 80.75},\n",
       " {'contract': 'month-to-month', 'tenure': 1, 'monthlycharges': 86.6},\n",
       " {'contract': 'month-to-month', 'tenure': 1, 'monthlycharges': 24.05},\n",
       " {'contract': 'month-to-month', 'tenure': 27, 'monthlycharges': 95.55},\n",
       " {'contract': 'one_year', 'tenure': 32, 'monthlycharges': 19.8},\n",
       " {'contract': 'one_year', 'tenure': 2, 'monthlycharges': 20.3},\n",
       " {'contract': 'one_year', 'tenure': 16, 'monthlycharges': 20.1},\n",
       " {'contract': 'one_year', 'tenure': 52, 'monthlycharges': 64.3},\n",
       " {'contract': 'month-to-month', 'tenure': 1, 'monthlycharges': 70.5},\n",
       " {'contract': 'two_year', 'tenure': 72, 'monthlycharges': 116.95},\n",
       " {'contract': 'month-to-month', 'tenure': 20, 'monthlycharges': 69.8},\n",
       " {'contract': 'month-to-month', 'tenure': 23, 'monthlycharges': 90.6},\n",
       " {'contract': 'one_year', 'tenure': 23, 'monthlycharges': 64.9},\n",
       " {'contract': 'month-to-month', 'tenure': 15, 'monthlycharges': 99.1},\n",
       " {'contract': 'month-to-month', 'tenure': 52, 'monthlycharges': 83.8},\n",
       " {'contract': 'two_year', 'tenure': 72, 'monthlycharges': 19.55},\n",
       " {'contract': 'two_year', 'tenure': 16, 'monthlycharges': 19.75},\n",
       " {'contract': 'month-to-month', 'tenure': 49, 'monthlycharges': 93.85},\n",
       " {'contract': 'two_year', 'tenure': 35, 'monthlycharges': 20.2},\n",
       " {'contract': 'one_year', 'tenure': 13, 'monthlycharges': 24.5},\n",
       " {'contract': 'two_year', 'tenure': 29, 'monthlycharges': 26.1},\n",
       " {'contract': 'month-to-month', 'tenure': 58, 'monthlycharges': 66.8},\n",
       " {'contract': 'month-to-month', 'tenure': 9, 'monthlycharges': 66.25},\n",
       " {'contract': 'month-to-month', 'tenure': 1, 'monthlycharges': 44.1},\n",
       " {'contract': 'month-to-month', 'tenure': 2, 'monthlycharges': 91.45},\n",
       " {'contract': 'month-to-month', 'tenure': 49, 'monthlycharges': 90.85},\n",
       " {'contract': 'month-to-month', 'tenure': 26, 'monthlycharges': 93.6},\n",
       " {'contract': 'month-to-month', 'tenure': 1, 'monthlycharges': 55.45},\n",
       " {'contract': 'month-to-month', 'tenure': 10, 'monthlycharges': 75.75},\n",
       " {'contract': 'month-to-month', 'tenure': 2, 'monthlycharges': 20.3},\n",
       " {'contract': 'one_year', 'tenure': 49, 'monthlycharges': 103.0},\n",
       " {'contract': 'one_year', 'tenure': 39, 'monthlycharges': 81.9},\n",
       " {'contract': 'two_year', 'tenure': 70, 'monthlycharges': 104.0},\n",
       " {'contract': 'one_year', 'tenure': 28, 'monthlycharges': 54.4},\n",
       " {'contract': 'one_year', 'tenure': 62, 'monthlycharges': 110.8},\n",
       " {'contract': 'one_year', 'tenure': 71, 'monthlycharges': 85.45},\n",
       " {'contract': 'one_year', 'tenure': 53, 'monthlycharges': 94.45},\n",
       " {'contract': 'month-to-month', 'tenure': 4, 'monthlycharges': 74.65},\n",
       " {'contract': 'two_year', 'tenure': 72, 'monthlycharges': 82.65},\n",
       " {'contract': 'month-to-month', 'tenure': 1, 'monthlycharges': 74.35},\n",
       " {'contract': 'month-to-month', 'tenure': 47, 'monthlycharges': 90.05},\n",
       " {'contract': 'one_year', 'tenure': 43, 'monthlycharges': 80.2},\n",
       " {'contract': 'month-to-month', 'tenure': 7, 'monthlycharges': 25.05},\n",
       " {'contract': 'two_year', 'tenure': 56, 'monthlycharges': 85.65},\n",
       " {'contract': 'month-to-month', 'tenure': 11, 'monthlycharges': 111.4},\n",
       " {'contract': 'one_year', 'tenure': 29, 'monthlycharges': 39.5},\n",
       " {'contract': 'one_year', 'tenure': 22, 'monthlycharges': 69.5},\n",
       " {'contract': 'one_year', 'tenure': 23, 'monthlycharges': 73.75},\n",
       " {'contract': 'month-to-month', 'tenure': 13, 'monthlycharges': 80.5},\n",
       " {'contract': 'two_year', 'tenure': 64, 'monthlycharges': 86.55},\n",
       " {'contract': 'month-to-month', 'tenure': 62, 'monthlycharges': 90.7},\n",
       " {'contract': 'one_year', 'tenure': 15, 'monthlycharges': 19.65},\n",
       " {'contract': 'month-to-month', 'tenure': 17, 'monthlycharges': 75.4},\n",
       " {'contract': 'two_year', 'tenure': 72, 'monthlycharges': 113.1},\n",
       " {'contract': 'month-to-month', 'tenure': 7, 'monthlycharges': 95.35},\n",
       " {'contract': 'month-to-month', 'tenure': 2, 'monthlycharges': 55.05},\n",
       " {'contract': 'two_year', 'tenure': 56, 'monthlycharges': 75.85},\n",
       " {'contract': 'month-to-month', 'tenure': 6, 'monthlycharges': 19.7},\n",
       " {'contract': 'two_year', 'tenure': 64, 'monthlycharges': 69.25},\n",
       " {'contract': 'month-to-month', 'tenure': 17, 'monthlycharges': 81.5},\n",
       " {'contract': 'month-to-month', 'tenure': 1, 'monthlycharges': 19.65},\n",
       " {'contract': 'month-to-month', 'tenure': 51, 'monthlycharges': 83.4},\n",
       " {'contract': 'two_year', 'tenure': 72, 'monthlycharges': 109.65},\n",
       " {'contract': 'one_year', 'tenure': 11, 'monthlycharges': 53.8},\n",
       " {'contract': 'two_year', 'tenure': 72, 'monthlycharges': 106.1},\n",
       " {'contract': 'month-to-month', 'tenure': 37, 'monthlycharges': 19.35},\n",
       " {'contract': 'month-to-month', 'tenure': 35, 'monthlycharges': 70.3},\n",
       " {'contract': 'month-to-month', 'tenure': 66, 'monthlycharges': 99.5},\n",
       " {'contract': 'month-to-month', 'tenure': 15, 'monthlycharges': 101.75},\n",
       " {'contract': 'month-to-month', 'tenure': 7, 'monthlycharges': 100.4},\n",
       " {'contract': 'month-to-month', 'tenure': 49, 'monthlycharges': 100.85},\n",
       " {'contract': 'month-to-month', 'tenure': 2, 'monthlycharges': 70.65},\n",
       " {'contract': 'one_year', 'tenure': 17, 'monthlycharges': 20.65},\n",
       " {'contract': 'month-to-month', 'tenure': 28, 'monthlycharges': 94.5},\n",
       " {'contract': 'one_year', 'tenure': 41, 'monthlycharges': 24.85},\n",
       " {'contract': 'month-to-month', 'tenure': 24, 'monthlycharges': 104.65},\n",
       " {'contract': 'two_year', 'tenure': 69, 'monthlycharges': 79.2},\n",
       " {'contract': 'one_year', 'tenure': 35, 'monthlycharges': 102.35},\n",
       " {'contract': 'one_year', 'tenure': 44, 'monthlycharges': 20.5},\n",
       " {'contract': 'month-to-month', 'tenure': 32, 'monthlycharges': 96.2},\n",
       " {'contract': 'two_year', 'tenure': 72, 'monthlycharges': 90.8},\n",
       " {'contract': 'month-to-month', 'tenure': 1, 'monthlycharges': 74.0},\n",
       " {'contract': 'one_year', 'tenure': 18, 'monthlycharges': 20.35},\n",
       " {'contract': 'one_year', 'tenure': 58, 'monthlycharges': 89.85},\n",
       " {'contract': 'month-to-month', 'tenure': 15, 'monthlycharges': 19.75},\n",
       " {'contract': 'two_year', 'tenure': 72, 'monthlycharges': 84.4},\n",
       " {'contract': 'two_year', 'tenure': 70, 'monthlycharges': 84.8},\n",
       " {'contract': 'month-to-month', 'tenure': 1, 'monthlycharges': 19.55},\n",
       " {'contract': 'one_year', 'tenure': 23, 'monthlycharges': 24.8},\n",
       " {'contract': 'month-to-month', 'tenure': 6, 'monthlycharges': 94.5},\n",
       " {'contract': 'month-to-month', 'tenure': 28, 'monthlycharges': 85.45},\n",
       " {'contract': 'two_year', 'tenure': 54, 'monthlycharges': 79.95},\n",
       " {'contract': 'two_year', 'tenure': 71, 'monthlycharges': 54.5},\n",
       " {'contract': 'one_year', 'tenure': 39, 'monthlycharges': 45.05},\n",
       " {'contract': 'one_year', 'tenure': 67, 'monthlycharges': 111.3},\n",
       " {'contract': 'month-to-month', 'tenure': 10, 'monthlycharges': 24.4},\n",
       " {'contract': 'month-to-month', 'tenure': 1, 'monthlycharges': 71.55},\n",
       " {'contract': 'two_year', 'tenure': 45, 'monthlycharges': 95.2},\n",
       " {'contract': 'two_year', 'tenure': 48, 'monthlycharges': 20.0},\n",
       " {'contract': 'month-to-month', 'tenure': 12, 'monthlycharges': 94.55},\n",
       " {'contract': 'one_year', 'tenure': 28, 'monthlycharges': 50.8},\n",
       " {'contract': 'two_year', 'tenure': 6, 'monthlycharges': 20.4},\n",
       " {'contract': 'one_year', 'tenure': 43, 'monthlycharges': 56.35},\n",
       " {'contract': 'month-to-month', 'tenure': 33, 'monthlycharges': 105.35},\n",
       " {'contract': 'month-to-month', 'tenure': 1, 'monthlycharges': 20.2},\n",
       " {'contract': 'month-to-month', 'tenure': 27, 'monthlycharges': 36.5},\n",
       " {'contract': 'month-to-month', 'tenure': 9, 'monthlycharges': 88.05},\n",
       " {'contract': 'one_year', 'tenure': 36, 'monthlycharges': 70.7},\n",
       " {'contract': 'two_year', 'tenure': 52, 'monthlycharges': 91.6},\n",
       " {'contract': 'month-to-month', 'tenure': 7, 'monthlycharges': 66.85},\n",
       " {'contract': 'month-to-month', 'tenure': 27, 'monthlycharges': 81.3},\n",
       " {'contract': 'month-to-month', 'tenure': 10, 'monthlycharges': 55.55},\n",
       " {'contract': 'month-to-month', 'tenure': 11, 'monthlycharges': 51.1},\n",
       " {'contract': 'two_year', 'tenure': 71, 'monthlycharges': 25.45},\n",
       " {'contract': 'one_year', 'tenure': 48, 'monthlycharges': 99.0},\n",
       " {'contract': 'month-to-month', 'tenure': 4, 'monthlycharges': 19.0},\n",
       " {'contract': 'month-to-month', 'tenure': 57, 'monthlycharges': 55.0},\n",
       " {'contract': 'month-to-month', 'tenure': 1, 'monthlycharges': 20.4},\n",
       " {'contract': 'two_year', 'tenure': 49, 'monthlycharges': 20.15},\n",
       " {'contract': 'month-to-month', 'tenure': 35, 'monthlycharges': 59.45},\n",
       " {'contract': 'two_year', 'tenure': 8, 'monthlycharges': 19.7},\n",
       " {'contract': 'month-to-month', 'tenure': 2, 'monthlycharges': 20.35},\n",
       " {'contract': 'month-to-month', 'tenure': 6, 'monthlycharges': 19.85},\n",
       " {'contract': 'one_year', 'tenure': 63, 'monthlycharges': 70.8},\n",
       " {'contract': 'two_year', 'tenure': 67, 'monthlycharges': 103.15},\n",
       " {'contract': 'two_year', 'tenure': 47, 'monthlycharges': 65.0},\n",
       " {'contract': 'two_year', 'tenure': 37, 'monthlycharges': 62.8},\n",
       " {'contract': 'two_year', 'tenure': 69, 'monthlycharges': 20.3},\n",
       " {'contract': 'two_year', 'tenure': 72, 'monthlycharges': 109.75},\n",
       " {'contract': 'one_year', 'tenure': 15, 'monthlycharges': 101.9},\n",
       " {'contract': 'month-to-month', 'tenure': 33, 'monthlycharges': 91.25},\n",
       " {'contract': 'two_year', 'tenure': 67, 'monthlycharges': 92.45},\n",
       " {'contract': 'month-to-month', 'tenure': 17, 'monthlycharges': 80.5},\n",
       " {'contract': 'month-to-month', 'tenure': 15, 'monthlycharges': 76.5},\n",
       " {'contract': 'two_year', 'tenure': 54, 'monthlycharges': 19.65},\n",
       " {'contract': 'two_year', 'tenure': 67, 'monthlycharges': 111.2},\n",
       " {'contract': 'month-to-month', 'tenure': 6, 'monthlycharges': 89.5},\n",
       " {'contract': 'month-to-month', 'tenure': 9, 'monthlycharges': 84.45},\n",
       " {'contract': 'month-to-month', 'tenure': 2, 'monthlycharges': 49.95},\n",
       " {'contract': 'month-to-month', 'tenure': 17, 'monthlycharges': 70.8},\n",
       " {'contract': 'one_year', 'tenure': 48, 'monthlycharges': 78.75},\n",
       " {'contract': 'month-to-month', 'tenure': 6, 'monthlycharges': 69.8},\n",
       " {'contract': 'one_year', 'tenure': 10, 'monthlycharges': 20.1},\n",
       " {'contract': 'two_year', 'tenure': 72, 'monthlycharges': 67.8},\n",
       " {'contract': 'one_year', 'tenure': 56, 'monthlycharges': 24.3},\n",
       " {'contract': 'two_year', 'tenure': 30, 'monthlycharges': 19.4},\n",
       " {'contract': 'two_year', 'tenure': 43, 'monthlycharges': 115.05},\n",
       " {'contract': 'month-to-month', 'tenure': 50, 'monthlycharges': 70.35},\n",
       " {'contract': 'two_year', 'tenure': 47, 'monthlycharges': 21.3},\n",
       " {'contract': 'one_year', 'tenure': 33, 'monthlycharges': 58.45},\n",
       " {'contract': 'month-to-month', 'tenure': 28, 'monthlycharges': 91.0},\n",
       " {'contract': 'month-to-month', 'tenure': 1, 'monthlycharges': 70.45},\n",
       " {'contract': 'month-to-month', 'tenure': 5, 'monthlycharges': 78.75},\n",
       " {'contract': 'one_year', 'tenure': 63, 'monthlycharges': 90.45},\n",
       " {'contract': 'month-to-month', 'tenure': 1, 'monthlycharges': 69.1},\n",
       " {'contract': 'month-to-month', 'tenure': 31, 'monthlycharges': 54.35},\n",
       " {'contract': 'month-to-month', 'tenure': 21, 'monthlycharges': 86.05},\n",
       " {'contract': 'month-to-month', 'tenure': 29, 'monthlycharges': 67.45},\n",
       " {'contract': 'month-to-month', 'tenure': 27, 'monthlycharges': 104.3},\n",
       " {'contract': 'one_year', 'tenure': 41, 'monthlycharges': 51.35},\n",
       " {'contract': 'two_year', 'tenure': 65, 'monthlycharges': 108.65},\n",
       " {'contract': 'month-to-month', 'tenure': 6, 'monthlycharges': 20.0},\n",
       " {'contract': 'month-to-month', 'tenure': 53, 'monthlycharges': 108.25},\n",
       " {'contract': 'month-to-month', 'tenure': 1, 'monthlycharges': 20.05},\n",
       " {'contract': 'month-to-month', 'tenure': 8, 'monthlycharges': 73.5},\n",
       " {'contract': 'two_year', 'tenure': 60, 'monthlycharges': 19.65},\n",
       " {'contract': 'month-to-month', 'tenure': 1, 'monthlycharges': 89.9},\n",
       " {'contract': 'month-to-month', 'tenure': 1, 'monthlycharges': 90.55},\n",
       " {'contract': 'two_year', 'tenure': 63, 'monthlycharges': 63.55},\n",
       " {'contract': 'month-to-month', 'tenure': 2, 'monthlycharges': 78.55},\n",
       " {'contract': 'two_year', 'tenure': 71, 'monthlycharges': 100.5},\n",
       " {'contract': 'one_year', 'tenure': 31, 'monthlycharges': 64.0},\n",
       " {'contract': 'one_year', 'tenure': 22, 'monthlycharges': 19.6},\n",
       " {'contract': 'month-to-month', 'tenure': 63, 'monthlycharges': 105.4},\n",
       " {'contract': 'two_year', 'tenure': 72, 'monthlycharges': 115.75},\n",
       " {'contract': 'two_year', 'tenure': 66, 'monthlycharges': 80.55},\n",
       " {'contract': 'month-to-month', 'tenure': 3, 'monthlycharges': 50.5},\n",
       " {'contract': 'month-to-month', 'tenure': 15, 'monthlycharges': 51.55},\n",
       " {'contract': 'month-to-month', 'tenure': 2, 'monthlycharges': 53.85},\n",
       " {'contract': 'month-to-month', 'tenure': 7, 'monthlycharges': 76.45},\n",
       " {'contract': 'month-to-month', 'tenure': 2, 'monthlycharges': 20.65},\n",
       " {'contract': 'two_year', 'tenure': 72, 'monthlycharges': 84.5},\n",
       " {'contract': 'month-to-month', 'tenure': 6, 'monthlycharges': 56.25},\n",
       " {'contract': 'month-to-month', 'tenure': 10, 'monthlycharges': 95.2},\n",
       " {'contract': 'two_year', 'tenure': 71, 'monthlycharges': 90.3},\n",
       " {'contract': 'two_year', 'tenure': 69, 'monthlycharges': 19.95},\n",
       " {'contract': 'month-to-month', 'tenure': 24, 'monthlycharges': 70.0},\n",
       " {'contract': 'month-to-month', 'tenure': 9, 'monthlycharges': 19.05},\n",
       " {'contract': 'month-to-month', 'tenure': 7, 'monthlycharges': 89.15},\n",
       " {'contract': 'two_year', 'tenure': 72, 'monthlycharges': 88.05},\n",
       " {'contract': 'month-to-month', 'tenure': 68, 'monthlycharges': 44.95},\n",
       " {'contract': 'two_year', 'tenure': 72, 'monthlycharges': 90.15},\n",
       " {'contract': 'month-to-month', 'tenure': 1, 'monthlycharges': 20.3},\n",
       " {'contract': 'month-to-month', 'tenure': 40, 'monthlycharges': 96.35},\n",
       " {'contract': 'month-to-month', 'tenure': 16, 'monthlycharges': 90.8},\n",
       " {'contract': 'month-to-month', 'tenure': 2, 'monthlycharges': 44.45},\n",
       " {'contract': 'month-to-month', 'tenure': 6, 'monthlycharges': 93.55},\n",
       " {'contract': 'two_year', 'tenure': 20, 'monthlycharges': 20.05},\n",
       " {'contract': 'two_year', 'tenure': 36, 'monthlycharges': 53.1},\n",
       " {'contract': 'month-to-month', 'tenure': 3, 'monthlycharges': 20.0},\n",
       " {'contract': 'one_year', 'tenure': 50, 'monthlycharges': 100.65},\n",
       " {'contract': 'month-to-month', 'tenure': 30, 'monthlycharges': 48.8},\n",
       " {'contract': 'month-to-month', 'tenure': 39, 'monthlycharges': 103.45},\n",
       " {'contract': 'month-to-month', 'tenure': 42, 'monthlycharges': 74.15},\n",
       " {'contract': 'month-to-month', 'tenure': 6, 'monthlycharges': 90.75},\n",
       " {'contract': 'month-to-month', 'tenure': 2, 'monthlycharges': 20.45},\n",
       " {'contract': 'month-to-month', 'tenure': 35, 'monthlycharges': 89.65},\n",
       " {'contract': 'one_year', 'tenure': 22, 'monthlycharges': 20.25},\n",
       " {'contract': 'month-to-month', 'tenure': 15, 'monthlycharges': 20.45},\n",
       " {'contract': 'month-to-month', 'tenure': 8, 'monthlycharges': 55.75},\n",
       " {'contract': 'two_year', 'tenure': 72, 'monthlycharges': 89.55},\n",
       " {'contract': 'two_year', 'tenure': 27, 'monthlycharges': 19.6},\n",
       " {'contract': 'one_year', 'tenure': 70, 'monthlycharges': 60.35},\n",
       " {'contract': 'month-to-month', 'tenure': 16, 'monthlycharges': 74.3},\n",
       " {'contract': 'two_year', 'tenure': 71, 'monthlycharges': 105.25},\n",
       " {'contract': 'one_year', 'tenure': 65, 'monthlycharges': 89.85},\n",
       " {'contract': 'month-to-month', 'tenure': 1, 'monthlycharges': 74.35},\n",
       " {'contract': 'month-to-month', 'tenure': 1, 'monthlycharges': 54.75},\n",
       " {'contract': 'two_year', 'tenure': 23, 'monthlycharges': 40.1},\n",
       " {'contract': 'month-to-month', 'tenure': 13, 'monthlycharges': 18.8},\n",
       " {'contract': 'month-to-month', 'tenure': 11, 'monthlycharges': 64.05},\n",
       " {'contract': 'one_year', 'tenure': 32, 'monthlycharges': 19.75},\n",
       " {'contract': 'one_year', 'tenure': 53, 'monthlycharges': 94.25},\n",
       " {'contract': 'month-to-month', 'tenure': 3, 'monthlycharges': 50.65},\n",
       " {'contract': 'month-to-month', 'tenure': 33, 'monthlycharges': 90.65},\n",
       " {'contract': 'month-to-month', 'tenure': 49, 'monthlycharges': 96.2},\n",
       " {'contract': 'two_year', 'tenure': 23, 'monthlycharges': 20.9},\n",
       " {'contract': 'one_year', 'tenure': 38, 'monthlycharges': 110.7},\n",
       " {'contract': 'two_year', 'tenure': 67, 'monthlycharges': 43.9},\n",
       " {'contract': 'one_year', 'tenure': 54, 'monthlycharges': 105.4},\n",
       " {'contract': 'one_year', 'tenure': 50, 'monthlycharges': 106.8},\n",
       " {'contract': 'two_year', 'tenure': 64, 'monthlycharges': 110.5},\n",
       " {'contract': 'two_year', 'tenure': 6, 'monthlycharges': 19.55},\n",
       " {'contract': 'one_year', 'tenure': 58, 'monthlycharges': 61.05},\n",
       " {'contract': 'one_year', 'tenure': 26, 'monthlycharges': 54.55},\n",
       " {'contract': 'two_year', 'tenure': 48, 'monthlycharges': 24.0},\n",
       " {'contract': 'month-to-month', 'tenure': 24, 'monthlycharges': 85.95},\n",
       " {'contract': 'month-to-month', 'tenure': 47, 'monthlycharges': 70.55},\n",
       " {'contract': 'one_year', 'tenure': 44, 'monthlycharges': 109.8},\n",
       " {'contract': 'month-to-month', 'tenure': 22, 'monthlycharges': 80.0},\n",
       " {'contract': 'one_year', 'tenure': 23, 'monthlycharges': 19.65},\n",
       " {'contract': 'one_year', 'tenure': 68, 'monthlycharges': 73.0},\n",
       " {'contract': 'month-to-month', 'tenure': 13, 'monthlycharges': 66.4},\n",
       " {'contract': 'two_year', 'tenure': 53, 'monthlycharges': 19.4},\n",
       " {'contract': 'month-to-month', 'tenure': 1, 'monthlycharges': 45.1},\n",
       " {'contract': 'month-to-month', 'tenure': 1, 'monthlycharges': 35.9},\n",
       " {'contract': 'one_year', 'tenure': 66, 'monthlycharges': 74.25},\n",
       " {'contract': 'two_year', 'tenure': 70, 'monthlycharges': 86.45},\n",
       " {'contract': 'month-to-month', 'tenure': 47, 'monthlycharges': 99.35},\n",
       " {'contract': 'two_year', 'tenure': 65, 'monthlycharges': 59.8},\n",
       " {'contract': 'two_year', 'tenure': 36, 'monthlycharges': 19.45},\n",
       " {'contract': 'two_year', 'tenure': 68, 'monthlycharges': 19.95},\n",
       " {'contract': 'two_year', 'tenure': 70, 'monthlycharges': 19.55},\n",
       " {'contract': 'month-to-month', 'tenure': 2, 'monthlycharges': 44.3},\n",
       " {'contract': 'one_year', 'tenure': 69, 'monthlycharges': 110.55},\n",
       " {'contract': 'month-to-month', 'tenure': 34, 'monthlycharges': 70.0},\n",
       " {'contract': 'one_year', 'tenure': 14, 'monthlycharges': 51.45},\n",
       " {'contract': 'month-to-month', 'tenure': 28, 'monthlycharges': 81.05},\n",
       " {'contract': 'two_year', 'tenure': 67, 'monthlycharges': 19.65},\n",
       " {'contract': 'month-to-month', 'tenure': 5, 'monthlycharges': 96.55},\n",
       " {'contract': 'month-to-month', 'tenure': 2, 'monthlycharges': 50.95},\n",
       " {'contract': 'month-to-month', 'tenure': 41, 'monthlycharges': 83.75},\n",
       " {'contract': 'two_year', 'tenure': 69, 'monthlycharges': 59.75},\n",
       " {'contract': 'two_year', 'tenure': 64, 'monthlycharges': 24.05},\n",
       " {'contract': 'two_year', 'tenure': 33, 'monthlycharges': 24.5},\n",
       " {'contract': 'two_year', 'tenure': 67, 'monthlycharges': 108.75},\n",
       " {'contract': 'one_year', 'tenure': 53, 'monthlycharges': 20.8},\n",
       " {'contract': 'one_year', 'tenure': 48, 'monthlycharges': 83.45},\n",
       " {'contract': 'month-to-month', 'tenure': 14, 'monthlycharges': 70.2},\n",
       " {'contract': 'two_year', 'tenure': 46, 'monthlycharges': 54.35},\n",
       " {'contract': 'month-to-month', 'tenure': 49, 'monthlycharges': 52.15},\n",
       " {'contract': 'month-to-month', 'tenure': 2, 'monthlycharges': 100.2},\n",
       " {'contract': 'two_year', 'tenure': 19, 'monthlycharges': 20.5},\n",
       " {'contract': 'month-to-month', 'tenure': 1, 'monthlycharges': 25.2},\n",
       " {'contract': 'two_year', 'tenure': 72, 'monthlycharges': 84.45},\n",
       " {'contract': 'two_year', 'tenure': 72, 'monthlycharges': 84.45},\n",
       " {'contract': 'month-to-month', 'tenure': 5, 'monthlycharges': 85.4},\n",
       " {'contract': 'month-to-month', 'tenure': 29, 'monthlycharges': 98.6},\n",
       " {'contract': 'two_year', 'tenure': 46, 'monthlycharges': 108.65},\n",
       " {'contract': 'month-to-month', 'tenure': 10, 'monthlycharges': 36.25},\n",
       " {'contract': 'one_year', 'tenure': 66, 'monthlycharges': 89.0},\n",
       " {'contract': 'one_year', 'tenure': 34, 'monthlycharges': 77.2},\n",
       " {'contract': 'month-to-month', 'tenure': 1, 'monthlycharges': 45.95},\n",
       " {'contract': 'month-to-month', 'tenure': 5, 'monthlycharges': 89.8},\n",
       " {'contract': 'two_year', 'tenure': 66, 'monthlycharges': 65.7},\n",
       " {'contract': 'two_year', 'tenure': 46, 'monthlycharges': 19.95},\n",
       " {'contract': 'month-to-month', 'tenure': 1, 'monthlycharges': 19.75},\n",
       " {'contract': 'month-to-month', 'tenure': 18, 'monthlycharges': 85.45},\n",
       " {'contract': 'month-to-month', 'tenure': 9, 'monthlycharges': 55.3},\n",
       " {'contract': 'one_year', 'tenure': 34, 'monthlycharges': 64.4},\n",
       " {'contract': 'two_year', 'tenure': 72, 'monthlycharges': 89.05},\n",
       " {'contract': 'month-to-month', 'tenure': 37, 'monthlycharges': 20.35},\n",
       " {'contract': 'one_year', 'tenure': 38, 'monthlycharges': 20.1},\n",
       " {'contract': 'two_year', 'tenure': 68, 'monthlycharges': 110.2},\n",
       " {'contract': 'two_year', 'tenure': 71, 'monthlycharges': 82.0},\n",
       " {'contract': 'two_year', 'tenure': 72, 'monthlycharges': 85.15},\n",
       " {'contract': 'month-to-month', 'tenure': 49, 'monthlycharges': 95.6},\n",
       " {'contract': 'one_year', 'tenure': 65, 'monthlycharges': 100.75},\n",
       " ...]"
      ]
     },
     "metadata": {},
     "execution_count": 105
    }
   ],
   "metadata": {}
  },
  {
   "cell_type": "code",
   "execution_count": 106,
   "source": [
    "dv_small = DictVectorizer(sparse=False)\r\n",
    "dv_small.fit(dicts_train_small)"
   ],
   "outputs": [
    {
     "output_type": "execute_result",
     "data": {
      "text/plain": [
       "DictVectorizer(sparse=False)"
      ]
     },
     "metadata": {},
     "execution_count": 106
    }
   ],
   "metadata": {}
  },
  {
   "cell_type": "code",
   "execution_count": 107,
   "source": [
    "dv_small.get_feature_names()"
   ],
   "outputs": [
    {
     "output_type": "execute_result",
     "data": {
      "text/plain": [
       "['contract=month-to-month',\n",
       " 'contract=one_year',\n",
       " 'contract=two_year',\n",
       " 'monthlycharges',\n",
       " 'tenure']"
      ]
     },
     "metadata": {},
     "execution_count": 107
    }
   ],
   "metadata": {}
  },
  {
   "cell_type": "code",
   "execution_count": 108,
   "source": [
    "X_train_small = dv_small.transform(dicts_train_small)\r\n",
    "X_val_small = dv_small.transform(dicts_val_small)"
   ],
   "outputs": [],
   "metadata": {}
  },
  {
   "cell_type": "code",
   "execution_count": 112,
   "source": [
    "model_small = LogisticRegression()\r\n",
    "model_small.fit(X_train_small,y_train)"
   ],
   "outputs": [
    {
     "output_type": "execute_result",
     "data": {
      "text/plain": [
       "LogisticRegression()"
      ]
     },
     "metadata": {},
     "execution_count": 112
    }
   ],
   "metadata": {}
  },
  {
   "cell_type": "code",
   "execution_count": 114,
   "source": [
    "w0 = model_small.intercept_[0]\r\n",
    "w0"
   ],
   "outputs": [
    {
     "output_type": "execute_result",
     "data": {
      "text/plain": [
       "-2.476775662425276"
      ]
     },
     "metadata": {},
     "execution_count": 114
    }
   ],
   "metadata": {}
  },
  {
   "cell_type": "code",
   "execution_count": 118,
   "source": [
    "w = model_small.coef_[0]\r\n",
    "w"
   ],
   "outputs": [
    {
     "output_type": "execute_result",
     "data": {
      "text/plain": [
       "array([ 0.97004492, -0.02513651, -0.94872202,  0.02748236, -0.03618424])"
      ]
     },
     "metadata": {},
     "execution_count": 118
    }
   ],
   "metadata": {}
  },
  {
   "cell_type": "code",
   "execution_count": 119,
   "source": [
    "dict(zip(dv_small.get_feature_names(),w.round(3)))"
   ],
   "outputs": [
    {
     "output_type": "execute_result",
     "data": {
      "text/plain": [
       "{'contract=month-to-month': 0.97,\n",
       " 'contract=one_year': -0.025,\n",
       " 'contract=two_year': -0.949,\n",
       " 'monthlycharges': 0.027,\n",
       " 'tenure': -0.036}"
      ]
     },
     "metadata": {},
     "execution_count": 119
    }
   ],
   "metadata": {}
  },
  {
   "cell_type": "code",
   "execution_count": 126,
   "source": [
    "z = -2.47 + 0.97 + 50*0.027 + 5*-0.036"
   ],
   "outputs": [],
   "metadata": {}
  },
  {
   "cell_type": "code",
   "execution_count": 128,
   "source": [
    "sigmoid(z)"
   ],
   "outputs": [
    {
     "output_type": "execute_result",
     "data": {
      "text/plain": [
       "0.41824062315816374"
      ]
     },
     "metadata": {},
     "execution_count": 128
    }
   ],
   "metadata": {}
  }
 ],
 "metadata": {
  "orig_nbformat": 4,
  "language_info": {
   "name": "python",
   "version": "3.9.0",
   "mimetype": "text/x-python",
   "codemirror_mode": {
    "name": "ipython",
    "version": 3
   },
   "pygments_lexer": "ipython3",
   "nbconvert_exporter": "python",
   "file_extension": ".py"
  },
  "kernelspec": {
   "name": "python3",
   "display_name": "Python 3.9.0 64-bit ('py39tf2.6': conda)"
  },
  "interpreter": {
   "hash": "2637c72b9413389749340da249e0df9e4c76d36edefe48c34c238724d995cb1b"
  }
 },
 "nbformat": 4,
 "nbformat_minor": 2
}