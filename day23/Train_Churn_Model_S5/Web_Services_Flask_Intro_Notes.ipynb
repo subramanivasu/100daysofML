{
 "cells": [
  {
   "cell_type": "markdown",
   "id": "e66c00b3",
   "metadata": {},
   "source": [
    "## Web Serivices : Intro to Flask\n",
    "\n",
    "Web services is a communication method between electronic devices wherein information is exchanged through the servers/Web through Queries/different comminucation protocols such as TCP e.t.c.\n",
    "\n",
    "In our case,the model is put inside a churn service and the Marketing service communicates with the Churn service.We dont want everytime to call the predict.py python file to make predictions so we make the Churn Service available as a Web Service.\n",
    "\n",
    "\n",
    "## Flask\n",
    "\n",
    "Flask is a web application framework that helps take care of web service.\n",
    "\n",
    "\n"
   ]
  },
  {
   "cell_type": "code",
   "execution_count": null,
   "id": "94ec1e9a",
   "metadata": {},
   "outputs": [],
   "source": [
    "from flask import Flask #Importing Flask\n",
    "\n",
    "\n",
    "app = Flask('Ping')\n",
    "\n",
    "@app.route('/ping',methods=['GET'])\n",
    "\n",
    "def ping():\n",
    "    return \"PONG\\n\"\n",
    "\n",
    "if __name__ == '__main__':\n",
    "    app.run(debug=True,host='0.0.0.0',port=9696)"
   ]
  }
 ],
 "metadata": {
  "kernelspec": {
   "display_name": "3.9",
   "language": "python",
   "name": "3.9"
  },
  "language_info": {
   "codemirror_mode": {
    "name": "ipython",
    "version": 3
   },
   "file_extension": ".py",
   "mimetype": "text/x-python",
   "name": "python",
   "nbconvert_exporter": "python",
   "pygments_lexer": "ipython3",
   "version": "3.9.6"
  }
 },
 "nbformat": 4,
 "nbformat_minor": 5
}
