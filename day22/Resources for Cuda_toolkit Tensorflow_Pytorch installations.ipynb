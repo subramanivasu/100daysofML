{
 "cells": [
  {
   "cell_type": "markdown",
   "source": [
    "# Resources to install Cuda,cuDNN toolkit and Tensorflow,Pytorch "
   ],
   "metadata": {}
  },
  {
   "cell_type": "markdown",
   "source": [
    "TENSORFLOW AND CUDA TOOLKIT\r\n",
    "\r\n",
    "Linux - Let's Install Tensorflow 2.4 (with CUDA toolkit) on Ubuntu 20.04  - https://www.youtube.com/watch?v=2SYh9XE00FA\r\n",
    "\r\n",
    "Windows - Installing Latest TensorFlow version with CUDA, cudNN and GPU support - Step by step tutorial 2021 - https://www.youtube.com/watch?v=hHWkvEcDBO0"
   ],
   "metadata": {}
  },
  {
   "cell_type": "markdown",
   "source": [
    "PYTORCH\r\n",
    "\r\n",
    "How to Install PyTorch on Linux for CPU or GPU - No Driver Install Needed - https://www.youtube.com/watch?v=YTvVxYneu7w\r\n",
    "\r\n",
    "https://github.com/jeffheaton/t81_558_deep_learning/tree/master/install"
   ],
   "metadata": {}
  },
  {
   "cell_type": "markdown",
   "source": [
    "NVIDIA CUDA TOOLKIT\r\n",
    "\r\n",
    "cuDNN - https://developer.nvidia.com/rdp/cudnn-archive#a-collapse804-110\r\n",
    "\r\n",
    "Cuda Toolkit - https://developer.nvidia.com/cuda-toolkit-archive"
   ],
   "metadata": {}
  }
 ],
 "metadata": {
  "orig_nbformat": 4,
  "language_info": {
   "name": "python"
  }
 },
 "nbformat": 4,
 "nbformat_minor": 2
}