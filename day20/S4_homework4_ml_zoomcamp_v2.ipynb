{
 "cells": [
  {
   "cell_type": "markdown",
   "source": [
    "\n",
    "## Homework 4\n"
   ],
   "metadata": {}
  },
  {
   "cell_type": "code",
   "execution_count": 1,
   "source": [
    "import pandas as pd\r\n",
    "import numpy as np\r\n",
    "\r\n",
    "import matplotlib.pyplot as plt\r\n",
    "import seaborn as sns\r\n",
    "\r\n",
    "%matplotlib inline"
   ],
   "outputs": [],
   "metadata": {}
  },
  {
   "cell_type": "code",
   "execution_count": 2,
   "source": [
    "!wget https://raw.githubusercontent.com/alexeygrigorev/mlbookcamp-code/master/chapter-06-trees/CreditScoring.csv"
   ],
   "outputs": [
    {
     "output_type": "stream",
     "name": "stderr",
     "text": [
      "--2021-09-30 23:01:50--  https://raw.githubusercontent.com/alexeygrigorev/mlbookcamp-code/master/chapter-06-trees/CreditScoring.csv\n",
      "Resolving raw.githubusercontent.com (raw.githubusercontent.com)... 185.199.108.133, 185.199.109.133, 185.199.110.133, ...\n",
      "Connecting to raw.githubusercontent.com (raw.githubusercontent.com)|185.199.108.133|:443... connected.\n",
      "HTTP request sent, awaiting response... 200 OK\n",
      "Length: 182489 (178K) [text/plain]\n",
      "Saving to: 'CreditScoring.csv.17'\n",
      "\n",
      "     0K .......... .......... .......... .......... .......... 28% 3.49M 0s\n",
      "    50K .......... .......... .......... .......... .......... 56% 7.15M 0s\n",
      "   100K .......... .......... .......... .......... .......... 84% 2.84M 0s\n",
      "   150K .......... .......... ........                        100% 11.9M=0.04s\n",
      "\n",
      "2021-09-30 23:01:51 (4.31 MB/s) - 'CreditScoring.csv.17' saved [182489/182489]\n",
      "\n"
     ]
    }
   ],
   "metadata": {}
  },
  {
   "cell_type": "markdown",
   "source": [
    "\n",
    "## Preparation\n",
    "\n",
    "\n"
   ],
   "metadata": {}
  },
  {
   "cell_type": "code",
   "execution_count": 3,
   "source": [
    "df = pd.read_csv('CreditScoring.csv')\r\n",
    "\r\n",
    "df.columns = df.columns.str.lower()"
   ],
   "outputs": [],
   "metadata": {}
  },
  {
   "cell_type": "code",
   "execution_count": 4,
   "source": [
    "status_values = {\r\n",
    "    1: 'ok',\r\n",
    "    2: 'default',\r\n",
    "    0: 'unk'\r\n",
    "}\r\n",
    "\r\n",
    "df.status = df.status.map(status_values)\r\n",
    "\r\n",
    "\r\n",
    "home_values = {\r\n",
    "    1: 'rent',\r\n",
    "    2: 'owner',\r\n",
    "    3: 'private',\r\n",
    "    4: 'ignore',\r\n",
    "    5: 'parents',\r\n",
    "    6: 'other',\r\n",
    "    0: 'unk'\r\n",
    "}\r\n",
    "\r\n",
    "df.home = df.home.map(home_values)\r\n",
    "\r\n",
    "marital_values = {\r\n",
    "    1: 'single',\r\n",
    "    2: 'married',\r\n",
    "    3: 'widow',\r\n",
    "    4: 'separated',\r\n",
    "    5: 'divorced',\r\n",
    "    0: 'unk'\r\n",
    "}\r\n",
    "\r\n",
    "df.marital = df.marital.map(marital_values)\r\n",
    "\r\n",
    "records_values = {\r\n",
    "    1: 'no',\r\n",
    "    2: 'yes',\r\n",
    "    0: 'unk'\r\n",
    "}\r\n",
    "\r\n",
    "df.records = df.records.map(records_values)\r\n",
    "\r\n",
    "job_values = {\r\n",
    "    1: 'fixed',\r\n",
    "    2: 'partime',\r\n",
    "    3: 'freelance',\r\n",
    "    4: 'others',\r\n",
    "    0: 'unk'\r\n",
    "}\r\n",
    "\r\n",
    "df.job = df.job.map(job_values)"
   ],
   "outputs": [],
   "metadata": {}
  },
  {
   "cell_type": "markdown",
   "source": [
    "\n",
    "\n",
    "Prepare the numerical variables:\n"
   ],
   "metadata": {}
  },
  {
   "cell_type": "code",
   "execution_count": 5,
   "source": [
    "\r\n",
    "\r\n",
    "for c in ['income', 'assets', 'debt']:\r\n",
    "    df[c] = df[c].replace(to_replace=99999999, value=0)\r\n",
    "\r\n"
   ],
   "outputs": [],
   "metadata": {}
  },
  {
   "cell_type": "markdown",
   "source": [
    "\n",
    "\n",
    "Remove clients with unknown default status\n"
   ],
   "metadata": {}
  },
  {
   "cell_type": "code",
   "execution_count": 6,
   "source": [
    "df = df[df.status != 'unk'].reset_index(drop=True)"
   ],
   "outputs": [],
   "metadata": {}
  },
  {
   "cell_type": "markdown",
   "source": [
    "\n",
    "\n",
    "Create the target variable\n"
   ],
   "metadata": {}
  },
  {
   "cell_type": "code",
   "execution_count": 7,
   "source": [
    "df['default'] = (df.status == 'default').astype(int)\r\n",
    "del df['status']"
   ],
   "outputs": [],
   "metadata": {}
  },
  {
   "cell_type": "code",
   "execution_count": 8,
   "source": [
    "df"
   ],
   "outputs": [
    {
     "output_type": "execute_result",
     "data": {
      "text/html": [
       "<div>\n",
       "<style scoped>\n",
       "    .dataframe tbody tr th:only-of-type {\n",
       "        vertical-align: middle;\n",
       "    }\n",
       "\n",
       "    .dataframe tbody tr th {\n",
       "        vertical-align: top;\n",
       "    }\n",
       "\n",
       "    .dataframe thead th {\n",
       "        text-align: right;\n",
       "    }\n",
       "</style>\n",
       "<table border=\"1\" class=\"dataframe\">\n",
       "  <thead>\n",
       "    <tr style=\"text-align: right;\">\n",
       "      <th></th>\n",
       "      <th>seniority</th>\n",
       "      <th>home</th>\n",
       "      <th>time</th>\n",
       "      <th>age</th>\n",
       "      <th>marital</th>\n",
       "      <th>records</th>\n",
       "      <th>job</th>\n",
       "      <th>expenses</th>\n",
       "      <th>income</th>\n",
       "      <th>assets</th>\n",
       "      <th>debt</th>\n",
       "      <th>amount</th>\n",
       "      <th>price</th>\n",
       "      <th>default</th>\n",
       "    </tr>\n",
       "  </thead>\n",
       "  <tbody>\n",
       "    <tr>\n",
       "      <th>0</th>\n",
       "      <td>9</td>\n",
       "      <td>rent</td>\n",
       "      <td>60</td>\n",
       "      <td>30</td>\n",
       "      <td>married</td>\n",
       "      <td>no</td>\n",
       "      <td>freelance</td>\n",
       "      <td>73</td>\n",
       "      <td>129</td>\n",
       "      <td>0</td>\n",
       "      <td>0</td>\n",
       "      <td>800</td>\n",
       "      <td>846</td>\n",
       "      <td>0</td>\n",
       "    </tr>\n",
       "    <tr>\n",
       "      <th>1</th>\n",
       "      <td>17</td>\n",
       "      <td>rent</td>\n",
       "      <td>60</td>\n",
       "      <td>58</td>\n",
       "      <td>widow</td>\n",
       "      <td>no</td>\n",
       "      <td>fixed</td>\n",
       "      <td>48</td>\n",
       "      <td>131</td>\n",
       "      <td>0</td>\n",
       "      <td>0</td>\n",
       "      <td>1000</td>\n",
       "      <td>1658</td>\n",
       "      <td>0</td>\n",
       "    </tr>\n",
       "    <tr>\n",
       "      <th>2</th>\n",
       "      <td>10</td>\n",
       "      <td>owner</td>\n",
       "      <td>36</td>\n",
       "      <td>46</td>\n",
       "      <td>married</td>\n",
       "      <td>yes</td>\n",
       "      <td>freelance</td>\n",
       "      <td>90</td>\n",
       "      <td>200</td>\n",
       "      <td>3000</td>\n",
       "      <td>0</td>\n",
       "      <td>2000</td>\n",
       "      <td>2985</td>\n",
       "      <td>1</td>\n",
       "    </tr>\n",
       "    <tr>\n",
       "      <th>3</th>\n",
       "      <td>0</td>\n",
       "      <td>rent</td>\n",
       "      <td>60</td>\n",
       "      <td>24</td>\n",
       "      <td>single</td>\n",
       "      <td>no</td>\n",
       "      <td>fixed</td>\n",
       "      <td>63</td>\n",
       "      <td>182</td>\n",
       "      <td>2500</td>\n",
       "      <td>0</td>\n",
       "      <td>900</td>\n",
       "      <td>1325</td>\n",
       "      <td>0</td>\n",
       "    </tr>\n",
       "    <tr>\n",
       "      <th>4</th>\n",
       "      <td>0</td>\n",
       "      <td>rent</td>\n",
       "      <td>36</td>\n",
       "      <td>26</td>\n",
       "      <td>single</td>\n",
       "      <td>no</td>\n",
       "      <td>fixed</td>\n",
       "      <td>46</td>\n",
       "      <td>107</td>\n",
       "      <td>0</td>\n",
       "      <td>0</td>\n",
       "      <td>310</td>\n",
       "      <td>910</td>\n",
       "      <td>0</td>\n",
       "    </tr>\n",
       "    <tr>\n",
       "      <th>...</th>\n",
       "      <td>...</td>\n",
       "      <td>...</td>\n",
       "      <td>...</td>\n",
       "      <td>...</td>\n",
       "      <td>...</td>\n",
       "      <td>...</td>\n",
       "      <td>...</td>\n",
       "      <td>...</td>\n",
       "      <td>...</td>\n",
       "      <td>...</td>\n",
       "      <td>...</td>\n",
       "      <td>...</td>\n",
       "      <td>...</td>\n",
       "      <td>...</td>\n",
       "    </tr>\n",
       "    <tr>\n",
       "      <th>4449</th>\n",
       "      <td>1</td>\n",
       "      <td>rent</td>\n",
       "      <td>60</td>\n",
       "      <td>39</td>\n",
       "      <td>married</td>\n",
       "      <td>no</td>\n",
       "      <td>fixed</td>\n",
       "      <td>69</td>\n",
       "      <td>92</td>\n",
       "      <td>0</td>\n",
       "      <td>0</td>\n",
       "      <td>900</td>\n",
       "      <td>1020</td>\n",
       "      <td>1</td>\n",
       "    </tr>\n",
       "    <tr>\n",
       "      <th>4450</th>\n",
       "      <td>22</td>\n",
       "      <td>owner</td>\n",
       "      <td>60</td>\n",
       "      <td>46</td>\n",
       "      <td>married</td>\n",
       "      <td>no</td>\n",
       "      <td>fixed</td>\n",
       "      <td>60</td>\n",
       "      <td>75</td>\n",
       "      <td>3000</td>\n",
       "      <td>600</td>\n",
       "      <td>950</td>\n",
       "      <td>1263</td>\n",
       "      <td>0</td>\n",
       "    </tr>\n",
       "    <tr>\n",
       "      <th>4451</th>\n",
       "      <td>0</td>\n",
       "      <td>owner</td>\n",
       "      <td>24</td>\n",
       "      <td>37</td>\n",
       "      <td>married</td>\n",
       "      <td>no</td>\n",
       "      <td>partime</td>\n",
       "      <td>60</td>\n",
       "      <td>90</td>\n",
       "      <td>3500</td>\n",
       "      <td>0</td>\n",
       "      <td>500</td>\n",
       "      <td>963</td>\n",
       "      <td>1</td>\n",
       "    </tr>\n",
       "    <tr>\n",
       "      <th>4452</th>\n",
       "      <td>0</td>\n",
       "      <td>rent</td>\n",
       "      <td>48</td>\n",
       "      <td>23</td>\n",
       "      <td>single</td>\n",
       "      <td>no</td>\n",
       "      <td>freelance</td>\n",
       "      <td>49</td>\n",
       "      <td>140</td>\n",
       "      <td>0</td>\n",
       "      <td>0</td>\n",
       "      <td>550</td>\n",
       "      <td>550</td>\n",
       "      <td>0</td>\n",
       "    </tr>\n",
       "    <tr>\n",
       "      <th>4453</th>\n",
       "      <td>5</td>\n",
       "      <td>owner</td>\n",
       "      <td>60</td>\n",
       "      <td>32</td>\n",
       "      <td>married</td>\n",
       "      <td>no</td>\n",
       "      <td>freelance</td>\n",
       "      <td>60</td>\n",
       "      <td>140</td>\n",
       "      <td>4000</td>\n",
       "      <td>1000</td>\n",
       "      <td>1350</td>\n",
       "      <td>1650</td>\n",
       "      <td>0</td>\n",
       "    </tr>\n",
       "  </tbody>\n",
       "</table>\n",
       "<p>4454 rows × 14 columns</p>\n",
       "</div>"
      ],
      "text/plain": [
       "      seniority   home  time  age  marital records        job  expenses  \\\n",
       "0             9   rent    60   30  married      no  freelance        73   \n",
       "1            17   rent    60   58    widow      no      fixed        48   \n",
       "2            10  owner    36   46  married     yes  freelance        90   \n",
       "3             0   rent    60   24   single      no      fixed        63   \n",
       "4             0   rent    36   26   single      no      fixed        46   \n",
       "...         ...    ...   ...  ...      ...     ...        ...       ...   \n",
       "4449          1   rent    60   39  married      no      fixed        69   \n",
       "4450         22  owner    60   46  married      no      fixed        60   \n",
       "4451          0  owner    24   37  married      no    partime        60   \n",
       "4452          0   rent    48   23   single      no  freelance        49   \n",
       "4453          5  owner    60   32  married      no  freelance        60   \n",
       "\n",
       "      income  assets  debt  amount  price  default  \n",
       "0        129       0     0     800    846        0  \n",
       "1        131       0     0    1000   1658        0  \n",
       "2        200    3000     0    2000   2985        1  \n",
       "3        182    2500     0     900   1325        0  \n",
       "4        107       0     0     310    910        0  \n",
       "...      ...     ...   ...     ...    ...      ...  \n",
       "4449      92       0     0     900   1020        1  \n",
       "4450      75    3000   600     950   1263        0  \n",
       "4451      90    3500     0     500    963        1  \n",
       "4452     140       0     0     550    550        0  \n",
       "4453     140    4000  1000    1350   1650        0  \n",
       "\n",
       "[4454 rows x 14 columns]"
      ]
     },
     "metadata": {},
     "execution_count": 8
    }
   ],
   "metadata": {}
  },
  {
   "cell_type": "code",
   "execution_count": 9,
   "source": [
    "len(df.dtypes.index)"
   ],
   "outputs": [
    {
     "output_type": "execute_result",
     "data": {
      "text/plain": [
       "14"
      ]
     },
     "metadata": {},
     "execution_count": 9
    }
   ],
   "metadata": {}
  },
  {
   "cell_type": "markdown",
   "source": [
    "\n",
    "## Your code\n",
    "\n",
    "What are the categorical variables? What are the numerical?\n"
   ],
   "metadata": {}
  },
  {
   "cell_type": "code",
   "execution_count": 10,
   "source": [
    "categorical = []\r\n",
    "numerical = []\r\n",
    "for i in range(len(df.dtypes.index)):\r\n",
    "\r\n",
    "    if df.dtypes.values[i] == object:\r\n",
    "        categorical.append(df.dtypes.index[i])\r\n",
    "    else:\r\n",
    "        numerical.append(df.dtypes.index[i])\r\n",
    "        \r\n",
    "\r\n",
    "\r\n",
    "    "
   ],
   "outputs": [],
   "metadata": {}
  },
  {
   "cell_type": "code",
   "execution_count": 11,
   "source": [
    "print(\"The categorical varaibles are : %s'\\n\\n'The numerical variables are : %s \" % (categorical,numerical))"
   ],
   "outputs": [
    {
     "output_type": "stream",
     "name": "stdout",
     "text": [
      "The categorical varaibles are : ['home', 'marital', 'records', 'job']'\n",
      "\n",
      "'The numerical variables are : ['seniority', 'time', 'age', 'expenses', 'income', 'assets', 'debt', 'amount', 'price', 'default'] \n"
     ]
    }
   ],
   "metadata": {}
  },
  {
   "cell_type": "markdown",
   "source": [
    "\n",
    "\n",
    "Split the data into 3 parts: train/validation/test with 60%/20%/20% distribution. Use train_test_split funciton for that with random_state=1\n"
   ],
   "metadata": {}
  },
  {
   "cell_type": "code",
   "execution_count": 12,
   "source": [
    "from sklearn.model_selection import train_test_split"
   ],
   "outputs": [],
   "metadata": {}
  },
  {
   "cell_type": "code",
   "execution_count": 13,
   "source": [
    "df_full_train,df_test = train_test_split(df,test_size = 0.2,random_state = 1)"
   ],
   "outputs": [],
   "metadata": {}
  },
  {
   "cell_type": "code",
   "execution_count": 14,
   "source": [
    "df_train,df_val = train_test_split(df_full_train,test_size=0.25,random_state=1)"
   ],
   "outputs": [],
   "metadata": {}
  },
  {
   "cell_type": "code",
   "execution_count": 15,
   "source": [
    "len(df_train),len(df_val),len(df_test)"
   ],
   "outputs": [
    {
     "output_type": "execute_result",
     "data": {
      "text/plain": [
       "(2672, 891, 891)"
      ]
     },
     "metadata": {},
     "execution_count": 15
    }
   ],
   "metadata": {}
  },
  {
   "cell_type": "code",
   "execution_count": 16,
   "source": [
    "#resetindex\r\n",
    "df_train = df_train.reset_index(drop=True)\r\n",
    "df_val = df_val.reset_index(drop=True)\r\n",
    "df_test = df_test.reset_index(drop=True)\r\n",
    "\r\n",
    "#target_variables\r\n",
    "y_train = df_train.default.values\r\n",
    "y_val = df_val.default.values\r\n",
    "y_test = df_test.default.values\r\n",
    "\r\n",
    "#delete_target_values_from_dataframe\r\n",
    "del df_train['default']\r\n",
    "del df_val['default']\r\n",
    "del df_test['default']\r\n"
   ],
   "outputs": [],
   "metadata": {}
  },
  {
   "cell_type": "markdown",
   "source": [
    "## Question 1 \n",
    "\n",
    "ROC AUC could also be used to evaluate feature importance of numerical variables.\n",
    "\n",
    "Let's do that\n",
    "\n",
    "    For each numerical variable, use it as score and compute AUC with the default variable\n",
    "    Use the training dataset for that\n",
    "\n",
    "If your AUC is < 0.5, invert this variable by putting \"-\" in front\n",
    "\n",
    "(e.g. -df_train['expenses'])\n",
    "\n",
    "AUC can go below 0.5 if the variable is negatively correlated with the target varialble. You can change the direction of the correlation by negating this variable - then negative correlation becomes positive.\n"
   ],
   "metadata": {}
  },
  {
   "cell_type": "code",
   "execution_count": 17,
   "source": [
    "from sklearn.metrics import roc_auc_score"
   ],
   "outputs": [],
   "metadata": {}
  },
  {
   "cell_type": "code",
   "execution_count": 18,
   "source": [
    "from sklearn.metrics import roc_curve"
   ],
   "outputs": [],
   "metadata": {}
  },
  {
   "cell_type": "code",
   "execution_count": 19,
   "source": [
    "auc_seniority = roc_auc_score(y_train,-df_train['seniority'])\r\n",
    "auc_seniority"
   ],
   "outputs": [
    {
     "output_type": "execute_result",
     "data": {
      "text/plain": [
       "0.7093778624491943"
      ]
     },
     "metadata": {},
     "execution_count": 19
    }
   ],
   "metadata": {}
  },
  {
   "cell_type": "code",
   "execution_count": 20,
   "source": [
    "auc_time = roc_auc_score(y_train,df_train['time'])\r\n",
    "auc_time"
   ],
   "outputs": [
    {
     "output_type": "execute_result",
     "data": {
      "text/plain": [
       "0.5608662489595051"
      ]
     },
     "metadata": {},
     "execution_count": 20
    }
   ],
   "metadata": {}
  },
  {
   "cell_type": "code",
   "execution_count": 21,
   "source": [
    "auc_income = roc_auc_score(y_train,-df_train['income'])\r\n",
    "auc_income"
   ],
   "outputs": [
    {
     "output_type": "execute_result",
     "data": {
      "text/plain": [
       "0.682006666132633"
      ]
     },
     "metadata": {},
     "execution_count": 21
    }
   ],
   "metadata": {}
  },
  {
   "cell_type": "code",
   "execution_count": 22,
   "source": [
    "auc_debt = roc_auc_score(y_train,-df_train['debt'])\r\n",
    "auc_debt"
   ],
   "outputs": [
    {
     "output_type": "execute_result",
     "data": {
      "text/plain": [
       "0.5047829675783548"
      ]
     },
     "metadata": {},
     "execution_count": 22
    }
   ],
   "metadata": {}
  },
  {
   "cell_type": "markdown",
   "source": [
    "\n",
    "\n",
    "Which numerical variable (among the following 4) has the highest AUC?\n",
    "\n",
    "    seniority\n",
    "    time\n",
    "    income\n",
    "    debt\n",
    "\n"
   ],
   "metadata": {}
  },
  {
   "cell_type": "code",
   "execution_count": 23,
   "source": [
    "print(\"The highest AUC is : %s\\n\\nThe numerical variable with highest AUC is : %s\" % (round(max(auc_seniority,auc_time,auc_income,auc_debt),3),\"seniority\"))"
   ],
   "outputs": [
    {
     "output_type": "stream",
     "name": "stdout",
     "text": [
      "The highest AUC is : 0.709\n",
      "\n",
      "The numerical variable with highest AUC is : seniority\n"
     ]
    }
   ],
   "metadata": {}
  },
  {
   "cell_type": "markdown",
   "source": [
    "\n",
    "## Training the model\n",
    "\n",
    "From now on, use these columns only:\n",
    "\n",
    "['seniority', 'income', 'assets', 'records', 'job', 'home']\n",
    "\n",
    "Apply one-hot-encoding using DictVectorizer and train the logistic regression with these parameters:\n",
    "\n",
    "LogisticRegression(solver='liblinear', C=1.0, max_iter=1000)\n",
    "\n"
   ],
   "metadata": {}
  },
  {
   "cell_type": "code",
   "execution_count": 24,
   "source": [
    "#one-hot-encoding with sklearn\r\n",
    "from sklearn.feature_extraction import DictVectorizer"
   ],
   "outputs": [],
   "metadata": {}
  },
  {
   "cell_type": "code",
   "execution_count": 25,
   "source": [
    "#declaring numerical variables\r\n",
    "numerical = ['seniority', 'income', 'assets']"
   ],
   "outputs": [],
   "metadata": {}
  },
  {
   "cell_type": "code",
   "execution_count": 26,
   "source": [
    "#declaring categorical variables\r\n",
    "\r\n",
    "categorical = ['home', 'records', 'job']"
   ],
   "outputs": [],
   "metadata": {}
  },
  {
   "cell_type": "code",
   "execution_count": 27,
   "source": [
    "#storing the training set in a dictionary\r\n",
    "train_dicts = df_train[categorical + numerical].to_dict(orient='records')\r\n"
   ],
   "outputs": [],
   "metadata": {}
  },
  {
   "cell_type": "code",
   "execution_count": 28,
   "source": [
    "#creating the variable for one hot encoding method function DictVectorizer\r\n",
    "dv = DictVectorizer(sparse = False)"
   ],
   "outputs": [],
   "metadata": {}
  },
  {
   "cell_type": "code",
   "execution_count": 29,
   "source": [
    "#calling the moethod function to ohe the training dictionary\r\n",
    "dv.fit(train_dicts)\r\n",
    "\r\n",
    "#training data set is transformed with ohe\r\n",
    "X_train = dv.transform(train_dicts)"
   ],
   "outputs": [],
   "metadata": {}
  },
  {
   "cell_type": "code",
   "execution_count": 30,
   "source": [
    "dv.get_feature_names()"
   ],
   "outputs": [
    {
     "output_type": "execute_result",
     "data": {
      "text/plain": [
       "['assets',\n",
       " 'home=ignore',\n",
       " 'home=other',\n",
       " 'home=owner',\n",
       " 'home=parents',\n",
       " 'home=private',\n",
       " 'home=rent',\n",
       " 'home=unk',\n",
       " 'income',\n",
       " 'job=fixed',\n",
       " 'job=freelance',\n",
       " 'job=others',\n",
       " 'job=partime',\n",
       " 'job=unk',\n",
       " 'records=no',\n",
       " 'records=yes',\n",
       " 'seniority']"
      ]
     },
     "metadata": {},
     "execution_count": 30
    }
   ],
   "metadata": {}
  },
  {
   "cell_type": "code",
   "execution_count": 31,
   "source": [
    "X_train"
   ],
   "outputs": [
    {
     "output_type": "execute_result",
     "data": {
      "text/plain": [
       "array([[0.0e+00, 0.0e+00, 0.0e+00, ..., 1.0e+00, 0.0e+00, 1.2e+01],\n",
       "       [0.0e+00, 0.0e+00, 1.0e+00, ..., 1.0e+00, 0.0e+00, 4.0e+00],\n",
       "       [6.0e+03, 0.0e+00, 0.0e+00, ..., 1.0e+00, 0.0e+00, 0.0e+00],\n",
       "       ...,\n",
       "       [0.0e+00, 0.0e+00, 0.0e+00, ..., 0.0e+00, 1.0e+00, 9.0e+00],\n",
       "       [3.0e+03, 0.0e+00, 0.0e+00, ..., 1.0e+00, 0.0e+00, 0.0e+00],\n",
       "       [0.0e+00, 0.0e+00, 0.0e+00, ..., 1.0e+00, 0.0e+00, 8.0e+00]])"
      ]
     },
     "metadata": {},
     "execution_count": 31
    }
   ],
   "metadata": {}
  },
  {
   "cell_type": "code",
   "execution_count": 32,
   "source": [
    "#storing the valdiation set in a dictionary\r\n",
    "\r\n",
    "val_dicts = df_val[categorical+numerical].to_dict(orient='records')"
   ],
   "outputs": [],
   "metadata": {}
  },
  {
   "cell_type": "code",
   "execution_count": 33,
   "source": [
    "#validation data set is transformed with ohe\r\n",
    "X_val = dv.transform(val_dicts)"
   ],
   "outputs": [],
   "metadata": {}
  },
  {
   "cell_type": "code",
   "execution_count": 34,
   "source": [
    "from sklearn.linear_model import LogisticRegression"
   ],
   "outputs": [],
   "metadata": {}
  },
  {
   "cell_type": "code",
   "execution_count": 35,
   "source": [
    "#model function\r\n",
    "model = LogisticRegression(solver='liblinear', C=1.0, max_iter=1000)"
   ],
   "outputs": [],
   "metadata": {}
  },
  {
   "cell_type": "code",
   "execution_count": 36,
   "source": [
    "#We fit the model with X_train,y_train\r\n",
    "model.fit(X_train,y_train)"
   ],
   "outputs": [
    {
     "output_type": "execute_result",
     "data": {
      "text/plain": [
       "LogisticRegression(max_iter=1000, solver='liblinear')"
      ]
     },
     "metadata": {},
     "execution_count": 36
    }
   ],
   "metadata": {}
  },
  {
   "cell_type": "code",
   "execution_count": 37,
   "source": [
    "#bias_term\r\n",
    "model.intercept_"
   ],
   "outputs": [
    {
     "output_type": "execute_result",
     "data": {
      "text/plain": [
       "array([0.75439549])"
      ]
     },
     "metadata": {},
     "execution_count": 37
    }
   ],
   "metadata": {}
  },
  {
   "cell_type": "code",
   "execution_count": 38,
   "source": [
    "#weights_terms\r\n",
    "model.coef_\r\n"
   ],
   "outputs": [
    {
     "output_type": "execute_result",
     "data": {
      "text/plain": [
       "array([[-2.28850834e-05,  3.57322053e-02,  4.93568561e-01,\n",
       "        -3.84683890e-01, -1.89330776e-01,  3.00635185e-01,\n",
       "         4.88863793e-01,  9.61040778e-03, -6.93661563e-03,\n",
       "        -3.49659768e-01,  1.03760029e-01,  7.70706125e-02,\n",
       "         9.14944122e-01,  8.28049274e-03, -5.05444320e-01,\n",
       "         1.25983981e+00, -8.12033050e-02]])"
      ]
     },
     "metadata": {},
     "execution_count": 38
    }
   ],
   "metadata": {}
  },
  {
   "cell_type": "code",
   "execution_count": 39,
   "source": [
    "#The target feature is predicted with valdiation set\r\n",
    "y_pred = model.predict_proba(X_val)[:,1]"
   ],
   "outputs": [],
   "metadata": {}
  },
  {
   "cell_type": "code",
   "execution_count": 40,
   "source": [
    "from sklearn.metrics import roc_curve"
   ],
   "outputs": [],
   "metadata": {}
  },
  {
   "cell_type": "code",
   "execution_count": 41,
   "source": [
    "fpr,tpr,thresholds= roc_curve(y_val,y_pred)"
   ],
   "outputs": [],
   "metadata": {}
  },
  {
   "cell_type": "code",
   "execution_count": 42,
   "source": [
    "from sklearn.metrics import auc"
   ],
   "outputs": [],
   "metadata": {}
  },
  {
   "cell_type": "code",
   "execution_count": 43,
   "source": [
    "auc(fpr,tpr)"
   ],
   "outputs": [
    {
     "output_type": "execute_result",
     "data": {
      "text/plain": [
       "0.8120879813449298"
      ]
     },
     "metadata": {},
     "execution_count": 43
    }
   ],
   "metadata": {}
  },
  {
   "cell_type": "markdown",
   "source": [
    "\n",
    "## Question 2\n",
    "\n",
    "What's the AUC of this model on the validation dataset? (round to 3 digits)\n",
    "\n",
    "    0.512\n",
    "    0.612\n",
    "    0.712\n",
    "    0.812\n",
    "\n"
   ],
   "metadata": {}
  },
  {
   "cell_type": "code",
   "execution_count": 44,
   "source": [
    "print(\"AUC of this model on the validation dataset : %s\" % round(auc(fpr,tpr),3))"
   ],
   "outputs": [
    {
     "output_type": "stream",
     "name": "stdout",
     "text": [
      "AUC of this model on the validation dataset : 0.812\n"
     ]
    }
   ],
   "metadata": {}
  },
  {
   "cell_type": "markdown",
   "source": [
    "\n",
    "## Question 3\n",
    "\n",
    "Now let's compute precision and recall for our model.\n",
    "\n",
    "    Evaluate the model on all thresholds from 0.0 to 1.0 with step 0.01\n",
    "    For each threshold, compute precision and recall\n",
    "    Plot them\n",
    "\n"
   ],
   "metadata": {}
  },
  {
   "cell_type": "code",
   "execution_count": 45,
   "source": [
    "#Creating the thresholds variable\r\n",
    "thresholds = np.linspace(0,1,11)"
   ],
   "outputs": [],
   "metadata": {}
  },
  {
   "cell_type": "code",
   "execution_count": 46,
   "source": [
    "thresholds"
   ],
   "outputs": [
    {
     "output_type": "execute_result",
     "data": {
      "text/plain": [
       "array([0. , 0.1, 0.2, 0.3, 0.4, 0.5, 0.6, 0.7, 0.8, 0.9, 1. ])"
      ]
     },
     "metadata": {},
     "execution_count": 46
    }
   ],
   "metadata": {}
  },
  {
   "cell_type": "code",
   "execution_count": 47,
   "source": [
    "\r\n",
    "#Actual outcome\r\n",
    "actual_positive = (y_val ==1)\r\n",
    "actual_negative = (y_val ==0)\r\n",
    "\r\n",
    "#Predicted outcome        \r\n",
    "predict_positve = (y_pred>=0.9)\r\n",
    "predict_negative = (y_pred<0.9)\r\n",
    "        \r\n"
   ],
   "outputs": [],
   "metadata": {}
  },
  {
   "cell_type": "code",
   "execution_count": 48,
   "source": [
    "#TP,FP,TN,FN are calculated\r\n",
    "\r\n",
    "true_positive = (predict_positve & actual_positive).sum()\r\n",
    "false_positive =( predict_positve & actual_negative).sum()\r\n",
    "        \r\n",
    "true_negative = (predict_negative & actual_negative).sum()\r\n",
    "false_negative = (predict_negative & actual_positive).sum()\r\n",
    "        \r\n"
   ],
   "outputs": [],
   "metadata": {}
  },
  {
   "cell_type": "code",
   "execution_count": 49,
   "source": [
    "#Precision is calculated\r\n",
    "precision = true_positive/(true_positive+false_positive)\r\n"
   ],
   "outputs": [],
   "metadata": {}
  },
  {
   "cell_type": "code",
   "execution_count": 50,
   "source": [
    "#Recall is calculated\r\n",
    "recall = true_positive/(true_positive+false_negative)"
   ],
   "outputs": [],
   "metadata": {}
  },
  {
   "cell_type": "code",
   "execution_count": 51,
   "source": [
    "#Functionto calculate precision and recall iterated through different thresholds\r\n",
    "\r\n",
    "def prec_rec(y_val,y_pred):\r\n",
    "    thresholds = np.linspace(0,1,11)\r\n",
    "    threshold_precision_recall = []\r\n",
    "    precision_values = []\r\n",
    "    recall_values = []\r\n",
    "    \r\n",
    "    for t in thresholds:\r\n",
    "        actual_positive = (y_val ==1)\r\n",
    "        actual_negative = (y_val ==0)\r\n",
    "        \r\n",
    "        predict_positve = (y_pred>=t)\r\n",
    "        predict_negative = (y_pred<t)\r\n",
    "        \r\n",
    "        true_positive = (predict_positve & actual_positive).sum()\r\n",
    "        false_positive =(predict_positve & actual_negative).sum()\r\n",
    "        \r\n",
    "        true_negative = (predict_negative & actual_negative).sum()\r\n",
    "        false_negative = (predict_negative & actual_positive).sum()\r\n",
    "        \r\n",
    "        if (true_positive + false_positive)==0 or (true_positive+false_negative) ==0 :\r\n",
    "            print(\"Zero Division Error for t = %s\" % t)\r\n",
    "        else:\r\n",
    "            precision = true_positive/(true_positive + false_positive)\r\n",
    "            recall = true_positive/(true_positive+false_negative)\r\n",
    "\r\n",
    "            threshold_precision_recall.append((t,precision,recall))\r\n",
    "            precision_values.append(precision)\r\n",
    "            recall_values.append(recall)\r\n",
    "            \r\n",
    "\r\n",
    "        \r\n",
    "    return threshold_precision_recall,precision_values,recall_values\r\n",
    "    \r\n",
    "    \r\n"
   ],
   "outputs": [],
   "metadata": {}
  },
  {
   "cell_type": "code",
   "execution_count": 52,
   "source": [
    "#The thresholds and the corresponding Precision and Recall values are gathered as input from the function prec_rec()\r\n",
    "threshold_precision_recall,precision_values,recall_values = prec_rec(y_val,y_pred)"
   ],
   "outputs": [
    {
     "output_type": "stream",
     "name": "stdout",
     "text": [
      "Zero Division Error for t = 1.0\n"
     ]
    }
   ],
   "metadata": {}
  },
  {
   "cell_type": "code",
   "execution_count": 53,
   "source": [
    "#Precision Values\r\n",
    "precision_values"
   ],
   "outputs": [
    {
     "output_type": "execute_result",
     "data": {
      "text/plain": [
       "[0.2760942760942761,\n",
       " 0.34558823529411764,\n",
       " 0.4460580912863071,\n",
       " 0.5358166189111748,\n",
       " 0.5833333333333334,\n",
       " 0.6404494382022472,\n",
       " 0.6724137931034483,\n",
       " 0.6981132075471698,\n",
       " 0.8076923076923077,\n",
       " 0.75]"
      ]
     },
     "metadata": {},
     "execution_count": 53
    }
   ],
   "metadata": {}
  },
  {
   "cell_type": "code",
   "execution_count": 54,
   "source": [
    "#Recall Values\r\n",
    "recall_values"
   ],
   "outputs": [
    {
     "output_type": "execute_result",
     "data": {
      "text/plain": [
       "[1.0,\n",
       " 0.9552845528455285,\n",
       " 0.8739837398373984,\n",
       " 0.7601626016260162,\n",
       " 0.5691056910569106,\n",
       " 0.4634146341463415,\n",
       " 0.3170731707317073,\n",
       " 0.15040650406504066,\n",
       " 0.08536585365853659,\n",
       " 0.024390243902439025]"
      ]
     },
     "metadata": {},
     "execution_count": 54
    }
   ],
   "metadata": {}
  },
  {
   "cell_type": "code",
   "execution_count": 55,
   "source": [
    "thresholds[:-1]"
   ],
   "outputs": [
    {
     "output_type": "execute_result",
     "data": {
      "text/plain": [
       "array([0. , 0.1, 0.2, 0.3, 0.4, 0.5, 0.6, 0.7, 0.8, 0.9])"
      ]
     },
     "metadata": {},
     "execution_count": 55
    }
   ],
   "metadata": {}
  },
  {
   "cell_type": "code",
   "execution_count": 56,
   "source": [
    "#Plotting the Precision and Recall values across different thresholds\r\n",
    "plt.plot(thresholds[:-1],precision_values,label='Precision')\r\n",
    "plt.plot(thresholds[:-1],recall_values,label='Recall')\r\n",
    "\r\n",
    "plt.xlabel('Thresholds')\r\n",
    "plt.ylabel('Values')\r\n",
    "\r\n",
    "plt.legend()\r\n",
    "plt.show()\r\n"
   ],
   "outputs": [
    {
     "output_type": "display_data",
     "data": {
      "image/png": "[encoded data removed]",
      "text/plain": [
       "<Figure size 432x288 with 1 Axes>"
      ]
     },
     "metadata": {
      "needs_background": "light"
     }
    }
   ],
   "metadata": {}
  },
  {
   "cell_type": "markdown",
   "source": [
    "\n",
    "\n",
    "At which threshold precision and recall curves intersect?\n",
    "\n",
    "    0.2\n",
    "    0.4\n",
    "    0.6\n",
    "    0.8\n",
    "\n"
   ],
   "metadata": {}
  },
  {
   "cell_type": "code",
   "execution_count": 57,
   "source": [
    "print(\"The threshold at which precision and recall curves intersect is : %s\" % 0.4)"
   ],
   "outputs": [
    {
     "output_type": "stream",
     "name": "stdout",
     "text": [
      "The threshold at which precision and recall curves intersect is : 0.4\n"
     ]
    }
   ],
   "metadata": {}
  },
  {
   "cell_type": "markdown",
   "source": [
    "\n",
    "## Question 4\n",
    "\n",
    "Precision and recall are conflicting - when one grows, the other goes down. That's why they are often combined into the F1 score - a metrics that takes into account both\n",
    "\n",
    "This is the formula for computing F1:\n",
    "F1 = 2*((P*R)/(P+R))\n",
    "Where P is precision and R is recall.\n",
    "\n",
    "Let's compute F1 for all thresholds from 0.0 to 1.0 with increment 0.01\n"
   ],
   "metadata": {}
  },
  {
   "cell_type": "code",
   "execution_count": 58,
   "source": [
    "#Function to calculate F1 Scores iterated through different thresholds\r\n",
    "def prec_rec_f1(y_val,y_pred):\r\n",
    "    thresholds = np.linspace(0,1,11)\r\n",
    "    f1_scores = []\r\n",
    "    t_f1 = []\r\n",
    "    \r\n",
    "    for t in thresholds:\r\n",
    "        actual_positive = (y_val ==1)\r\n",
    "        actual_negative = (y_val ==0)\r\n",
    "        \r\n",
    "        predict_positve = (y_pred>=t)\r\n",
    "        predict_negative = (y_pred<t)\r\n",
    "        \r\n",
    "        true_positive = (predict_positve & actual_positive).sum()\r\n",
    "        false_positive =(predict_positve & actual_negative).sum()\r\n",
    "        \r\n",
    "        true_negative = (predict_negative & actual_negative).sum()\r\n",
    "        false_negative = (predict_negative & actual_positive).sum()\r\n",
    "        \r\n",
    "        if (true_positive + false_positive)==0 or (true_positive+false_negative) ==0 :\r\n",
    "            print(\"Zero Division Error for t = %s\" % t)\r\n",
    "        else:\r\n",
    "            precision = true_positive/(true_positive + false_positive)\r\n",
    "            recall = true_positive/(true_positive+false_negative)\r\n",
    "            \r\n",
    "            F1 = 2*((precision*recall)/(precision+recall))\r\n",
    "            \r\n",
    "            f1_scores.append(F1)\r\n",
    "            t_f1.append((t,F1))\r\n",
    "            \r\n",
    "\r\n",
    "        \r\n",
    "    return f1_scores,t_f1\r\n",
    "    "
   ],
   "outputs": [],
   "metadata": {}
  },
  {
   "cell_type": "code",
   "execution_count": 59,
   "source": [
    "#The F1 Scores are gathered as input from the function prec_rec_f1()\r\n",
    "f1_scores,t_f1 = prec_rec_f1(y_val,y_pred)"
   ],
   "outputs": [
    {
     "output_type": "stream",
     "name": "stdout",
     "text": [
      "Zero Division Error for t = 1.0\n"
     ]
    }
   ],
   "metadata": {}
  },
  {
   "cell_type": "code",
   "execution_count": 60,
   "source": [
    "t_f1[1]"
   ],
   "outputs": [
    {
     "output_type": "execute_result",
     "data": {
      "text/plain": [
       "(0.1, 0.5075593952483801)"
      ]
     },
     "metadata": {},
     "execution_count": 60
    }
   ],
   "metadata": {}
  },
  {
   "cell_type": "code",
   "execution_count": 61,
   "source": [
    "f1_scores"
   ],
   "outputs": [
    {
     "output_type": "execute_result",
     "data": {
      "text/plain": [
       "[0.43271767810026385,\n",
       " 0.5075593952483801,\n",
       " 0.5906593406593407,\n",
       " 0.6285714285714286,\n",
       " 0.5761316872427984,\n",
       " 0.5377358490566039,\n",
       " 0.430939226519337,\n",
       " 0.24749163879598665,\n",
       " 0.15441176470588236,\n",
       " 0.04724409448818898]"
      ]
     },
     "metadata": {},
     "execution_count": 61
    }
   ],
   "metadata": {}
  },
  {
   "cell_type": "markdown",
   "source": [
    "\n",
    "\n",
    "At which threshold F1 is maximal?\n",
    "\n",
    "    0.1\n",
    "    0.3\n",
    "    0.5\n",
    "    0.7\n",
    "\n"
   ],
   "metadata": {}
  },
  {
   "cell_type": "code",
   "execution_count": 62,
   "source": [
    "x = []\r\n",
    "for i in t_f1:\r\n",
    "    x.append(i[1])\r\n",
    "    \r\n",
    "    if len(x) == len(t_f1):\r\n",
    "        max_f1 = max(x)\r\n",
    "        \r\n",
    "        for j in t_f1:\r\n",
    "            if (j)[1] ==  max_f1:\r\n",
    "                print(\"The max F1 score is %s and the corresponding threshold is %s\" %(max_f1,round(((j)[0]),2)))\r\n",
    "                \r\n",
    "        \r\n",
    "   \r\n",
    "        \r\n",
    "\r\n",
    "    \r\n",
    "    "
   ],
   "outputs": [
    {
     "output_type": "stream",
     "name": "stdout",
     "text": [
      "The max F1 score is 0.6285714285714286 and the corresponding threshold is 0.3\n"
     ]
    }
   ],
   "metadata": {}
  },
  {
   "cell_type": "markdown",
   "source": [
    "\n",
    "## Question 5\n",
    "\n",
    "Use the KFold class from Scikit-Learn to evaluate our model on 5 different folds:\n",
    "\n",
    "KFold(n_splits=5, shuffle=True, random_state=1)\n",
    "\n",
    "    Iterate over different folds of df_full_train\n",
    "    Split the data into train and validation\n",
    "    Train the model on train with these parameters: LogisticRegression(solver='liblinear', C=1.0, max_iter=1000)\n",
    "    Use AUC to evaluate the model on validation\n",
    "\n"
   ],
   "metadata": {}
  },
  {
   "cell_type": "code",
   "execution_count": 63,
   "source": [
    "#KFold class is imported from sci-kit learn\r\n",
    "from sklearn.model_selection import KFold"
   ],
   "outputs": [],
   "metadata": {}
  },
  {
   "cell_type": "code",
   "execution_count": 64,
   "source": [
    "#tqdm is imported\r\n",
    "from tqdm.auto import tqdm"
   ],
   "outputs": [],
   "metadata": {}
  },
  {
   "cell_type": "code",
   "execution_count": 65,
   "source": [
    "#Function to train the model\r\n",
    "def train(df_train,y_train,C):\r\n",
    "    dicts = df_train[categorical + numerical].to_dict(orient='records')\r\n",
    "\r\n",
    "    dv = DictVectorizer(sparse=False)\r\n",
    "    X_train = dv.fit_transform(dicts)\r\n",
    "\r\n",
    "    model = LogisticRegression(solver='liblinear',C=C,max_iter=1000)\r\n",
    "    model.fit(X_train,y_train)\r\n",
    "\r\n",
    "    return dv,model"
   ],
   "outputs": [],
   "metadata": {}
  },
  {
   "cell_type": "code",
   "execution_count": 66,
   "source": [
    "#Function to predict the model\r\n",
    "def predict(df_val,dv,model):\r\n",
    "    dicts = df_val[categorical + numerical].to_dict(orient='records')\r\n",
    "\r\n",
    "    X = dv.transform(dicts)\r\n",
    "\r\n",
    "    y_pred = model.predict_proba(X)[:,1]\r\n",
    "\r\n",
    "    return y_pred"
   ],
   "outputs": [],
   "metadata": {}
  },
  {
   "cell_type": "code",
   "execution_count": 67,
   "source": [
    "#Function to train the model and evaluate AUC in the validation set using KFold - n_splits set to 5\r\n",
    "n_splits = 5\r\n",
    "\r\n",
    "kfold = KFold(n_splits=n_splits, shuffle=True, random_state=1)\r\n",
    "\r\n",
    "Auc_Scores = []\r\n",
    "n_split = 0\r\n",
    "\r\n",
    "for train_idx, val_idx in kfold.split(df_full_train):\r\n",
    "    df_train = df_full_train.iloc[train_idx]\r\n",
    "    df_val = df_full_train.iloc[val_idx]\r\n",
    "\r\n",
    "    y_train = df_train.default.values\r\n",
    "    y_val = df_val.default.values\r\n",
    "\r\n",
    "    dv, model = train(df_train, y_train, C=1.0)\r\n",
    "    y_pred = predict(df_val, dv, model)\r\n",
    "\r\n",
    "    Auc_Score = roc_auc_score(y_val, y_pred)\r\n",
    "    Auc_Scores.append(Auc_Score)\r\n",
    "    n_split = n_split + 1\r\n",
    "    \r\n",
    "    \r\n",
    "    print('n_split=%s %.3f +- %.3f' % (n_split, np.mean(Auc_Scores), np.std(Auc_Scores)))\r\n",
    "        \r\n"
   ],
   "outputs": [
    {
     "output_type": "stream",
     "name": "stdout",
     "text": [
      "n_split=1 0.826 +- 0.000\n",
      "n_split=2 0.826 +- 0.000\n",
      "n_split=3 0.813 +- 0.017\n",
      "n_split=4 0.814 +- 0.015\n",
      "n_split=5 0.812 +- 0.014\n"
     ]
    }
   ],
   "metadata": {}
  },
  {
   "cell_type": "markdown",
   "source": [
    "\n",
    "\n",
    "How large is standard devidation of the scores across different folds?\n",
    "\n",
    "    0.001\n",
    "    0.014\n",
    "    0.09\n",
    "    0.14\n",
    "\n"
   ],
   "metadata": {}
  },
  {
   "cell_type": "code",
   "execution_count": 68,
   "source": [
    "print(\"Standard devidation of the scores across different folds : %s\" % round(np.std(Auc_Scores),3))"
   ],
   "outputs": [
    {
     "output_type": "stream",
     "name": "stdout",
     "text": [
      "Standard devidation of the scores across different folds : 0.014\n"
     ]
    }
   ],
   "metadata": {}
  },
  {
   "cell_type": "markdown",
   "source": [
    "\n",
    "## Question 6\n",
    "\n",
    "Now let's use 5-Fold cross-validation to find the best parameter C\n",
    "\n",
    "    Iterate over the following C values: [0.01, 0.1, 1, 10]\n",
    "    Use these parametes for the model: LogisticRegression(solver='liblinear', C=C, max_iter=1000)\n",
    "    Compute the mean score as well as the std\n",
    "\n"
   ],
   "metadata": {}
  },
  {
   "cell_type": "code",
   "execution_count": 69,
   "source": [
    "#Function to train the model and evaluate AUC in the validation set using KFold - n_splits set to 5 iterated through different C parameters\r\n",
    "n_splits = 5\r\n",
    "\r\n",
    "for C in tqdm([0.01, 0.1, 1, 10]):\r\n",
    "    kfold = KFold(n_splits=n_splits, shuffle=True, random_state=1)\r\n",
    "\r\n",
    "    Auc_Scores = []\r\n",
    "\r\n",
    "    for train_idx, val_idx in kfold.split(df_full_train):\r\n",
    "        df_train = df_full_train.iloc[train_idx]\r\n",
    "        df_val = df_full_train.iloc[val_idx]\r\n",
    "\r\n",
    "        y_train = df_train.default.values\r\n",
    "        y_val = df_val.default.values\r\n",
    "\r\n",
    "        dv, model = train(df_train, y_train, C=C)\r\n",
    "        y_pred = predict(df_val, dv, model)\r\n",
    "\r\n",
    "        Auc_Score = roc_auc_score(y_val, y_pred)\r\n",
    "        Auc_Scores.append(Auc_Score)\r\n",
    "\r\n",
    "    print('C=%s %.3f +- %.3f' % (C, np.mean(Auc_Scores), np.std(Auc_Scores)))"
   ],
   "outputs": [
    {
     "output_type": "stream",
     "name": "stderr",
     "text": [
      " 25%|██▌       | 1/4 [00:00<00:01,  2.33it/s]"
     ]
    },
    {
     "output_type": "stream",
     "name": "stdout",
     "text": [
      "C=0.01 0.809 +- 0.013\n"
     ]
    },
    {
     "output_type": "stream",
     "name": "stderr",
     "text": [
      " 50%|█████     | 2/4 [00:00<00:00,  2.43it/s]"
     ]
    },
    {
     "output_type": "stream",
     "name": "stdout",
     "text": [
      "C=0.1 0.812 +- 0.013\n"
     ]
    },
    {
     "output_type": "stream",
     "name": "stderr",
     "text": [
      " 75%|███████▌  | 3/4 [00:01<00:00,  2.52it/s]"
     ]
    },
    {
     "output_type": "stream",
     "name": "stdout",
     "text": [
      "C=1 0.812 +- 0.014\n"
     ]
    },
    {
     "output_type": "stream",
     "name": "stderr",
     "text": [
      "100%|██████████| 4/4 [00:01<00:00,  2.52it/s]"
     ]
    },
    {
     "output_type": "stream",
     "name": "stdout",
     "text": [
      "C=10 0.814 +- 0.015\n"
     ]
    },
    {
     "output_type": "stream",
     "name": "stderr",
     "text": [
      "\n"
     ]
    }
   ],
   "metadata": {}
  },
  {
   "cell_type": "markdown",
   "source": [
    "\n",
    "\n",
    "Which C leads to the best mean score?\n",
    "\n",
    "    0.01\n",
    "    0.1\n",
    "    1\n",
    "    10\n",
    "\n",
    "If you have ties, select the score with the lowest std. If you still have ties, select the smallest C\n"
   ],
   "metadata": {}
  }
 ],
 "metadata": {
  "interpreter": {
   "hash": "5bdb7f7284c8c3efca3079dc3ee26fe844c3e8ecee3e115ab282d93951a96fca"
  },
  "kernelspec": {
   "name": "python3",
   "display_name": "Python 3.8.0 64-bit ('tf2.6': conda)"
  },
  "language_info": {
   "codemirror_mode": {
    "name": "ipython",
    "version": 3
   },
   "file_extension": ".py",
   "mimetype": "text/x-python",
   "name": "python",
   "nbconvert_exporter": "python",
   "pygments_lexer": "ipython3",
   "version": "3.8.0"
  }
 },
 "nbformat": 4,
 "nbformat_minor": 2
}